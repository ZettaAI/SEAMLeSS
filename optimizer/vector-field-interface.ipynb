{
 "cells": [
  {
   "cell_type": "code",
   "execution_count": null,
   "metadata": {},
   "outputs": [],
   "source": [
    "!mkdir -p ~/.cloudvolume/secrets\n",
    "!cp /notebooks/*.json ~/.cloudvolume/secrets/\n",
    "!pip install cloud-volume\n",
    "!pip install scikit-image"
   ]
  },
  {
   "cell_type": "code",
   "execution_count": 47,
   "metadata": {},
   "outputs": [],
   "source": [
    "from cloudvolume import CloudVolume\n",
    "from cloudvolume.lib import Bbox, Vec\n",
    "import numpy as np\n",
    "import torch"
   ]
  },
  {
   "cell_type": "code",
   "execution_count": 43,
   "metadata": {},
   "outputs": [],
   "source": [
    "src = CloudVolume(\"gs://neuroglancer/basil_v0/son_of_alignment/v3.04/unmasked\", mip=2, \n",
    "                                                                parallel=2, fill_missing=True)\n",
    "info = src.info\n",
    "info['data_type'] = 'float32'\n",
    "info['num_channels'] = 2\n",
    "dst = CloudVolume(\"gs://neuroglancer/basil_v0/son_of_alignment/v3.04/optimizer_tests/vector_test\", mip=2, \n",
    "                                info=info, fill_missing=True, bounded=False, non_aligned_writes=True)\n",
    "dst.commit_info();"
   ]
  },
  {
   "cell_type": "code",
   "execution_count": 3,
   "metadata": {},
   "outputs": [],
   "source": [
    "offset = Vec(102716, 107077, 526)\n",
    "size = Vec(2048, 2048, 1)\n",
    "full_bbox = Bbox(offset, offset+size)\n",
    "src_bbox = Bbox.from_slices(src.slices_from_global_coords(full_bbox))"
   ]
  },
  {
   "cell_type": "code",
   "execution_count": 4,
   "metadata": {},
   "outputs": [],
   "source": [
    "def make_field(dim, k=-1):\n",
    "    field = torch.zeros((1,dim,dim,2))\n",
    "    for i in range(dim):\n",
    "        for j in range(dim):\n",
    "            if i < dim - j:\n",
    "                field[0,i,j,0] = 1*k\n",
    "                field[0,i,j,1] = 1*k\n",
    "            else:\n",
    "                field[0,i,j,0] = -1*k\n",
    "                field[0,i,j,1] = -1*k\n",
    "    return field"
   ]
  },
  {
   "cell_type": "code",
   "execution_count": 16,
   "metadata": {},
   "outputs": [],
   "source": [
    "field = make_field(int(src_bbox.size3()[0]))"
   ]
  },
  {
   "cell_type": "code",
   "execution_count": 25,
   "metadata": {},
   "outputs": [],
   "source": [
    "s = src_bbox.to_slices()"
   ]
  },
  {
   "cell_type": "code",
   "execution_count": 27,
   "metadata": {},
   "outputs": [
    {
     "data": {
      "text/plain": [
       "(slice(25679, 26191, None),\n",
       " slice(26769, 27281, None),\n",
       " slice(526, 527, None),\n",
       " slice(0, 2, None))"
      ]
     },
     "execution_count": 27,
     "metadata": {},
     "output_type": "execute_result"
    }
   ],
   "source": [
    "s + (slice(0,2),)"
   ]
  },
  {
   "cell_type": "code",
   "execution_count": 33,
   "metadata": {},
   "outputs": [],
   "source": [
    "vectors = field.permute(1,2,0,3).numpy()"
   ]
  },
  {
   "cell_type": "code",
   "execution_count": null,
   "metadata": {},
   "outputs": [],
   "source": [
    "def save_field(cv, bbox, field):\n",
    "    s = bbox.to_slices() + (slice(0,2),)\n",
    "    cv[s] = field.permute(1,2,0,3).numpy()    "
   ]
  },
  {
   "cell_type": "code",
   "execution_count": 45,
   "metadata": {},
   "outputs": [
    {
     "name": "stderr",
     "output_type": "stream",
     "text": [
      "Rechunking image: 0it [00:00, ?it/s]\n",
      "Uploading: 0it [00:00, ?it/s]\n",
      "Downloading:   0%|          | 0/4 [00:00<?, ?it/s]\n",
      "Rechunking image:   0%|          | 0/1 [00:00<?, ?it/s]\u001b[A\n",
      "\n",
      "Rechunking image:   0%|          | 0/1 [00:00<?, ?it/s]\u001b[A\u001b[A\n",
      "\n",
      "\n",
      "Rechunking image:   0%|          | 0/1 [00:00<?, ?it/s]\u001b[A\u001b[A\u001b[A\n",
      "\n",
      "\n",
      "\n",
      "Rechunking image:   0%|          | 0/1 [00:00<?, ?it/s]\u001b[A\u001b[A\u001b[A\u001b[A\n",
      "Rechunking image: 100%|██████████| 1/1 [00:00<00:00,  5.04it/s]\u001b[A\n",
      "Rechunking image: 100%|██████████| 1/1 [00:00<00:00,  5.60it/s]\u001b[A\n",
      "\u001b[A\n",
      "\u001b[A\n",
      "Rechunking image: 100%|██████████| 1/1 [00:00<00:00,  5.71it/s]\u001b[A\n",
      "\u001b[A\n",
      "Rechunking image: 100%|██████████| 1/1 [00:00<00:00,  3.55it/s]\u001b[A\n",
      "\u001b[A\n"
     ]
    }
   ],
   "source": [
    "dst[s + (slice(0,2),)] = field.permute(1,2,0,3).numpy()"
   ]
  },
  {
   "cell_type": "code",
   "execution_count": 46,
   "metadata": {},
   "outputs": [
    {
     "data": {
      "text/plain": [
       "array([[[[-1., -1.]],\n",
       "\n",
       "        [[-1., -1.]],\n",
       "\n",
       "        [[-1., -1.]],\n",
       "\n",
       "        ...,\n",
       "\n",
       "        [[-1., -1.]],\n",
       "\n",
       "        [[-1., -1.]],\n",
       "\n",
       "        [[-1., -1.]]],\n",
       "\n",
       "\n",
       "       [[[-1., -1.]],\n",
       "\n",
       "        [[-1., -1.]],\n",
       "\n",
       "        [[-1., -1.]],\n",
       "\n",
       "        ...,\n",
       "\n",
       "        [[-1., -1.]],\n",
       "\n",
       "        [[-1., -1.]],\n",
       "\n",
       "        [[ 1.,  1.]]],\n",
       "\n",
       "\n",
       "       [[[-1., -1.]],\n",
       "\n",
       "        [[-1., -1.]],\n",
       "\n",
       "        [[-1., -1.]],\n",
       "\n",
       "        ...,\n",
       "\n",
       "        [[-1., -1.]],\n",
       "\n",
       "        [[ 1.,  1.]],\n",
       "\n",
       "        [[ 1.,  1.]]],\n",
       "\n",
       "\n",
       "       ...,\n",
       "\n",
       "\n",
       "       [[[-1., -1.]],\n",
       "\n",
       "        [[-1., -1.]],\n",
       "\n",
       "        [[-1., -1.]],\n",
       "\n",
       "        ...,\n",
       "\n",
       "        [[ 1.,  1.]],\n",
       "\n",
       "        [[ 1.,  1.]],\n",
       "\n",
       "        [[ 1.,  1.]]],\n",
       "\n",
       "\n",
       "       [[[-1., -1.]],\n",
       "\n",
       "        [[-1., -1.]],\n",
       "\n",
       "        [[ 1.,  1.]],\n",
       "\n",
       "        ...,\n",
       "\n",
       "        [[ 1.,  1.]],\n",
       "\n",
       "        [[ 1.,  1.]],\n",
       "\n",
       "        [[ 1.,  1.]]],\n",
       "\n",
       "\n",
       "       [[[-1., -1.]],\n",
       "\n",
       "        [[ 1.,  1.]],\n",
       "\n",
       "        [[ 1.,  1.]],\n",
       "\n",
       "        ...,\n",
       "\n",
       "        [[ 1.,  1.]],\n",
       "\n",
       "        [[ 1.,  1.]],\n",
       "\n",
       "        [[ 1.,  1.]]]], dtype=float32)"
      ]
     },
     "execution_count": 46,
     "metadata": {},
     "output_type": "execute_result"
    }
   ],
   "source": [
    "vectors"
   ]
  }
 ],
 "metadata": {
  "kernelspec": {
   "display_name": "Python 3",
   "language": "python",
   "name": "python3"
  },
  "language_info": {
   "codemirror_mode": {
    "name": "ipython",
    "version": 3
   },
   "file_extension": ".py",
   "mimetype": "text/x-python",
   "name": "python",
   "nbconvert_exporter": "python",
   "pygments_lexer": "ipython3",
   "version": "3.5.2"
  }
 },
 "nbformat": 4,
 "nbformat_minor": 2
}
