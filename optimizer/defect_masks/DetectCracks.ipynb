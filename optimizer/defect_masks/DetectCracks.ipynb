{
 "cells": [
  {
   "cell_type": "code",
   "execution_count": 1,
   "metadata": {},
   "outputs": [],
   "source": [
    "!mkdir -p ~/.cloudvolume/secrets\n",
    "!cp *.json ~/.cloudvolume/secrets/"
   ]
  },
  {
   "cell_type": "code",
   "execution_count": 2,
   "metadata": {},
   "outputs": [
    {
     "name": "stdout",
     "output_type": "stream",
     "text": [
      "Collecting cloud-volume\n",
      "  Downloading https://files.pythonhosted.org/packages/98/4e/a4461d4af8ff95340f12a684af4a1fb2127d1e38e88e05d94ccf4aa8dada/cloud_volume-0.18.0-py2.py3-none-any.whl (60kB)\n",
      "\u001b[K    100% |################################| 61kB 1.9MB/s ta 0:00:011\n",
      "\u001b[?25hCollecting python-jsonschema-objects==0.2.1 (from cloud-volume)\n",
      "  Downloading https://files.pythonhosted.org/packages/d9/1b/2ea3493d53da8fb2475fd0f11c5cd04c2910f12b5678af11cd9ee0de8727/python_jsonschema_objects-0.2.1-py2.py3-none-any.whl\n",
      "Collecting posix-ipc==1.0.4 (from cloud-volume)\n",
      "  Downloading https://files.pythonhosted.org/packages/c9/3e/54217da71aa26b488295d878df4d3132093253b4ae5798ac66fcb6921ef0/posix_ipc-1.0.4.tar.gz (78kB)\n",
      "\u001b[K    100% |################################| 81kB 3.4MB/s ta 0:00:011\n",
      "\u001b[?25hCollecting tenacity==4.4.0 (from cloud-volume)\n",
      "  Downloading https://files.pythonhosted.org/packages/08/0c/9c3adb8f8a515201394c18d49daed795e61f03f9bcb24bbf09da6bbb704a/tenacity-4.4.0.tar.gz\n",
      "Collecting boto3>=1.4.7 (from cloud-volume)\n",
      "  Downloading https://files.pythonhosted.org/packages/a1/7e/373191234629708d2f6ef3a7c7a2ba72c4d77aab0745668a250527d6d3a2/boto3-1.7.4-py2.py3-none-any.whl (128kB)\n",
      "\u001b[K    100% |################################| 133kB 3.1MB/s ta 0:00:01\n",
      "\u001b[?25hRequirement already satisfied: numpy>=1.13.3 in /usr/local/lib/python3.5/dist-packages (from cloud-volume)\n",
      "Collecting six==1.10.0 (from cloud-volume)\n",
      "  Downloading https://files.pythonhosted.org/packages/c8/0a/b6723e1bc4c516cb687841499455a8505b44607ab535be01091c0f24f079/six-1.10.0-py2.py3-none-any.whl\n",
      "Collecting intern (from cloud-volume)\n",
      "  Downloading https://files.pythonhosted.org/packages/c3/85/aeb89f2a4f0339af67b7ad8d7330780e67aab1360e6444336a824f14eb80/intern-0.9.6-py2.py3-none-any.whl (86kB)\n",
      "\u001b[K    100% |################################| 92kB 4.3MB/s ta 0:00:011\n",
      "\u001b[?25hCollecting tqdm>=4.19.4 (from cloud-volume)\n",
      "  Downloading https://files.pythonhosted.org/packages/78/bc/de067ab2d700b91717dc5459d86a1877e2df31abfb90ab01a5a5a5ce30b4/tqdm-4.23.0-py2.py3-none-any.whl (42kB)\n",
      "\u001b[K    100% |################################| 51kB 6.2MB/s ta 0:00:011\n",
      "\u001b[?25hCollecting requests>=2.18.4 (from cloud-volume)\n",
      "  Downloading https://files.pythonhosted.org/packages/49/df/50aa1999ab9bde74656c2919d9c0c085fd2b3775fd3eca826012bef76d8c/requests-2.18.4-py2.py3-none-any.whl (88kB)\n",
      "\u001b[K    100% |################################| 92kB 4.5MB/s ta 0:00:011\n",
      "\u001b[?25hCollecting urllib3[secure] (from cloud-volume)\n",
      "  Downloading https://files.pythonhosted.org/packages/63/cb/6965947c13a94236f6d4b8223e21beb4d576dc72e8130bd7880f600839b8/urllib3-1.22-py2.py3-none-any.whl (132kB)\n",
      "\u001b[K    100% |################################| 133kB 2.2MB/s ta 0:00:01\n",
      "\u001b[?25hCollecting chardet==3.0.4 (from cloud-volume)\n",
      "  Downloading https://files.pythonhosted.org/packages/bc/a9/01ffebfb562e4274b6487b4bb1ddec7ca55ec7510b22e4c51f14098443b8/chardet-3.0.4-py2.py3-none-any.whl (133kB)\n",
      "\u001b[K    100% |################################| 143kB 4.1MB/s ta 0:00:01\n",
      "\u001b[?25hRequirement already satisfied: Pillow>=4.2.1 in /usr/local/lib/python3.5/dist-packages (from cloud-volume)\n",
      "Collecting psutil==5.4.3 (from cloud-volume)\n",
      "  Downloading https://files.pythonhosted.org/packages/e2/e1/600326635f97fee89bf8426fef14c5c29f4849c79f68fd79f433d8c1bd96/psutil-5.4.3.tar.gz (412kB)\n",
      "\u001b[K    100% |################################| 419kB 2.6MB/s ta 0:00:01\n",
      "\u001b[?25hCollecting google-auth>=1.0.2 (from cloud-volume)\n",
      "  Downloading https://files.pythonhosted.org/packages/e0/18/e282ecb28c7eb0ef5ea9a69fb3290658a9ab37bb69647f6ba7f0f78987c4/google_auth-1.4.1-py2.py3-none-any.whl (65kB)\n",
      "\u001b[K    100% |################################| 71kB 7.3MB/s eta 0:00:01\n",
      "\u001b[?25hCollecting protobuf>=3.3.0 (from cloud-volume)\n",
      "  Downloading https://files.pythonhosted.org/packages/5b/c3/9b947e301e19bea75dc8c1fd3710eed5d2b31aa13ae13d5e38e891f784cc/protobuf-3.5.2.post1-cp35-cp35m-manylinux1_x86_64.whl (6.4MB)\n",
      "\u001b[K    100% |################################| 6.4MB 237kB/s eta 0:00:01\n",
      "\u001b[?25hCollecting json5==0.5.1 (from cloud-volume)\n",
      "  Downloading https://files.pythonhosted.org/packages/4b/cf/050247dcd8000a8f2413d7932281991acba5bb72270f5f39d0a22c9b3074/json5-0.5.1-py2.py3-none-any.whl\n",
      "Collecting backports-abc==0.5 (from cloud-volume)\n",
      "  Downloading https://files.pythonhosted.org/packages/7d/56/6f3ac1b816d0cd8994e83d0c4e55bc64567532f7dc543378bd87f81cebc7/backports_abc-0.5-py2.py3-none-any.whl\n",
      "Collecting google-cloud==0.32.0 (from cloud-volume)\n",
      "  Downloading https://files.pythonhosted.org/packages/0a/49/03321cbc697d4aa97f74d87f1dc865ecdf05e4feb47f1c49b50573163a9c/google_cloud-0.32.0-py2.py3-none-any.whl\n",
      "Collecting pytest>=3.3.1 (from cloud-volume)\n",
      "  Downloading https://files.pythonhosted.org/packages/ed/96/271c93f75212c06e2a7ec3e2fa8a9c90acee0a4838dc05bf379ea09aae31/pytest-3.5.0-py2.py3-none-any.whl (194kB)\n",
      "\u001b[K    100% |################################| 194kB 7.0MB/s eta 0:00:01\n",
      "\u001b[?25hCollecting jsonschema==2.3.0 (from python-jsonschema-objects==0.2.1->cloud-volume)\n",
      "  Downloading https://files.pythonhosted.org/packages/20/1c/52812523feebd744ac0e268224b5bae048b1559c88728f3628d169427947/jsonschema-2.3.0-py2.py3-none-any.whl\n",
      "Collecting inflection==0.2.0 (from python-jsonschema-objects==0.2.1->cloud-volume)\n",
      "  Downloading https://files.pythonhosted.org/packages/17/17/e063022e2b77cb9f4a83ed4089e5b0debdddbc6b685c679f387b657c73c1/inflection-0.2.0.tar.gz\n",
      "Collecting pandocfilters==1.2 (from python-jsonschema-objects==0.2.1->cloud-volume)\n",
      "  Downloading https://files.pythonhosted.org/packages/18/ce/4c38a7e4f0eec5c071ff94d322f37f75af1f20b4c443d023c423219a2add/pandocfilters-1.2.tar.gz\n",
      "Collecting Markdown==2.4 (from python-jsonschema-objects==0.2.1->cloud-volume)\n",
      "  Downloading https://files.pythonhosted.org/packages/ce/5d/d259c3b20aaafade22b3fb220fcfeee03124562ace2c6ddba7a5474a76c5/Markdown-2.4.tar.gz (260kB)\n",
      "\u001b[K    100% |################################| 266kB 5.4MB/s eta 0:00:01\n",
      "\u001b[?25hCollecting monotonic>=0.6 (from tenacity==4.4.0->cloud-volume)\n",
      "  Downloading https://files.pythonhosted.org/packages/9f/ff/68860dec8b90424028ca54df8b9fc8cd1c47ef58710bd5e591ec8c619243/monotonic-1.4-py2.py3-none-any.whl\n",
      "Collecting s3transfer<0.2.0,>=0.1.10 (from boto3>=1.4.7->cloud-volume)\n",
      "  Downloading https://files.pythonhosted.org/packages/d7/14/2a0004d487464d120c9fb85313a75cd3d71a7506955be458eebfe19a6b1d/s3transfer-0.1.13-py2.py3-none-any.whl (59kB)\n",
      "\u001b[K    100% |################################| 61kB 12.2MB/s ta 0:00:01\n",
      "\u001b[?25hCollecting botocore<1.11.0,>=1.10.4 (from boto3>=1.4.7->cloud-volume)\n",
      "  Downloading https://files.pythonhosted.org/packages/22/66/9dcf61c1756a0de1ac86547a0fdb8c8641e345049cbf6f18c2ad6dab69d0/botocore-1.10.4-py2.py3-none-any.whl (4.2MB)\n",
      "\u001b[K    100% |################################| 4.2MB 375kB/s eta 0:00:01\n",
      "\u001b[?25hCollecting jmespath<1.0.0,>=0.7.1 (from boto3>=1.4.7->cloud-volume)\n",
      "  Downloading https://files.pythonhosted.org/packages/b7/31/05c8d001f7f87f0f07289a5fc0fc3832e9a57f2dbd4d3b0fee70e0d51365/jmespath-0.9.3-py2.py3-none-any.whl\n",
      "Collecting mock (from intern->cloud-volume)\n",
      "  Downloading https://files.pythonhosted.org/packages/e6/35/f187bdf23be87092bd0f1200d43d23076cee4d0dec109f195173fd3ebc79/mock-2.0.0-py2.py3-none-any.whl (56kB)\n",
      "\u001b[K    100% |################################| 61kB 12.1MB/s ta 0:00:01\n",
      "\u001b[?25hCollecting nose2 (from intern->cloud-volume)\n",
      "  Downloading https://files.pythonhosted.org/packages/93/46/a389a65237d0520bb4a98fc174fdf6568ad9dcc79b9c1d1f30afc6776031/nose2-0.7.4.tar.gz (141kB)\n",
      "\u001b[K    100% |################################| 143kB 9.3MB/s eta 0:00:01\n",
      "\u001b[?25hCollecting blosc==1.4.4 (from intern->cloud-volume)\n",
      "  Downloading https://files.pythonhosted.org/packages/6d/19/cc48ff2219cd479ab4c867eebaf865b32cbe67d8607c1f7b02c3e749ca2f/blosc-1.4.4.tar.gz (613kB)\n",
      "\u001b[K    100% |################################| 614kB 2.4MB/s eta 0:00:01\n",
      "\u001b[?25hCollecting certifi>=2017.4.17 (from requests>=2.18.4->cloud-volume)\n",
      "  Downloading https://files.pythonhosted.org/packages/7c/e6/92ad559b7192d846975fc916b65f667c7b8c3a32bea7372340bfe9a15fa5/certifi-2018.4.16-py2.py3-none-any.whl (150kB)\n",
      "\u001b[K    100% |################################| 153kB 8.5MB/s eta 0:00:01\n",
      "\u001b[?25hCollecting idna<2.7,>=2.5 (from requests>=2.18.4->cloud-volume)\n",
      "  Downloading https://files.pythonhosted.org/packages/27/cc/6dd9a3869f15c2edfab863b992838277279ce92663d334df9ecf5106f5c6/idna-2.6-py2.py3-none-any.whl (56kB)\n"
     ]
    },
    {
     "name": "stdout",
     "output_type": "stream",
     "text": [
      "\u001b[K    100% |################################| 61kB 12.0MB/s ta 0:00:01\n",
      "\u001b[?25hCollecting pyasn1-modules>=0.2.1 (from google-auth>=1.0.2->cloud-volume)\n",
      "  Downloading https://files.pythonhosted.org/packages/e9/51/bcd96bf6231d4b2cc5e023c511bee86637ba375c44a6f9d1b4b7ad1ce4b9/pyasn1_modules-0.2.1-py2.py3-none-any.whl (60kB)\n",
      "\u001b[K    100% |################################| 61kB 11.9MB/s ta 0:00:01\n",
      "\u001b[?25hCollecting rsa>=3.1.4 (from google-auth>=1.0.2->cloud-volume)\n",
      "  Downloading https://files.pythonhosted.org/packages/e1/ae/baedc9cb175552e95f3395c43055a6a5e125ae4d48a1d7a924baca83e92e/rsa-3.4.2-py2.py3-none-any.whl (46kB)\n",
      "\u001b[K    100% |################################| 51kB 10.8MB/s ta 0:00:01\n",
      "\u001b[?25hCollecting cachetools>=2.0.0 (from google-auth>=1.0.2->cloud-volume)\n",
      "  Downloading https://files.pythonhosted.org/packages/ac/e8/5492fd5ada0b05a1bc485bcb634b559acdec59383eef5c4203b5e22be296/cachetools-2.0.1-py2.py3-none-any.whl\n",
      "Requirement already satisfied: setuptools in /usr/lib/python3/dist-packages (from protobuf>=3.3.0->cloud-volume)\n",
      "Collecting google-cloud-bigquery-datatransfer<0.2dev,>=0.1.0 (from google-cloud==0.32.0->cloud-volume)\n",
      "  Downloading https://files.pythonhosted.org/packages/12/6b/636a8702adad77b38f3df951be3c846dfcd8c79854ed2d71654be5602ab8/google_cloud_bigquery_datatransfer-0.1.1-py2.py3-none-any.whl\n",
      "Collecting google-cloud-container<0.2dev,>=0.1.0 (from google-cloud==0.32.0->cloud-volume)\n",
      "  Downloading https://files.pythonhosted.org/packages/fb/40/8e603a2acf6e1c81272f29cfaff2db60436545f8667b32853e58b160cb39/google_cloud_container-0.1.1-py2.py3-none-any.whl (50kB)\n",
      "\u001b[K    100% |################################| 51kB 11.1MB/s ta 0:00:01\n",
      "\u001b[?25hCollecting google-cloud-language<1.1dev,>=1.0.0 (from google-cloud==0.32.0->cloud-volume)\n",
      "  Downloading https://files.pythonhosted.org/packages/eb/46/83eafa664f55b07fe7f896d6bd15dbfb4515f14b4d495e8c3584de0d1638/google_cloud_language-1.0.1-py2.py3-none-any.whl (59kB)\n",
      "\u001b[K    100% |################################| 61kB 11.2MB/s ta 0:00:01\n",
      "\u001b[?25hCollecting google-cloud-resource-manager<0.29dev,>=0.28.0 (from google-cloud==0.32.0->cloud-volume)\n",
      "  Downloading https://files.pythonhosted.org/packages/d6/bf/ed87e187c214154dd8a630c779dd103e9080026c9b046e9d0c52694f332c/google_cloud_resource_manager-0.28.1-py2.py3-none-any.whl\n",
      "Collecting google-cloud-firestore<0.29dev,>=0.28.0 (from google-cloud==0.32.0->cloud-volume)\n",
      "  Downloading https://files.pythonhosted.org/packages/d3/3c/6f25b101d5c2584bfb6db74d75b9a08094a9986623acd372336f72ccd084/google_cloud_firestore-0.28.0-py2.py3-none-any.whl (150kB)\n",
      "\u001b[K    100% |################################| 153kB 8.7MB/s eta 0:00:01\n",
      "\u001b[?25hCollecting google-cloud-vision<0.30dev,>=0.29.0 (from google-cloud==0.32.0->cloud-volume)\n",
      "  Downloading https://files.pythonhosted.org/packages/db/56/49a9819835ef58b6547af22bb8d70677b24f3219eb47d35aa61428008474/google_cloud_vision-0.29.0-py2.py3-none-any.whl (71kB)\n",
      "\u001b[K    100% |################################| 81kB 13.3MB/s ta 0:00:01\n",
      "\u001b[?25hCollecting google-cloud-dns<0.29dev,>=0.28.0 (from google-cloud==0.32.0->cloud-volume)\n",
      "  Downloading https://files.pythonhosted.org/packages/57/16/0098588f04399897209d4e854e430db4c8bb540ec84b9431ec30c320ac7a/google_cloud_dns-0.28.0-py2.py3-none-any.whl\n",
      "Collecting google-api-core<0.2.0dev,>=0.1.2 (from google-cloud==0.32.0->cloud-volume)\n",
      "  Downloading https://files.pythonhosted.org/packages/10/65/6237293db4fbf6f0bcf7c2b67c63e4dc4837c631f194064ae84957cd0313/google_api_core-0.1.4-py2.py3-none-any.whl (50kB)\n",
      "\u001b[K    100% |################################| 51kB 11.7MB/s ta 0:00:01\n",
      "\u001b[?25hCollecting google-cloud-logging<1.5dev,>=1.4.0 (from google-cloud==0.32.0->cloud-volume)\n",
      "  Downloading https://files.pythonhosted.org/packages/12/a6/c6f0fd13fbe70b007b105d42b1914e186dea60bc58628f694ae2b369d20b/google_cloud_logging-1.4.0-py2.py3-none-any.whl (43kB)\n",
      "\u001b[K    100% |################################| 51kB 13.4MB/s ta 0:00:01\n",
      "\u001b[?25hCollecting google-cloud-core<0.29dev,>=0.28.0 (from google-cloud==0.32.0->cloud-volume)\n",
      "  Downloading https://files.pythonhosted.org/packages/0f/41/ae2418b4003a14cf21c1c46d61d1b044bf02cf0f8f91598af572b9216515/google_cloud_core-0.28.1-py2.py3-none-any.whl\n",
      "Collecting google-cloud-bigquery<0.29dev,>=0.28.0 (from google-cloud==0.32.0->cloud-volume)\n",
      "  Downloading https://files.pythonhosted.org/packages/7c/f6/193729cb124770c710b9eab14f2fe2c3c7b285cc7b8cc70f48c162616e09/google_cloud_bigquery-0.28.0-py2.py3-none-any.whl (64kB)\n",
      "\u001b[K    100% |################################| 71kB 12.9MB/s ta 0:00:01\n",
      "\u001b[?25hCollecting google-cloud-translate<1.4dev,>=1.3.0 (from google-cloud==0.32.0->cloud-volume)\n",
      "  Downloading https://files.pythonhosted.org/packages/40/32/e17ba4b6586c31afe08a82fd0e3437906757a5fedb29e44d695721ffdbb8/google_cloud_translate-1.3.1-py2.py3-none-any.whl\n",
      "Collecting google-cloud-runtimeconfig<0.29dev,>=0.28.0 (from google-cloud==0.32.0->cloud-volume)\n",
      "  Downloading https://files.pythonhosted.org/packages/df/fd/12949f877975e2583cd3cd192e73759a3ba5b4f59974a669eaecc6f375df/google_cloud_runtimeconfig-0.28.1-py2.py3-none-any.whl\n",
      "Collecting google-cloud-pubsub<0.31dev,>=0.30.0 (from google-cloud==0.32.0->cloud-volume)\n",
      "  Downloading https://files.pythonhosted.org/packages/9b/a2/4e0576083986296d21c530738530bd9de4dcb0fd4728e963ad8ff7e1620f/google_cloud_pubsub-0.30.1-py2.py3-none-any.whl (88kB)\n",
      "\u001b[K    100% |################################| 92kB 12.2MB/s ta 0:00:01\n",
      "\u001b[?25hCollecting google-cloud-error-reporting<0.29dev,>=0.28.0 (from google-cloud==0.32.0->cloud-volume)\n",
      "  Downloading https://files.pythonhosted.org/packages/4a/f3/4071bc943b48e70e41bfc56ed5ecbb5a7eddd8312f10c25a8834669ea20d/google_cloud_error_reporting-0.28.0-py2.py3-none-any.whl\n",
      "Collecting google-cloud-monitoring<0.29dev,>=0.28.0 (from google-cloud==0.32.0->cloud-volume)\n",
      "  Downloading https://files.pythonhosted.org/packages/68/99/67195b899d8e1189807130062ba68018533677879590673028671fe4c570/google_cloud_monitoring-0.28.1-py2.py3-none-any.whl\n",
      "Collecting google-cloud-storage<1.7dev,>=1.6.0 (from google-cloud==0.32.0->cloud-volume)\n",
      "  Downloading https://files.pythonhosted.org/packages/c8/13/131c4d6b72411bcd56ab82a70a256d961e8d87e7b6356c12791c0003765d/google_cloud_storage-1.6.0-py2.py3-none-any.whl (51kB)\n",
      "\u001b[K    100% |################################| 61kB 13.5MB/s ta 0:00:01\n",
      "\u001b[?25hCollecting google-cloud-videointelligence<1.1dev,>=1.0.0 (from google-cloud==0.32.0->cloud-volume)\n",
      "  Downloading https://files.pythonhosted.org/packages/da/e4/57ffb1ef3fb003815789c684b3e7abd9f5df6f66471b08d5213bea6900d4/google_cloud_videointelligence-1.0.1-py2.py3-none-any.whl (57kB)\n",
      "\u001b[K    100% |################################| 61kB 12.7MB/s ta 0:00:01\n",
      "\u001b[?25hCollecting google-cloud-datastore<1.5dev,>=1.4.0 (from google-cloud==0.32.0->cloud-volume)\n",
      "  Downloading https://files.pythonhosted.org/packages/aa/bc/2cee1ac9cc70764845a6ff73e4e5dc50aef1225aac417461e1ef878ed38e/google_cloud_datastore-1.4.0-py2.py3-none-any.whl (44kB)\n",
      "\u001b[K    100% |################################| 51kB 13.4MB/s ta 0:00:01\n",
      "\u001b[?25hCollecting google-cloud-speech<0.31dev,>=0.30.0 (from google-cloud==0.32.0->cloud-volume)\n",
      "  Downloading https://files.pythonhosted.org/packages/70/a5/f4722af1873e59e84ee1f6d28eb44cb697174f6ee4433a1cc89bd76f9890/google_cloud_speech-0.30.0-py2.py3-none-any.whl (42kB)\n",
      "\u001b[K    100% |################################| 51kB 13.4MB/s ta 0:00:01\n",
      "\u001b[?25hCollecting google-cloud-bigtable<0.29dev,>=0.28.1 (from google-cloud==0.32.0->cloud-volume)\n",
      "  Downloading https://files.pythonhosted.org/packages/03/38/97d17a7fefc8596d49be95b409f9476d5c31bd9fb00d9c243652b883099f/google_cloud_bigtable-0.28.1-py2.py3-none-any.whl (88kB)\n",
      "\u001b[K    100% |################################| 92kB 12.2MB/s ta 0:00:01\n",
      "\u001b[?25hCollecting google-cloud-spanner<0.30dev,>=0.29.0 (from google-cloud==0.32.0->cloud-volume)\n",
      "  Downloading https://files.pythonhosted.org/packages/b3/3f/d1771299f1df521dd918830511f03d1df9ee27d5a2e20252811feed39060/google_cloud_spanner-0.29.0-py2.py3-none-any.whl (133kB)\n",
      "\u001b[K    100% |################################| 143kB 10.0MB/s ta 0:00:01\n",
      "\u001b[?25hCollecting google-cloud-trace<0.18dev,>=0.17.0 (from google-cloud==0.32.0->cloud-volume)\n",
      "  Downloading https://files.pythonhosted.org/packages/a1/44/261efe8430c05509d7cadcb1bdd87745afb7a2d999f5fa41b0ee92ee6637/google_cloud_trace-0.17.0-py2.py3-none-any.whl (68kB)\n",
      "\u001b[K    100% |################################| 71kB 12.2MB/s ta 0:00:01\n"
     ]
    },
    {
     "name": "stdout",
     "output_type": "stream",
     "text": [
      "\u001b[?25hCollecting more-itertools>=4.0.0 (from pytest>=3.3.1->cloud-volume)\n",
      "  Downloading https://files.pythonhosted.org/packages/7a/46/886917c6a4ce49dd3fff250c01c5abac5390d57992751384fe61befc4877/more_itertools-4.1.0-py3-none-any.whl (47kB)\n",
      "\u001b[K    100% |################################| 51kB 12.0MB/s ta 0:00:01\n",
      "\u001b[?25hCollecting py>=1.5.0 (from pytest>=3.3.1->cloud-volume)\n",
      "  Downloading https://files.pythonhosted.org/packages/67/a5/f77982214dd4c8fd104b066f249adea2c49e25e8703d284382eb5e9ab35a/py-1.5.3-py2.py3-none-any.whl (84kB)\n",
      "\u001b[K    100% |################################| 92kB 12.8MB/s ta 0:00:01\n",
      "\u001b[?25hCollecting pluggy<0.7,>=0.5 (from pytest>=3.3.1->cloud-volume)\n",
      "  Downloading https://files.pythonhosted.org/packages/ba/65/ded3bc40bbf8d887f262f150fbe1ae6637765b5c9534bd55690ed2c0b0f7/pluggy-0.6.0-py3-none-any.whl\n",
      "Collecting attrs>=17.4.0 (from pytest>=3.3.1->cloud-volume)\n",
      "  Downloading https://files.pythonhosted.org/packages/b5/60/4e178c1e790fd60f1229a9b3cb2f8bc2f4cc6ff2c8838054c142c70b5adc/attrs-17.4.0-py2.py3-none-any.whl\n",
      "Collecting docutils>=0.10 (from botocore<1.11.0,>=1.10.4->boto3>=1.4.7->cloud-volume)\n",
      "  Downloading https://files.pythonhosted.org/packages/36/fa/08e9e6e0e3cbd1d362c3bbee8d01d0aedb2155c4ac112b19ef3cae8eed8d/docutils-0.14-py3-none-any.whl (543kB)\n",
      "\u001b[K    100% |################################| 552kB 2.8MB/s eta 0:00:01\n",
      "\u001b[?25hCollecting python-dateutil<2.7.0,>=2.1 (from botocore<1.11.0,>=1.10.4->boto3>=1.4.7->cloud-volume)\n",
      "  Downloading https://files.pythonhosted.org/packages/4b/0d/7ed381ab4fe80b8ebf34411d14f253e1cf3e56e2820ffa1d8844b23859a2/python_dateutil-2.6.1-py2.py3-none-any.whl (194kB)\n",
      "\u001b[K    100% |################################| 194kB 7.3MB/s eta 0:00:01\n",
      "\u001b[?25hCollecting pbr>=0.11 (from mock->intern->cloud-volume)\n",
      "  Downloading https://files.pythonhosted.org/packages/e1/ba/f95e3ec83f93919b1437028e989cf3fa5ff4f5cae4a1f62255f71deddb5b/pbr-4.0.2-py2.py3-none-any.whl (98kB)\n",
      "\u001b[K    100% |################################| 102kB 12.6MB/s a 0:00:01\n",
      "\u001b[?25hCollecting coverage>=4.4.1 (from nose2->intern->cloud-volume)\n",
      "  Downloading https://files.pythonhosted.org/packages/2c/c0/8047b7cbbcdbd7d21f8d68126196b7915da892c5af3d1a99dba082d33ec0/coverage-4.5.1-cp35-cp35m-manylinux1_x86_64.whl (202kB)\n",
      "\u001b[K    100% |################################| 204kB 7.0MB/s eta 0:00:01\n",
      "\u001b[?25hCollecting pyasn1<0.5.0,>=0.4.1 (from pyasn1-modules>=0.2.1->google-auth>=1.0.2->cloud-volume)\n",
      "  Downloading https://files.pythonhosted.org/packages/ba/fe/02e3e2ee243966b143657fb8bd6bc97595841163b6d8c26820944acaec4d/pyasn1-0.4.2-py2.py3-none-any.whl (71kB)\n",
      "\u001b[K    100% |################################| 71kB 11.2MB/s ta 0:00:01\n",
      "\u001b[?25hCollecting google-gax<0.16dev,>=0.15.7 (from google-cloud-firestore<0.29dev,>=0.28.0->google-cloud==0.32.0->cloud-volume)\n",
      "  Downloading https://files.pythonhosted.org/packages/4f/b4/ff312fa42f91535c67567c1d08e972db0e7c548e9a63c6f3bcc5213b32fc/google_gax-0.15.16-py2.py3-none-any.whl (46kB)\n",
      "\u001b[K    100% |################################| 51kB 12.2MB/s ta 0:00:01\n",
      "\u001b[?25hCollecting googleapis-common-protos[grpc]<2.0dev,>=1.5.2 (from google-cloud-vision<0.30dev,>=0.29.0->google-cloud==0.32.0->cloud-volume)\n",
      "  Downloading https://files.pythonhosted.org/packages/00/03/d25bed04ec8d930bcfa488ba81a2ecbf7eb36ae3ffd7e8f5be0d036a89c9/googleapis-common-protos-1.5.3.tar.gz\n",
      "Requirement already satisfied: pytz in /usr/local/lib/python3.5/dist-packages (from google-api-core<0.2.0dev,>=0.1.2->google-cloud==0.32.0->cloud-volume)\n",
      "Collecting gapic-google-cloud-logging-v2<0.92dev,>=0.91.0 (from google-cloud-logging<1.5dev,>=1.4.0->google-cloud==0.32.0->cloud-volume)\n",
      "  Downloading https://files.pythonhosted.org/packages/aa/a8/2fcb30c255243d0b5b1a1c4b3cd0a73ca87c82f8a6673be60fb003a6e184/gapic-google-cloud-logging-v2-0.91.3.tar.gz\n",
      "Collecting google-resumable-media>=0.2.1 (from google-cloud-bigquery<0.29dev,>=0.28.0->google-cloud==0.32.0->cloud-volume)\n",
      "  Downloading https://files.pythonhosted.org/packages/77/95/2e4020a54366423ddba715f89fb7ca456c8f048b15cada6cd6a54cf10e8c/google_resumable_media-0.3.1-py2.py3-none-any.whl\n",
      "Collecting grpc-google-iam-v1<0.12dev,>=0.11.1 (from google-cloud-pubsub<0.31dev,>=0.30.0->google-cloud==0.32.0->cloud-volume)\n",
      "  Downloading https://files.pythonhosted.org/packages/9b/28/f26f67381cb23e81271b8d66c00a846ad9d25a909ae1ae1df8222fad2744/grpc-google-iam-v1-0.11.4.tar.gz\n",
      "Collecting gapic-google-cloud-error-reporting-v1beta1<0.16dev,>=0.15.0 (from google-cloud-error-reporting<0.29dev,>=0.28.0->google-cloud==0.32.0->cloud-volume)\n",
      "  Downloading https://files.pythonhosted.org/packages/03/fb/903f4cb88a442e05ec789329aef76da0d3f841a66909e9b5bc39527e0ef7/gapic-google-cloud-error-reporting-v1beta1-0.15.3.tar.gz\n",
      "Collecting gapic-google-cloud-datastore-v1<0.16dev,>=0.15.0 (from google-cloud-datastore<1.5dev,>=1.4.0->google-cloud==0.32.0->cloud-volume)\n",
      "  Downloading https://files.pythonhosted.org/packages/ec/9c/6d69a6e6551006c4e87192a396b983421a6978bc57657619bc998a264b31/gapic-google-cloud-datastore-v1-0.15.3.tar.gz\n",
      "Collecting dill<0.3dev,>=0.2.5 (from google-gax<0.16dev,>=0.15.7->google-cloud-firestore<0.29dev,>=0.28.0->google-cloud==0.32.0->cloud-volume)\n",
      "  Downloading https://files.pythonhosted.org/packages/91/a0/19d4d31dee064fc553ae01263b5c55e7fb93daff03a69debbedee647c5a0/dill-0.2.7.1.tar.gz (64kB)\n",
      "\u001b[K    100% |################################| 71kB 12.4MB/s ta 0:00:01\n",
      "\u001b[?25hCollecting future<0.17dev,>=0.16.0 (from google-gax<0.16dev,>=0.15.7->google-cloud-firestore<0.29dev,>=0.28.0->google-cloud==0.32.0->cloud-volume)\n",
      "  Downloading https://files.pythonhosted.org/packages/00/2b/8d082ddfed935f3608cc61140df6dcbf0edea1bc3ab52fb6c29ae3e81e85/future-0.16.0.tar.gz (824kB)\n",
      "\u001b[K    100% |################################| 829kB 1.8MB/s eta 0:00:01\n",
      "\u001b[?25hCollecting grpcio<2.0dev,>=1.0.2 (from google-gax<0.16dev,>=0.15.7->google-cloud-firestore<0.29dev,>=0.28.0->google-cloud==0.32.0->cloud-volume)\n",
      "  Downloading https://files.pythonhosted.org/packages/33/c8/368aeb6d300ffe03f1703605c097a705500c063f5c0dbf90012b243589ce/grpcio-1.11.0-cp35-cp35m-manylinux1_x86_64.whl (8.8MB)\n",
      "\u001b[K    100% |################################| 8.8MB 176kB/s eta 0:00:01\n",
      "\u001b[?25hCollecting ply==3.8 (from google-gax<0.16dev,>=0.15.7->google-cloud-firestore<0.29dev,>=0.28.0->google-cloud==0.32.0->cloud-volume)\n",
      "  Downloading https://files.pythonhosted.org/packages/96/e0/430fcdb6b3ef1ae534d231397bee7e9304be14a47a267e82ebcb3323d0b5/ply-3.8.tar.gz (157kB)\n",
      "\u001b[K    100% |################################| 163kB 8.6MB/s eta 0:00:01\n",
      "\u001b[?25hCollecting oauth2client<4.0dev,>=2.0.0 (from gapic-google-cloud-logging-v2<0.92dev,>=0.91.0->google-cloud-logging<1.5dev,>=1.4.0->google-cloud==0.32.0->cloud-volume)\n",
      "  Downloading https://files.pythonhosted.org/packages/c0/7b/bc893e35d6ca46a72faa4b9eaac25c687ce60e1fbe978993fe2de1b0ff0d/oauth2client-3.0.0.tar.gz (77kB)\n",
      "\u001b[K    100% |################################| 81kB 12.0MB/s ta 0:00:01\n",
      "\u001b[?25hCollecting proto-google-cloud-logging-v2[grpc]<0.92dev,>=0.91.3 (from gapic-google-cloud-logging-v2<0.92dev,>=0.91.0->google-cloud-logging<1.5dev,>=1.4.0->google-cloud==0.32.0->cloud-volume)\n",
      "  Downloading https://files.pythonhosted.org/packages/36/cc/52c1b363b992546d4658a61eb551c85af94ad424734e6c899fdfc8330811/proto-google-cloud-logging-v2-0.91.3.tar.gz\n",
      "Collecting proto-google-cloud-error-reporting-v1beta1[grpc]<0.16dev,>=0.15.3 (from gapic-google-cloud-error-reporting-v1beta1<0.16dev,>=0.15.0->google-cloud-error-reporting<0.29dev,>=0.28.0->google-cloud==0.32.0->cloud-volume)\n",
      "  Downloading https://files.pythonhosted.org/packages/4c/a1/94790efc86414a127fdf2c1277530c789b458bdd4b120630d4d84ea04898/proto-google-cloud-error-reporting-v1beta1-0.15.3.tar.gz\n",
      "Collecting proto-google-cloud-datastore-v1[grpc]<0.91dev,>=0.90.3 (from gapic-google-cloud-datastore-v1<0.16dev,>=0.15.0->google-cloud-datastore<1.5dev,>=1.4.0->google-cloud==0.32.0->cloud-volume)\n",
      "  Downloading https://files.pythonhosted.org/packages/2a/1f/4124f15e1132a2eeeaf616d825990bb1d395b4c2c37362654ea5cd89bb42/proto-google-cloud-datastore-v1-0.90.4.tar.gz\n",
      "Collecting httplib2>=0.9.1 (from oauth2client<4.0dev,>=2.0.0->gapic-google-cloud-logging-v2<0.92dev,>=0.91.0->google-cloud-logging<1.5dev,>=1.4.0->google-cloud==0.32.0->cloud-volume)\n"
     ]
    },
    {
     "name": "stdout",
     "output_type": "stream",
     "text": [
      "  Downloading https://files.pythonhosted.org/packages/fd/ce/aa4a385e3e9fd351737fd2b07edaa56e7a730448465aceda6b35086a0d9b/httplib2-0.11.3.tar.gz (215kB)\n",
      "\u001b[K    100% |################################| 225kB 6.2MB/s eta 0:00:01\n",
      "\u001b[?25hBuilding wheels for collected packages: posix-ipc, tenacity, psutil, inflection, pandocfilters, Markdown, nose2, blosc, googleapis-common-protos, gapic-google-cloud-logging-v2, grpc-google-iam-v1, gapic-google-cloud-error-reporting-v1beta1, gapic-google-cloud-datastore-v1, dill, future, ply, oauth2client, proto-google-cloud-logging-v2, proto-google-cloud-error-reporting-v1beta1, proto-google-cloud-datastore-v1, httplib2\n",
      "  Running setup.py bdist_wheel for posix-ipc ... \u001b[?25ldone\n",
      "\u001b[?25h  Stored in directory: /root/.cache/pip/wheels/5a/5c/17/d0e2d421abaf3b4097bf9db11108380d734195c6d15c24269d\n",
      "  Running setup.py bdist_wheel for tenacity ... \u001b[?25ldone\n",
      "\u001b[?25h  Stored in directory: /root/.cache/pip/wheels/cf/dd/89/99693d2e2c5954ccd7b7ba4fe9571b385712939d25e584a03a\n",
      "  Running setup.py bdist_wheel for psutil ... \u001b[?25ldone\n",
      "\u001b[?25h  Stored in directory: /root/.cache/pip/wheels/fe/33/84/baea3d665de2d1af7e8f827f3883811bba5e4149443ccf8191\n",
      "  Running setup.py bdist_wheel for inflection ... \u001b[?25ldone\n",
      "\u001b[?25h  Stored in directory: /root/.cache/pip/wheels/9f/fa/4f/ef45a51543bd855e40494298824ad5e750109ad18fa80278ad\n",
      "  Running setup.py bdist_wheel for pandocfilters ... \u001b[?25ldone\n",
      "\u001b[?25h  Stored in directory: /root/.cache/pip/wheels/fc/a0/4c/ec26eaa3f2253144e29941bd4031c317a69595dd0b665a0779\n",
      "  Running setup.py bdist_wheel for Markdown ... \u001b[?25ldone\n",
      "\u001b[?25h  Stored in directory: /root/.cache/pip/wheels/34/2d/c2/75f4fd57c1b79e59f66388262ed37b69ceac77162988f8af63\n",
      "  Running setup.py bdist_wheel for nose2 ... \u001b[?25ldone\n",
      "\u001b[?25h  Stored in directory: /root/.cache/pip/wheels/66/65/52/e7e6215ebee79eff0f3a60db0e6e6f6d751c3ebbb7a52cdfbd\n",
      "  Running setup.py bdist_wheel for blosc ... \u001b[?25ldone\n",
      "\u001b[?25h  Stored in directory: /root/.cache/pip/wheels/fa/2a/00/8ff3a1d3d423a3163b93917a72146e85c3a3484ba6574854a5\n",
      "  Running setup.py bdist_wheel for googleapis-common-protos ... \u001b[?25ldone\n",
      "\u001b[?25h  Stored in directory: /root/.cache/pip/wheels/62/45/af/649bbf07b6595fda010be1bda667cd56d0444d07afc6f8b687\n",
      "  Running setup.py bdist_wheel for gapic-google-cloud-logging-v2 ... \u001b[?25ldone\n",
      "\u001b[?25h  Stored in directory: /root/.cache/pip/wheels/67/f7/2c/c104c937201a0a2bba168ae7058ce7d10da96d881b504a1ae4\n",
      "  Running setup.py bdist_wheel for grpc-google-iam-v1 ... \u001b[?25ldone\n",
      "\u001b[?25h  Stored in directory: /root/.cache/pip/wheels/b6/c6/31/c20321a5a3fde456fc375b7c2814135e6e98bc0d74c40239d9\n",
      "  Running setup.py bdist_wheel for gapic-google-cloud-error-reporting-v1beta1 ... \u001b[?25ldone\n",
      "\u001b[?25h  Stored in directory: /root/.cache/pip/wheels/19/d9/9e/5d0f178712d65c20ef2e2573b4390f94864819fe0b29d91c8f\n",
      "  Running setup.py bdist_wheel for gapic-google-cloud-datastore-v1 ... \u001b[?25ldone\n",
      "\u001b[?25h  Stored in directory: /root/.cache/pip/wheels/79/a9/0f/1b6929a5f1961d22553efa844ea60c589bffcf6e1bd019f7c9\n",
      "  Running setup.py bdist_wheel for dill ... \u001b[?25ldone\n",
      "\u001b[?25h  Stored in directory: /root/.cache/pip/wheels/99/c4/ed/1b64d2d5809e60d5a3685530432f6159d6a9959739facb61f2\n",
      "  Running setup.py bdist_wheel for future ... \u001b[?25ldone\n",
      "\u001b[?25h  Stored in directory: /root/.cache/pip/wheels/bf/c9/a3/c538d90ef17cf7823fa51fc701a7a7a910a80f6a405bf15b1a\n",
      "  Running setup.py bdist_wheel for ply ... \u001b[?25ldone\n",
      "\u001b[?25h  Stored in directory: /root/.cache/pip/wheels/f2/21/c0/f0056cc96847933daa961a19eb59a2ecd0228fdbe3376e7a68\n",
      "  Running setup.py bdist_wheel for oauth2client ... \u001b[?25ldone\n",
      "\u001b[?25h  Stored in directory: /root/.cache/pip/wheels/48/f7/87/b932f09c6335dbcf45d916937105a372ab14f353a9ca431d7d\n",
      "  Running setup.py bdist_wheel for proto-google-cloud-logging-v2 ... \u001b[?25ldone\n",
      "\u001b[?25h  Stored in directory: /root/.cache/pip/wheels/a2/63/53/2c822aa22c24d620ce09f799ff1b38cceaac1ae7698368b0d8\n",
      "  Running setup.py bdist_wheel for proto-google-cloud-error-reporting-v1beta1 ... \u001b[?25ldone\n",
      "\u001b[?25h  Stored in directory: /root/.cache/pip/wheels/76/fc/f8/49959a924b1e0d76264f251ea9ab9d27e6b978acf02cd28bff\n",
      "  Running setup.py bdist_wheel for proto-google-cloud-datastore-v1 ... \u001b[?25ldone\n",
      "\u001b[?25h  Stored in directory: /root/.cache/pip/wheels/bd/ce/33/8b769968db3761c42c7a91d8a0dbbafc50acfa0750866c8abd\n",
      "  Running setup.py bdist_wheel for httplib2 ... \u001b[?25ldone\n",
      "\u001b[?25h  Stored in directory: /root/.cache/pip/wheels/1b/9c/9e/1f6fdb21dbb1fe6a99101d697f12cb8c1fa96c1587df69adba\n",
      "Successfully built posix-ipc tenacity psutil inflection pandocfilters Markdown nose2 blosc googleapis-common-protos gapic-google-cloud-logging-v2 grpc-google-iam-v1 gapic-google-cloud-error-reporting-v1beta1 gapic-google-cloud-datastore-v1 dill future ply oauth2client proto-google-cloud-logging-v2 proto-google-cloud-error-reporting-v1beta1 proto-google-cloud-datastore-v1 httplib2\n",
      "Installing collected packages: jsonschema, inflection, six, pandocfilters, Markdown, python-jsonschema-objects, posix-ipc, monotonic, tenacity, jmespath, docutils, python-dateutil, botocore, s3transfer, boto3, pbr, mock, coverage, nose2, blosc, certifi, chardet, urllib3, idna, requests, intern, tqdm, psutil, pyasn1, pyasn1-modules, rsa, cachetools, google-auth, protobuf, json5, backports-abc, grpcio, googleapis-common-protos, google-api-core, google-cloud-bigquery-datatransfer, google-cloud-container, google-cloud-language, google-cloud-core, google-cloud-resource-manager, dill, future, ply, google-gax, google-cloud-firestore, google-cloud-vision, google-cloud-dns, httplib2, oauth2client, proto-google-cloud-logging-v2, gapic-google-cloud-logging-v2, google-cloud-logging, google-resumable-media, google-cloud-bigquery, google-cloud-translate, google-cloud-runtimeconfig, grpc-google-iam-v1, google-cloud-pubsub, proto-google-cloud-error-reporting-v1beta1, gapic-google-cloud-error-reporting-v1beta1, google-cloud-error-reporting, google-cloud-monitoring, google-cloud-storage, google-cloud-videointelligence, proto-google-cloud-datastore-v1, gapic-google-cloud-datastore-v1, google-cloud-datastore, google-cloud-speech, google-cloud-bigtable, google-cloud-spanner, google-cloud-trace, google-cloud, more-itertools, py, pluggy, attrs, pytest, cloud-volume\n",
      "  Found existing installation: jsonschema 2.6.0\n",
      "    Uninstalling jsonschema-2.6.0:\n",
      "      Successfully uninstalled jsonschema-2.6.0\n",
      "  Found existing installation: six 1.11.0\n",
      "    Uninstalling six-1.11.0:\n",
      "      Successfully uninstalled six-1.11.0\n",
      "  Found existing installation: pandocfilters 1.4.2\n",
      "    Uninstalling pandocfilters-1.4.2:\n",
      "      Successfully uninstalled pandocfilters-1.4.2\n",
      "  Found existing installation: python-dateutil 2.7.2\n",
      "    Uninstalling python-dateutil-2.7.2:\n",
      "      Successfully uninstalled python-dateutil-2.7.2\n",
      "Successfully installed Markdown-2.4 attrs-17.4.0 backports-abc-0.5 blosc-1.4.4 boto3-1.7.4 botocore-1.10.4 cachetools-2.0.1 certifi-2018.4.16 chardet-3.0.4 cloud-volume-0.18.0 coverage-4.5.1 dill-0.2.7.1 docutils-0.14 future-0.16.0 gapic-google-cloud-datastore-v1-0.15.3 gapic-google-cloud-error-reporting-v1beta1-0.15.3 gapic-google-cloud-logging-v2-0.91.3 google-api-core-0.1.4 google-auth-1.4.1 google-cloud-0.32.0 google-cloud-bigquery-0.28.0 google-cloud-bigquery-datatransfer-0.1.1 google-cloud-bigtable-0.28.1 google-cloud-container-0.1.1 google-cloud-core-0.28.1 google-cloud-datastore-1.4.0 google-cloud-dns-0.28.0 google-cloud-error-reporting-0.28.0 google-cloud-firestore-0.28.0 google-cloud-language-1.0.1 google-cloud-logging-1.4.0 google-cloud-monitoring-0.28.1 google-cloud-pubsub-0.30.1 google-cloud-resource-manager-0.28.1 google-cloud-runtimeconfig-0.28.1 google-cloud-spanner-0.29.0 google-cloud-speech-0.30.0 google-cloud-storage-1.6.0 google-cloud-trace-0.17.0 google-cloud-translate-1.3.1 google-cloud-videointelligence-1.0.1 google-cloud-vision-0.29.0 google-gax-0.15.16 google-resumable-media-0.3.1 googleapis-common-protos-1.5.3 grpc-google-iam-v1-0.11.4 grpcio-1.11.0 httplib2-0.11.3 idna-2.6 inflection-0.2.0 intern-0.9.6 jmespath-0.9.3 json5-0.5.1 jsonschema-2.3.0 mock-2.0.0 monotonic-1.4 more-itertools-4.1.0 nose2-0.7.4 oauth2client-3.0.0 pandocfilters-1.2 pbr-4.0.2 pluggy-0.6.0 ply-3.8 posix-ipc-1.0.4 proto-google-cloud-datastore-v1-0.90.4 proto-google-cloud-error-reporting-v1beta1-0.15.3 proto-google-cloud-logging-v2-0.91.3 protobuf-3.5.2.post1 psutil-5.4.3 py-1.5.3 pyasn1-0.4.2 pyasn1-modules-0.2.1 pytest-3.5.0 python-dateutil-2.6.1 python-jsonschema-objects-0.2.1 requests-2.18.4 rsa-3.4.2 s3transfer-0.1.13 six-1.10.0 tenacity-4.4.0 tqdm-4.23.0 urllib3-1.22\n"
     ]
    },
    {
     "name": "stdout",
     "output_type": "stream",
     "text": [
      "\u001b[33mYou are using pip version 9.0.3, however version 10.0.0 is available.\r\n",
      "You should consider upgrading via the 'pip install --upgrade pip' command.\u001b[0m\r\n"
     ]
    }
   ],
   "source": [
    "!pip install cloud-volume"
   ]
  },
  {
   "cell_type": "code",
   "execution_count": 1,
   "metadata": {},
   "outputs": [],
   "source": [
    "import torch\n",
    "import torchvision\n",
    "from torch import nn\n",
    "from torch.autograd import Variable\n",
    "import torch.nn.functional as F \n",
    "import torch.optim as optim\n",
    "\n",
    "from cloudvolume import CloudVolume\n",
    "import numpy as np\n",
    "import pandas as pd\n",
    "\n",
    "import tifffile"
   ]
  },
  {
   "cell_type": "code",
   "execution_count": 2,
   "metadata": {},
   "outputs": [],
   "source": [
    "# helper operations \n",
    "def conv3x3(in_channels, out_channels):\n",
    "    return nn.Conv2d(in_channels, out_channels,\n",
    "        kernel_size=3, stride=1, padding=1, bias=True)\n",
    "\n",
    "def maxpool2x2():\n",
    "    return nn.MaxPool2d(kernel_size=2, stride=2, padding=0)\n",
    "\n",
    "class UpConv2x2(nn.Module):\n",
    "    def __init__(self, channels):\n",
    "        super(UpConv2x2, self).__init__()\n",
    "        self.upsample = nn.Upsample(scale_factor=2)\n",
    "        self.conv = nn.Conv2d(channels, channels // 2,\n",
    "            kernel_size=2, stride=1, padding=0, bias=True)\n",
    "\n",
    "    def forward(self, x):\n",
    "        x = self.upsample(x)\n",
    "        x = F.pad(x, (0,1,0,1))\n",
    "        x = self.conv(x)\n",
    "        return x \n",
    "        \n",
    "def concat(xh, xv):\n",
    "    return torch.cat([xh, xv], dim=1)\n",
    "\n",
    "\n",
    "# unet blocks\n",
    "class ConvBlock(nn.Module):\n",
    "    def __init__(self, in_channels, out_channels):\n",
    "        \"\"\"\n",
    "        Args:\n",
    "            in_channels: number of channels in input (1st) feature map\n",
    "            out_channels: number of channels in output feature maps\n",
    "        \"\"\"\n",
    "        super(ConvBlock, self).__init__()\n",
    "        self.conv1 = conv3x3(in_channels, out_channels)\n",
    "        self.conv2 = conv3x3(out_channels, out_channels)\n",
    "        self.conv3 = conv3x3(out_channels, out_channels)\n",
    "\n",
    "    def forward(self, x):\n",
    "        x = F.relu(self.conv1(x))\n",
    "        x = F.relu(self.conv2(x))\n",
    "        x = F.relu(self.conv3(x))\n",
    "        return x\n",
    "\n",
    "class DownConvBlock(nn.Module):\n",
    "    def __init__(self, in_channels, out_channels):\n",
    "        \"\"\"\n",
    "        Args:\n",
    "            in_channels: number of channels in input (1st) feature map\n",
    "            out_channels: number of channels in output feature maps\n",
    "        \"\"\"\n",
    "        super(DownConvBlock, self).__init__()\n",
    "        self.maxpool = maxpool2x2()\n",
    "        self.conv1 = conv3x3(in_channels, out_channels)\n",
    "        self.conv2 = conv3x3(out_channels, out_channels)\n",
    "        self.conv3 = conv3x3(out_channels, out_channels)\n",
    "\n",
    "    def forward(self, x):\n",
    "        x = self.maxpool(x)\n",
    "        x = F.relu(self.conv1(x))\n",
    "        x = F.relu(self.conv2(x))\n",
    "        x = F.relu(self.conv3(x))\n",
    "        return x\n",
    "\n",
    "class UpConvBlock(nn.Module):\n",
    "    def __init__(self, in_channels, out_channels):\n",
    "        \"\"\"\n",
    "        Args:\n",
    "            in_channels: number of channels in input (1st) feature map\n",
    "            out_channels: number of channels in output feature maps\n",
    "        \"\"\"\n",
    "        super(UpConvBlock, self).__init__()\n",
    "        self.upconv = UpConv2x2(in_channels)\n",
    "        self.conv1 = conv3x3(in_channels, out_channels)\n",
    "        self.conv2 = conv3x3(out_channels, out_channels)\n",
    "        self.conv3 = conv3x3(out_channels, out_channels)\n",
    "\n",
    "    def forward(self, xh, xv):\n",
    "        \"\"\"\n",
    "        Args:\n",
    "            xh: torch Variable, activations from same resolution feature maps (gray arrow in diagram)\n",
    "            xv: torch Variable, activations from lower resolution feature maps (green arrow in diagram)\n",
    "        \"\"\"\n",
    "        xv = self.upconv(xv)\n",
    "        x = concat(xh, xv)\n",
    "        x = F.relu(self.conv1(x))\n",
    "        x = F.relu(self.conv2(x))\n",
    "        x = F.relu(self.conv3(x))\n",
    "        return x\n",
    "\n",
    "class UNet(nn.Module):\n",
    "    def __init__(self):\n",
    "        super(UNet, self).__init__()\n",
    "        fs = [16,32,64,128,256]\n",
    "        self.conv_in = ConvBlock(1, fs[0])\n",
    "        self.dconv1 = DownConvBlock(fs[0], fs[1])\n",
    "        self.dconv2 = DownConvBlock(fs[1], fs[2])\n",
    "        self.dconv3 = DownConvBlock(fs[2], fs[3])\n",
    "        self.dconv4 = DownConvBlock(fs[3], fs[4])\n",
    "\n",
    "        self.uconv1 = UpConvBlock(fs[4], fs[3])\n",
    "        self.uconv2 = UpConvBlock(fs[3], fs[2])\n",
    "        self.uconv3 = UpConvBlock(fs[2], fs[1])\n",
    "        self.uconv4 = UpConvBlock(fs[1], fs[0])\n",
    "        self.conv_out = conv3x3(fs[0], 1)\n",
    "\n",
    "        self._initialize_weights()\n",
    "\n",
    "    def forward(self, x):\n",
    "        x1 = self.conv_in(x)\n",
    "        x2 = self.dconv1(x1)\n",
    "        x3 = self.dconv2(x2)\n",
    "        x4 = self.dconv3(x3)\n",
    "        x5 = self.dconv4(x4)\n",
    "        x6 = self.uconv1(x4, x5)\n",
    "        x7 = self.uconv2(x3, x6)\n",
    "        x8 = self.uconv3(x2, x7)\n",
    "        x9 = self.uconv4(x1, x8)\n",
    "        x10 = self.conv_out(x9)\n",
    "        return x10\n",
    "\n",
    "    def _initialize_weights(self):\n",
    "        conv_modules = [m for m in self.modules() if isinstance(m, nn.Conv2d)]\n",
    "        for m in conv_modules:\n",
    "          n = m.kernel_size[0] * m.kernel_size[1] * m.out_channels\n",
    "          m.weight.data.normal_(0, np.sqrt(2. / n))\n",
    "\n",
    "# train utils\n",
    "def np2var(arr, cuda):\n",
    "    arr = np.expand_dims(np.expand_dims(arr, 0), 0)\n",
    "    arr = torch.from_numpy(arr)\n",
    "    arr = Variable(arr)\n",
    "    if cuda:\n",
    "        arr = arr.cuda()\n",
    "    return arr\n",
    "\n",
    "def var2np(arr):\n",
    "    arr = arr.data.cpu().numpy()[0,0]\n",
    "    return arr            "
   ]
  },
  {
   "cell_type": "code",
   "execution_count": 3,
   "metadata": {},
   "outputs": [],
   "source": [
    "net = torch.load('basil_crackdetector_unet180417')"
   ]
  },
  {
   "cell_type": "code",
   "execution_count": 4,
   "metadata": {},
   "outputs": [],
   "source": [
    "def detect_cracks(z, src_cv, dst_cv, src_chunk_dim, dst_chunk_dim):\n",
    "    chunk_x_start = (src_chunk_dim[0]-dst_chunk_dim[0]) // 2\n",
    "    chunk_y_start = (src_chunk_dim[1]-dst_chunk_dim[1]) // 2\n",
    "    chunk_x_stop = chunk_x_start + dst_chunk_dim[0]\n",
    "    chunk_y_stop = chunk_y_start + dst_chunk_dim[1]\n",
    "    chunk_slice = slice(chunk_x_start, chunk_x_stop), slice(chunk_y_start, chunk_y_stop)\n",
    "    dst_size = dst_cv.shape\n",
    "    x_chunks = int(np.ceil(dst_size[0]/dst_chunk_dim[0]))\n",
    "    y_chunks = int(np.ceil(dst_size[1]/dst_chunk_dim[1]))\n",
    "    dst_shape = x_chunks*dst_chunk_dim[0], y_chunks*dst_chunk_dim[1]\n",
    "    \n",
    "    src_o = src_cv.voxel_offset\n",
    "    src_s = src_cv.shape\n",
    "    src_slice = (slice(src_o[0] - chunk_x_start, src_o[0] - chunk_x_start + x_chunks*src_chunk_dim[0]), \n",
    "                slice(src_o[1] - chunk_y_start, src_o[1] - chunk_y_start + y_chunks*src_chunk_dim[1]))\n",
    "    src_shape = (src_slice[0].stop - src_slice[0].start, src_slice[1].stop - src_slice[1].start)\n",
    "    \n",
    "    print('Downloading {}'.format(str(z)))\n",
    "    src_image = src_cv[src_slice + (z,)].astype(np.float32).reshape(src_shape)\n",
    "    dst_image = np.zeros(dst_shape, np.uint8)\n",
    "    \n",
    "    USECUDA=True\n",
    "\n",
    "    print('Processing {}'.format(str(z)))\n",
    "    for x in range(x_chunks):\n",
    "        for y in range(y_chunks):\n",
    "            # print(((x,y)))\n",
    "            x_start = x*dst_chunk_dim[0]\n",
    "            y_start = y*dst_chunk_dim[1]\n",
    "            dst_x_stop = x_start + dst_chunk_dim[0]\n",
    "            dst_y_stop = y_start + dst_chunk_dim[1]\n",
    "            dst_slice = slice(x_start, dst_x_stop), slice(y_start, dst_y_stop)\n",
    "            \n",
    "            src_x_stop = x_start + src_chunk_dim[0]\n",
    "            src_y_stop = y_start + src_chunk_dim[1]\n",
    "            src_slice = slice(x_start, src_x_stop), slice(y_start, src_y_stop)\n",
    "        \n",
    "            img = src_image[src_slice]\n",
    "            # print(img.shape)\n",
    "            img = img - np.mean(img) # normalize inputs\n",
    "            img = img / (np.std(img) + 1e-6)\n",
    "            img = np2var(img, cuda=USECUDA)\n",
    "            o = net(img)\n",
    "            dst_image[dst_slice] = var2np(o)[chunk_slice].astype(np.uint8)\n",
    "        \n",
    "    dst_image = dst_image.astype(np.uint8)\n",
    "    print('Uploading {}'.format(str(z)))\n",
    "    dst_cv[:,:,z] = dst_image[:dst_size[0],:dst_size[1],np.newaxis, np.newaxis]"
   ]
  },
  {
   "cell_type": "code",
   "execution_count": 7,
   "metadata": {},
   "outputs": [],
   "source": [
    "src_cv = CloudVolume('gs://neuroglancer/basil_v0/raw_image_cropped/permuted', mip=5, bounded=False, fill_missing=True, parallel=1)\n",
    "dst_cv = CloudVolume('gs://neuroglancer/basil_v0/raw_image_cropped/permuted/mask/crack_detector_v3', mip=5, cdn_cache=False, bounded=False, autocrop=False, parallel=1)"
   ]
  },
  {
   "cell_type": "code",
   "execution_count": 8,
   "metadata": {},
   "outputs": [],
   "source": [
    "src_chunk_dim = (512, 512)\n",
    "dst_chunk_dim = (512-128, 512-128)"
   ]
  },
  {
   "cell_type": "code",
   "execution_count": 10,
   "metadata": {},
   "outputs": [
    {
     "name": "stderr",
     "output_type": "stream",
     "text": [
      "\r",
      "Downloading:   0%|          | 0/72 [00:00<?, ?it/s]"
     ]
    },
    {
     "name": "stdout",
     "output_type": "stream",
     "text": [
      "Downloading 127\n"
     ]
    },
    {
     "name": "stderr",
     "output_type": "stream",
     "text": [
      "Downloading: 138it [00:04, 18.89it/s]                       \n"
     ]
    },
    {
     "name": "stdout",
     "output_type": "stream",
     "text": [
      "Processing 127\n"
     ]
    },
    {
     "name": "stderr",
     "output_type": "stream",
     "text": [
      "Rechunking image:   4%|▍         | 3/72 [00:00<00:03, 18.78it/s]"
     ]
    },
    {
     "name": "stdout",
     "output_type": "stream",
     "text": [
      "Uploading 127\n"
     ]
    },
    {
     "name": "stderr",
     "output_type": "stream",
     "text": [
      "Rechunking image: 100%|██████████| 72/72 [00:22<00:00,  3.21it/s]\n",
      "Uploading:   0%|          | 0/72 [00:00<?, ?it/s]\n",
      "Downloading:  28%|██▊       | 20/72 [00:00<00:00, 199.57it/s]"
     ]
    },
    {
     "name": "stdout",
     "output_type": "stream",
     "text": [
      "Downloading 128\n"
     ]
    },
    {
     "name": "stderr",
     "output_type": "stream",
     "text": [
      "Downloading: 142it [00:04, 29.01it/s]                        \n"
     ]
    },
    {
     "name": "stdout",
     "output_type": "stream",
     "text": [
      "Processing 128\n"
     ]
    },
    {
     "name": "stderr",
     "output_type": "stream",
     "text": [
      "\r",
      "Rechunking image:   0%|          | 0/72 [00:00<?, ?it/s]"
     ]
    },
    {
     "name": "stdout",
     "output_type": "stream",
     "text": [
      "Uploading 128\n"
     ]
    },
    {
     "name": "stderr",
     "output_type": "stream",
     "text": [
      "Rechunking image: 100%|██████████| 72/72 [00:24<00:00,  2.95it/s]\n",
      "Uploading:   0%|          | 0/72 [00:00<?, ?it/s]\n",
      "Downloading:   0%|          | 0/72 [00:00<?, ?it/s]"
     ]
    },
    {
     "name": "stdout",
     "output_type": "stream",
     "text": [
      "Downloading 129\n"
     ]
    },
    {
     "name": "stderr",
     "output_type": "stream",
     "text": [
      "Downloading: 134it [00:03, 27.82it/s]                        \n"
     ]
    },
    {
     "name": "stdout",
     "output_type": "stream",
     "text": [
      "Processing 129\n"
     ]
    },
    {
     "name": "stderr",
     "output_type": "stream",
     "text": [
      "Rechunking image:   1%|▏         | 1/72 [00:00<00:07,  9.20it/s]"
     ]
    },
    {
     "name": "stdout",
     "output_type": "stream",
     "text": [
      "Uploading 129\n"
     ]
    },
    {
     "name": "stderr",
     "output_type": "stream",
     "text": [
      "Rechunking image: 100%|██████████| 72/72 [00:20<00:00,  3.50it/s]\n",
      "Uploading:   0%|          | 0/72 [00:00<?, ?it/s]\n",
      "Downloading:   0%|          | 0/72 [00:00<?, ?it/s]"
     ]
    },
    {
     "name": "stdout",
     "output_type": "stream",
     "text": [
      "Downloading 130\n"
     ]
    },
    {
     "name": "stderr",
     "output_type": "stream",
     "text": [
      "Downloading: 134it [00:03, 23.33it/s]                        \n"
     ]
    },
    {
     "name": "stdout",
     "output_type": "stream",
     "text": [
      "Processing 130\n"
     ]
    },
    {
     "name": "stderr",
     "output_type": "stream",
     "text": [
      "Rechunking image:   1%|▏         | 1/72 [00:00<00:07,  9.37it/s]"
     ]
    },
    {
     "name": "stdout",
     "output_type": "stream",
     "text": [
      "Uploading 130\n"
     ]
    },
    {
     "name": "stderr",
     "output_type": "stream",
     "text": [
      "Rechunking image: 100%|██████████| 72/72 [00:21<00:00,  3.38it/s]\n",
      "Uploading:   0%|          | 0/72 [00:00<?, ?it/s]\n",
      "Downloading:   0%|          | 0/72 [00:00<?, ?it/s]"
     ]
    },
    {
     "name": "stdout",
     "output_type": "stream",
     "text": [
      "Downloading 131\n"
     ]
    },
    {
     "name": "stderr",
     "output_type": "stream",
     "text": [
      "Downloading: 142it [00:03, 25.23it/s]                        \n"
     ]
    },
    {
     "name": "stdout",
     "output_type": "stream",
     "text": [
      "Processing 131\n"
     ]
    },
    {
     "name": "stderr",
     "output_type": "stream",
     "text": [
      "\r",
      "Rechunking image:   0%|          | 0/72 [00:00<?, ?it/s]"
     ]
    },
    {
     "name": "stdout",
     "output_type": "stream",
     "text": [
      "Uploading 131\n"
     ]
    },
    {
     "name": "stderr",
     "output_type": "stream",
     "text": [
      "Rechunking image: 100%|██████████| 72/72 [00:21<00:00,  3.36it/s]\n",
      "Uploading:   0%|          | 0/72 [00:00<?, ?it/s]\n",
      "Downloading:   0%|          | 0/72 [00:00<?, ?it/s]"
     ]
    },
    {
     "name": "stdout",
     "output_type": "stream",
     "text": [
      "Downloading 132\n"
     ]
    },
    {
     "name": "stderr",
     "output_type": "stream",
     "text": [
      "Downloading: 140it [00:03, 21.20it/s]                        \n"
     ]
    },
    {
     "name": "stdout",
     "output_type": "stream",
     "text": [
      "Processing 132\n"
     ]
    },
    {
     "name": "stderr",
     "output_type": "stream",
     "text": [
      "\r",
      "Rechunking image:   0%|          | 0/72 [00:00<?, ?it/s]"
     ]
    },
    {
     "name": "stdout",
     "output_type": "stream",
     "text": [
      "Uploading 132\n"
     ]
    },
    {
     "name": "stderr",
     "output_type": "stream",
     "text": [
      "Rechunking image: 100%|██████████| 72/72 [00:21<00:00,  3.34it/s]\n",
      "Uploading:   0%|          | 0/72 [00:00<?, ?it/s]\n",
      "Downloading:   0%|          | 0/72 [00:00<?, ?it/s]"
     ]
    },
    {
     "name": "stdout",
     "output_type": "stream",
     "text": [
      "Downloading 133\n"
     ]
    },
    {
     "name": "stderr",
     "output_type": "stream",
     "text": [
      "Downloading: 140it [00:03, 25.52it/s]                        \n"
     ]
    },
    {
     "name": "stdout",
     "output_type": "stream",
     "text": [
      "Processing 133\n"
     ]
    },
    {
     "name": "stderr",
     "output_type": "stream",
     "text": [
      "\r",
      "Rechunking image:   0%|          | 0/72 [00:00<?, ?it/s]"
     ]
    },
    {
     "name": "stdout",
     "output_type": "stream",
     "text": [
      "Uploading 133\n"
     ]
    },
    {
     "name": "stderr",
     "output_type": "stream",
     "text": [
      "Rechunking image: 100%|██████████| 72/72 [00:20<00:00,  3.59it/s]\n",
      "Uploading:   0%|          | 0/72 [00:00<?, ?it/s]\n",
      "Downloading:   0%|          | 0/72 [00:00<?, ?it/s]"
     ]
    },
    {
     "name": "stdout",
     "output_type": "stream",
     "text": [
      "Downloading 134\n"
     ]
    },
    {
     "name": "stderr",
     "output_type": "stream",
     "text": [
      "Downloading: 120it [00:00, 156.17it/s]                       \n"
     ]
    },
    {
     "name": "stdout",
     "output_type": "stream",
     "text": [
      "Processing 134\n"
     ]
    },
    {
     "name": "stderr",
     "output_type": "stream",
     "text": [
      "Rechunking image:   6%|▌         | 4/72 [00:00<00:01, 34.91it/s]"
     ]
    },
    {
     "name": "stdout",
     "output_type": "stream",
     "text": [
      "Uploading 134\n"
     ]
    },
    {
     "name": "stderr",
     "output_type": "stream",
     "text": [
      "Rechunking image: 100%|██████████| 72/72 [00:01<00:00, 40.27it/s]\n",
      "Uploading:   0%|          | 0/72 [00:00<?, ?it/s]\n",
      "Downloading:  32%|███▏      | 23/72 [00:00<00:00, 229.16it/s]"
     ]
    },
    {
     "name": "stdout",
     "output_type": "stream",
     "text": [
      "Downloading 135\n"
     ]
    },
    {
     "name": "stderr",
     "output_type": "stream",
     "text": [
      "Downloading: 136it [00:04, 18.68it/s]                        \n"
     ]
    },
    {
     "name": "stdout",
     "output_type": "stream",
     "text": [
      "Processing 135\n"
     ]
    },
    {
     "name": "stderr",
     "output_type": "stream",
     "text": [
      "Rechunking image:   6%|▌         | 4/72 [00:00<00:02, 31.64it/s]"
     ]
    },
    {
     "name": "stdout",
     "output_type": "stream",
     "text": [
      "Uploading 135\n"
     ]
    },
    {
     "name": "stderr",
     "output_type": "stream",
     "text": [
      "Rechunking image: 100%|██████████| 72/72 [00:24<00:00,  2.91it/s]\n",
      "Uploading:   0%|          | 0/72 [00:00<?, ?it/s]\n",
      "Downloading:  29%|██▉       | 21/72 [00:00<00:00, 209.53it/s]"
     ]
    },
    {
     "name": "stdout",
     "output_type": "stream",
     "text": [
      "Downloading 136\n"
     ]
    },
    {
     "name": "stderr",
     "output_type": "stream",
     "text": [
      "Downloading: 134it [00:03, 21.82it/s]                        \n"
     ]
    },
    {
     "name": "stdout",
     "output_type": "stream",
     "text": [
      "Processing 136\n"
     ]
    },
    {
     "name": "stderr",
     "output_type": "stream",
     "text": [
      "\r",
      "Rechunking image:   0%|          | 0/72 [00:00<?, ?it/s]"
     ]
    },
    {
     "name": "stdout",
     "output_type": "stream",
     "text": [
      "Uploading 136\n"
     ]
    },
    {
     "name": "stderr",
     "output_type": "stream",
     "text": [
      "Rechunking image: 100%|██████████| 72/72 [00:22<00:00,  3.18it/s]\n",
      "Uploading:   0%|          | 0/72 [00:00<?, ?it/s]\n"
     ]
    }
   ],
   "source": [
    "for z in range(127,137):\n",
    "    detect_cracks(z, src_cv, dst_cv, src_chunk_dim, dst_chunk_dim)"
   ]
  },
  {
   "cell_type": "code",
   "execution_count": 11,
   "metadata": {},
   "outputs": [],
   "source": [
    "src_cv = CloudVolume('gs://neuroglancer/basil_v0/raw_image_cropped', mip=5, bounded=False, fill_missing=True, parallel=1)\n",
    "dst_cv = CloudVolume('gs://neuroglancer/basil_v0/raw_image_cropped/mask/crack_detector_v3', mip=5, cdn_cache=False, bounded=False, autocrop=False, parallel=1)"
   ]
  },
  {
   "cell_type": "code",
   "execution_count": 12,
   "metadata": {},
   "outputs": [
    {
     "name": "stderr",
     "output_type": "stream",
     "text": [
      "Downloading:  28%|██▊       | 20/72 [00:00<00:00, 199.62it/s]"
     ]
    },
    {
     "name": "stdout",
     "output_type": "stream",
     "text": [
      "Downloading 137\n"
     ]
    },
    {
     "name": "stderr",
     "output_type": "stream",
     "text": [
      "Downloading: 142it [00:03, 23.74it/s]                        \n"
     ]
    },
    {
     "name": "stdout",
     "output_type": "stream",
     "text": [
      "Processing 137\n"
     ]
    },
    {
     "name": "stderr",
     "output_type": "stream",
     "text": [
      "Rechunking image:   6%|▌         | 4/72 [00:00<00:01, 36.21it/s]"
     ]
    },
    {
     "name": "stdout",
     "output_type": "stream",
     "text": [
      "Uploading 137\n"
     ]
    },
    {
     "name": "stderr",
     "output_type": "stream",
     "text": [
      "Rechunking image: 100%|██████████| 72/72 [00:20<00:00,  3.49it/s]\n",
      "Uploading:   0%|          | 0/72 [00:00<?, ?it/s]\n",
      "Downloading:   0%|          | 0/72 [00:00<?, ?it/s]"
     ]
    },
    {
     "name": "stdout",
     "output_type": "stream",
     "text": [
      "Downloading 138\n"
     ]
    },
    {
     "name": "stderr",
     "output_type": "stream",
     "text": [
      "Downloading: 140it [00:03, 24.91it/s]                        \n"
     ]
    },
    {
     "name": "stdout",
     "output_type": "stream",
     "text": [
      "Processing 138\n"
     ]
    },
    {
     "name": "stderr",
     "output_type": "stream",
     "text": [
      "\r",
      "Rechunking image:   0%|          | 0/72 [00:00<?, ?it/s]"
     ]
    },
    {
     "name": "stdout",
     "output_type": "stream",
     "text": [
      "Uploading 138\n"
     ]
    },
    {
     "name": "stderr",
     "output_type": "stream",
     "text": [
      "Rechunking image: 100%|██████████| 72/72 [00:22<00:00,  3.17it/s]\n",
      "Uploading:   0%|          | 0/72 [00:00<?, ?it/s]\n",
      "Downloading:   0%|          | 0/72 [00:00<?, ?it/s]"
     ]
    },
    {
     "name": "stdout",
     "output_type": "stream",
     "text": [
      "Downloading 139\n"
     ]
    },
    {
     "name": "stderr",
     "output_type": "stream",
     "text": [
      "Downloading: 140it [00:04, 24.27it/s]                        \n"
     ]
    },
    {
     "name": "stdout",
     "output_type": "stream",
     "text": [
      "Processing 139\n"
     ]
    },
    {
     "name": "stderr",
     "output_type": "stream",
     "text": [
      "\r",
      "Rechunking image:   0%|          | 0/72 [00:00<?, ?it/s]"
     ]
    },
    {
     "name": "stdout",
     "output_type": "stream",
     "text": [
      "Uploading 139\n"
     ]
    },
    {
     "name": "stderr",
     "output_type": "stream",
     "text": [
      "Rechunking image: 100%|██████████| 72/72 [00:23<00:00,  3.11it/s]\n",
      "Uploading:   0%|          | 0/72 [00:00<?, ?it/s]\n",
      "Downloading:   0%|          | 0/72 [00:00<?, ?it/s]"
     ]
    },
    {
     "name": "stdout",
     "output_type": "stream",
     "text": [
      "Downloading 140\n"
     ]
    },
    {
     "name": "stderr",
     "output_type": "stream",
     "text": [
      "Downloading: 140it [00:04, 25.43it/s]                        \n"
     ]
    },
    {
     "name": "stdout",
     "output_type": "stream",
     "text": [
      "Processing 140\n"
     ]
    },
    {
     "name": "stderr",
     "output_type": "stream",
     "text": [
      "Rechunking image:   1%|▏         | 1/72 [00:00<00:12,  5.85it/s]"
     ]
    },
    {
     "name": "stdout",
     "output_type": "stream",
     "text": [
      "Uploading 140\n"
     ]
    },
    {
     "name": "stderr",
     "output_type": "stream",
     "text": [
      "Rechunking image: 100%|██████████| 72/72 [00:24<00:00,  2.97it/s]\n",
      "Uploading:   0%|          | 0/72 [00:00<?, ?it/s]\n",
      "Downloading:   0%|          | 0/72 [00:00<?, ?it/s]"
     ]
    },
    {
     "name": "stdout",
     "output_type": "stream",
     "text": [
      "Downloading 141\n"
     ]
    },
    {
     "name": "stderr",
     "output_type": "stream",
     "text": [
      "Downloading: 142it [00:04, 21.95it/s]                        \n"
     ]
    },
    {
     "name": "stdout",
     "output_type": "stream",
     "text": [
      "Processing 141\n"
     ]
    },
    {
     "name": "stderr",
     "output_type": "stream",
     "text": [
      "\r",
      "Rechunking image:   0%|          | 0/72 [00:00<?, ?it/s]"
     ]
    },
    {
     "name": "stdout",
     "output_type": "stream",
     "text": [
      "Uploading 141\n"
     ]
    },
    {
     "name": "stderr",
     "output_type": "stream",
     "text": [
      "Rechunking image: 100%|██████████| 72/72 [00:24<00:00,  2.98it/s]\n",
      "Uploading:   0%|          | 0/72 [00:00<?, ?it/s]\n",
      "Downloading:  28%|██▊       | 20/72 [00:00<00:00, 199.54it/s]"
     ]
    },
    {
     "name": "stdout",
     "output_type": "stream",
     "text": [
      "Downloading 142\n"
     ]
    },
    {
     "name": "stderr",
     "output_type": "stream",
     "text": [
      "Downloading: 142it [00:04, 25.60it/s]                        \n"
     ]
    },
    {
     "name": "stdout",
     "output_type": "stream",
     "text": [
      "Processing 142\n"
     ]
    },
    {
     "name": "stderr",
     "output_type": "stream",
     "text": [
      "\r",
      "Rechunking image:   0%|          | 0/72 [00:00<?, ?it/s]"
     ]
    },
    {
     "name": "stdout",
     "output_type": "stream",
     "text": [
      "Uploading 142\n"
     ]
    },
    {
     "name": "stderr",
     "output_type": "stream",
     "text": [
      "Rechunking image: 100%|██████████| 72/72 [00:22<00:00,  3.19it/s]\n",
      "Uploading:   0%|          | 0/72 [00:00<?, ?it/s]\n",
      "Downloading:   0%|          | 0/72 [00:00<?, ?it/s]"
     ]
    },
    {
     "name": "stdout",
     "output_type": "stream",
     "text": [
      "Downloading 143\n"
     ]
    },
    {
     "name": "stderr",
     "output_type": "stream",
     "text": [
      "Downloading: 142it [00:03, 22.98it/s]                        \n"
     ]
    },
    {
     "name": "stdout",
     "output_type": "stream",
     "text": [
      "Processing 143\n"
     ]
    },
    {
     "name": "stderr",
     "output_type": "stream",
     "text": [
      "Rechunking image:   1%|▏         | 1/72 [00:00<00:07,  9.85it/s]"
     ]
    },
    {
     "name": "stdout",
     "output_type": "stream",
     "text": [
      "Uploading 143\n"
     ]
    },
    {
     "name": "stderr",
     "output_type": "stream",
     "text": [
      "Rechunking image: 100%|██████████| 72/72 [00:21<00:00,  3.39it/s]\n",
      "Uploading:   0%|          | 0/72 [00:00<?, ?it/s]\n",
      "Downloading:   0%|          | 0/72 [00:00<?, ?it/s]"
     ]
    },
    {
     "name": "stdout",
     "output_type": "stream",
     "text": [
      "Downloading 144\n"
     ]
    },
    {
     "name": "stderr",
     "output_type": "stream",
     "text": [
      "Downloading: 138it [00:04, 20.90it/s]                        \n"
     ]
    },
    {
     "name": "stdout",
     "output_type": "stream",
     "text": [
      "Processing 144\n"
     ]
    },
    {
     "name": "stderr",
     "output_type": "stream",
     "text": [
      "Rechunking image:   1%|▏         | 1/72 [00:00<00:10,  6.98it/s]"
     ]
    },
    {
     "name": "stdout",
     "output_type": "stream",
     "text": [
      "Uploading 144\n"
     ]
    },
    {
     "name": "stderr",
     "output_type": "stream",
     "text": [
      "Rechunking image: 100%|██████████| 72/72 [00:23<00:00,  3.07it/s]\n",
      "Uploading:   0%|          | 0/72 [00:00<?, ?it/s]\n",
      "Downloading:   0%|          | 0/72 [00:00<?, ?it/s]"
     ]
    },
    {
     "name": "stdout",
     "output_type": "stream",
     "text": [
      "Downloading 145\n"
     ]
    },
    {
     "name": "stderr",
     "output_type": "stream",
     "text": [
      "Downloading: 134it [00:04, 20.88it/s]                        \n"
     ]
    },
    {
     "name": "stdout",
     "output_type": "stream",
     "text": [
      "Processing 145\n"
     ]
    },
    {
     "name": "stderr",
     "output_type": "stream",
     "text": [
      "Rechunking image:   1%|▏         | 1/72 [00:00<00:09,  7.50it/s]"
     ]
    },
    {
     "name": "stdout",
     "output_type": "stream",
     "text": [
      "Uploading 145\n"
     ]
    },
    {
     "name": "stderr",
     "output_type": "stream",
     "text": [
      "Rechunking image: 100%|██████████| 72/72 [00:23<00:00,  3.05it/s]\n",
      "Uploading:   0%|          | 0/72 [00:00<?, ?it/s]\n",
      "Downloading:   0%|          | 0/72 [00:00<?, ?it/s]"
     ]
    },
    {
     "name": "stdout",
     "output_type": "stream",
     "text": [
      "Downloading 146\n"
     ]
    },
    {
     "name": "stderr",
     "output_type": "stream",
     "text": [
      "Downloading: 140it [00:03, 23.34it/s]                        \n"
     ]
    },
    {
     "name": "stdout",
     "output_type": "stream",
     "text": [
      "Processing 146\n"
     ]
    },
    {
     "name": "stderr",
     "output_type": "stream",
     "text": [
      "Rechunking image:   1%|▏         | 1/72 [00:00<00:12,  5.72it/s]"
     ]
    },
    {
     "name": "stdout",
     "output_type": "stream",
     "text": [
      "Uploading 146\n"
     ]
    },
    {
     "name": "stderr",
     "output_type": "stream",
     "text": [
      "Rechunking image: 100%|██████████| 72/72 [00:22<00:00,  3.14it/s]\n",
      "Uploading:   0%|          | 0/72 [00:00<?, ?it/s]\n",
      "Downloading:   0%|          | 0/72 [00:00<?, ?it/s]"
     ]
    },
    {
     "name": "stdout",
     "output_type": "stream",
     "text": [
      "Downloading 147\n"
     ]
    },
    {
     "name": "stderr",
     "output_type": "stream",
     "text": [
      "Downloading: 142it [00:03, 22.68it/s]                        \n"
     ]
    },
    {
     "name": "stdout",
     "output_type": "stream",
     "text": [
      "Processing 147\n"
     ]
    },
    {
     "name": "stderr",
     "output_type": "stream",
     "text": [
      "Rechunking image:   1%|▏         | 1/72 [00:00<00:07,  9.95it/s]"
     ]
    },
    {
     "name": "stdout",
     "output_type": "stream",
     "text": [
      "Uploading 147\n"
     ]
    },
    {
     "name": "stderr",
     "output_type": "stream",
     "text": [
      "Rechunking image: 100%|██████████| 72/72 [00:22<00:00,  3.19it/s]\n",
      "Uploading:   0%|          | 0/72 [00:00<?, ?it/s]\n",
      "Downloading:   0%|          | 0/72 [00:00<?, ?it/s]"
     ]
    },
    {
     "name": "stdout",
     "output_type": "stream",
     "text": [
      "Downloading 148\n"
     ]
    },
    {
     "name": "stderr",
     "output_type": "stream",
     "text": [
      "Downloading: 142it [00:03, 26.48it/s]                        \n"
     ]
    },
    {
     "name": "stdout",
     "output_type": "stream",
     "text": [
      "Processing 148\n"
     ]
    },
    {
     "name": "stderr",
     "output_type": "stream",
     "text": [
      "Rechunking image:   1%|▏         | 1/72 [00:00<00:08,  8.50it/s]"
     ]
    },
    {
     "name": "stdout",
     "output_type": "stream",
     "text": [
      "Uploading 148\n"
     ]
    },
    {
     "name": "stderr",
     "output_type": "stream",
     "text": [
      "Rechunking image: 100%|██████████| 72/72 [00:22<00:00,  3.19it/s]\n",
      "Uploading:   0%|          | 0/72 [00:00<?, ?it/s]\n",
      "Downloading:   0%|          | 0/72 [00:00<?, ?it/s]"
     ]
    },
    {
     "name": "stdout",
     "output_type": "stream",
     "text": [
      "Downloading 149\n"
     ]
    },
    {
     "name": "stderr",
     "output_type": "stream",
     "text": [
      "Downloading: 140it [00:03, 24.07it/s]                        \n"
     ]
    },
    {
     "name": "stdout",
     "output_type": "stream",
     "text": [
      "Processing 149\n"
     ]
    },
    {
     "name": "stderr",
     "output_type": "stream",
     "text": [
      "Rechunking image:   1%|▏         | 1/72 [00:00<00:09,  7.67it/s]"
     ]
    },
    {
     "name": "stdout",
     "output_type": "stream",
     "text": [
      "Uploading 149\n"
     ]
    },
    {
     "name": "stderr",
     "output_type": "stream",
     "text": [
      "Rechunking image: 100%|██████████| 72/72 [00:23<00:00,  3.10it/s]\n",
      "Uploading:   0%|          | 0/72 [00:00<?, ?it/s]\n",
      "Downloading:   0%|          | 0/72 [00:00<?, ?it/s]"
     ]
    },
    {
     "name": "stdout",
     "output_type": "stream",
     "text": [
      "Downloading 150\n"
     ]
    },
    {
     "name": "stderr",
     "output_type": "stream",
     "text": [
      "Downloading: 142it [00:04, 29.36it/s]                        \n"
     ]
    },
    {
     "name": "stdout",
     "output_type": "stream",
     "text": [
      "Processing 150\n"
     ]
    },
    {
     "name": "stderr",
     "output_type": "stream",
     "text": [
      "Rechunking image:   1%|▏         | 1/72 [00:00<00:11,  6.01it/s]"
     ]
    },
    {
     "name": "stdout",
     "output_type": "stream",
     "text": [
      "Uploading 150\n"
     ]
    },
    {
     "name": "stderr",
     "output_type": "stream",
     "text": [
      "Rechunking image: 100%|██████████| 72/72 [00:23<00:00,  3.09it/s]\n",
      "Uploading:   0%|          | 0/72 [00:00<?, ?it/s]\n",
      "Downloading:   0%|          | 0/72 [00:00<?, ?it/s]"
     ]
    },
    {
     "name": "stdout",
     "output_type": "stream",
     "text": [
      "Downloading 151\n"
     ]
    },
    {
     "name": "stderr",
     "output_type": "stream",
     "text": [
      "Downloading: 142it [00:03, 22.89it/s]                        \n"
     ]
    },
    {
     "name": "stdout",
     "output_type": "stream",
     "text": [
      "Processing 151\n"
     ]
    },
    {
     "name": "stderr",
     "output_type": "stream",
     "text": [
      "Rechunking image:   1%|▏         | 1/72 [00:00<00:08,  8.44it/s]"
     ]
    },
    {
     "name": "stdout",
     "output_type": "stream",
     "text": [
      "Uploading 151\n"
     ]
    },
    {
     "name": "stderr",
     "output_type": "stream",
     "text": [
      "Rechunking image: 100%|██████████| 72/72 [00:21<00:00,  3.32it/s]\n",
      "Uploading:   0%|          | 0/72 [00:00<?, ?it/s]\n",
      "Downloading:  29%|██▉       | 21/72 [00:00<00:00, 209.57it/s]"
     ]
    },
    {
     "name": "stdout",
     "output_type": "stream",
     "text": [
      "Downloading 152\n"
     ]
    },
    {
     "name": "stderr",
     "output_type": "stream",
     "text": [
      "Downloading: 134it [00:03, 21.87it/s]                        \n"
     ]
    },
    {
     "name": "stdout",
     "output_type": "stream",
     "text": [
      "Processing 152\n"
     ]
    },
    {
     "name": "stderr",
     "output_type": "stream",
     "text": [
      "Rechunking image:   1%|▏         | 1/72 [00:00<00:11,  6.05it/s]"
     ]
    },
    {
     "name": "stdout",
     "output_type": "stream",
     "text": [
      "Uploading 152\n"
     ]
    },
    {
     "name": "stderr",
     "output_type": "stream",
     "text": [
      "Rechunking image: 100%|██████████| 72/72 [00:22<00:00,  3.26it/s]\n",
      "Uploading:   0%|          | 0/72 [00:00<?, ?it/s]\n",
      "Downloading:  29%|██▉       | 21/72 [00:00<00:00, 209.50it/s]"
     ]
    },
    {
     "name": "stdout",
     "output_type": "stream",
     "text": [
      "Downloading 153\n"
     ]
    },
    {
     "name": "stderr",
     "output_type": "stream",
     "text": [
      "Downloading: 138it [00:04, 23.58it/s]                        \n"
     ]
    },
    {
     "name": "stdout",
     "output_type": "stream",
     "text": [
      "Processing 153\n"
     ]
    },
    {
     "name": "stderr",
     "output_type": "stream",
     "text": [
      "Rechunking image:   1%|▏         | 1/72 [00:00<00:10,  6.49it/s]"
     ]
    },
    {
     "name": "stdout",
     "output_type": "stream",
     "text": [
      "Uploading 153\n"
     ]
    },
    {
     "name": "stderr",
     "output_type": "stream",
     "text": [
      "Rechunking image: 100%|██████████| 72/72 [00:23<00:00,  3.07it/s]\n",
      "Uploading:   0%|          | 0/72 [00:00<?, ?it/s]\n",
      "Downloading:   0%|          | 0/72 [00:00<?, ?it/s]"
     ]
    },
    {
     "name": "stdout",
     "output_type": "stream",
     "text": [
      "Downloading 154\n"
     ]
    },
    {
     "name": "stderr",
     "output_type": "stream",
     "text": [
      "Downloading: 140it [00:04, 26.69it/s]                        \n"
     ]
    },
    {
     "name": "stdout",
     "output_type": "stream",
     "text": [
      "Processing 154\n"
     ]
    },
    {
     "name": "stderr",
     "output_type": "stream",
     "text": [
      "\r",
      "Rechunking image:   0%|          | 0/72 [00:00<?, ?it/s]"
     ]
    },
    {
     "name": "stdout",
     "output_type": "stream",
     "text": [
      "Uploading 154\n"
     ]
    },
    {
     "name": "stderr",
     "output_type": "stream",
     "text": [
      "Rechunking image: 100%|██████████| 72/72 [00:23<00:00,  3.10it/s]\n",
      "Uploading:   0%|          | 0/72 [00:00<?, ?it/s]\n",
      "Downloading:  28%|██▊       | 20/72 [00:00<00:00, 198.60it/s]"
     ]
    },
    {
     "name": "stdout",
     "output_type": "stream",
     "text": [
      "Downloading 155\n"
     ]
    },
    {
     "name": "stderr",
     "output_type": "stream",
     "text": [
      "Downloading: 134it [00:04, 21.75it/s]                        \n"
     ]
    },
    {
     "name": "stdout",
     "output_type": "stream",
     "text": [
      "Processing 155\n"
     ]
    },
    {
     "name": "stderr",
     "output_type": "stream",
     "text": [
      "\r",
      "Rechunking image:   0%|          | 0/72 [00:00<?, ?it/s]"
     ]
    },
    {
     "name": "stdout",
     "output_type": "stream",
     "text": [
      "Uploading 155\n"
     ]
    },
    {
     "name": "stderr",
     "output_type": "stream",
     "text": [
      "Rechunking image: 100%|██████████| 72/72 [00:23<00:00,  3.03it/s]\n",
      "Uploading:   0%|          | 0/72 [00:00<?, ?it/s]\n",
      "Downloading:  29%|██▉       | 21/72 [00:00<00:00, 209.61it/s]"
     ]
    },
    {
     "name": "stdout",
     "output_type": "stream",
     "text": [
      "Downloading 156\n"
     ]
    },
    {
     "name": "stderr",
     "output_type": "stream",
     "text": [
      "Downloading: 138it [00:04, 25.80it/s]                        \n"
     ]
    },
    {
     "name": "stdout",
     "output_type": "stream",
     "text": [
      "Processing 156\n"
     ]
    },
    {
     "name": "stderr",
     "output_type": "stream",
     "text": [
      "Rechunking image:   1%|▏         | 1/72 [00:00<00:10,  6.61it/s]"
     ]
    },
    {
     "name": "stdout",
     "output_type": "stream",
     "text": [
      "Uploading 156\n"
     ]
    },
    {
     "name": "stderr",
     "output_type": "stream",
     "text": [
      "Rechunking image: 100%|██████████| 72/72 [00:21<00:00,  3.30it/s]\n",
      "Uploading:   0%|          | 0/72 [00:00<?, ?it/s]\n",
      "Downloading:   0%|          | 0/72 [00:00<?, ?it/s]"
     ]
    },
    {
     "name": "stdout",
     "output_type": "stream",
     "text": [
      "Downloading 157\n"
     ]
    },
    {
     "name": "stderr",
     "output_type": "stream",
     "text": [
      "Downloading: 132it [00:04, 19.60it/s]                        \n"
     ]
    },
    {
     "name": "stdout",
     "output_type": "stream",
     "text": [
      "Processing 157\n"
     ]
    },
    {
     "name": "stderr",
     "output_type": "stream",
     "text": [
      "Rechunking image:   1%|▏         | 1/72 [00:00<00:08,  8.81it/s]"
     ]
    },
    {
     "name": "stdout",
     "output_type": "stream",
     "text": [
      "Uploading 157\n"
     ]
    },
    {
     "name": "stderr",
     "output_type": "stream",
     "text": [
      "Rechunking image: 100%|██████████| 72/72 [00:21<00:00,  3.28it/s]\n",
      "Uploading:   0%|          | 0/72 [00:00<?, ?it/s]\n",
      "Downloading:  29%|██▉       | 21/72 [00:00<00:00, 209.53it/s]"
     ]
    },
    {
     "name": "stdout",
     "output_type": "stream",
     "text": [
      "Downloading 158\n"
     ]
    },
    {
     "name": "stderr",
     "output_type": "stream",
     "text": [
      "Downloading: 138it [00:03, 23.05it/s]                        \n"
     ]
    },
    {
     "name": "stdout",
     "output_type": "stream",
     "text": [
      "Processing 158\n"
     ]
    },
    {
     "name": "stderr",
     "output_type": "stream",
     "text": [
      "Rechunking image:   1%|▏         | 1/72 [00:00<00:08,  8.36it/s]"
     ]
    },
    {
     "name": "stdout",
     "output_type": "stream",
     "text": [
      "Uploading 158\n"
     ]
    },
    {
     "name": "stderr",
     "output_type": "stream",
     "text": [
      "Rechunking image: 100%|██████████| 72/72 [00:23<00:00,  3.08it/s]\n",
      "Uploading:   0%|          | 0/72 [00:00<?, ?it/s]\n",
      "Downloading:   0%|          | 0/72 [00:00<?, ?it/s]"
     ]
    },
    {
     "name": "stdout",
     "output_type": "stream",
     "text": [
      "Downloading 159\n"
     ]
    },
    {
     "name": "stderr",
     "output_type": "stream",
     "text": [
      "Downloading: 138it [00:04, 21.37it/s]                        \n"
     ]
    },
    {
     "name": "stdout",
     "output_type": "stream",
     "text": [
      "Processing 159\n"
     ]
    },
    {
     "name": "stderr",
     "output_type": "stream",
     "text": [
      "Rechunking image:   1%|▏         | 1/72 [00:00<00:11,  6.42it/s]"
     ]
    },
    {
     "name": "stdout",
     "output_type": "stream",
     "text": [
      "Uploading 159\n"
     ]
    },
    {
     "name": "stderr",
     "output_type": "stream",
     "text": [
      "Rechunking image: 100%|██████████| 72/72 [00:22<00:00,  3.14it/s]\n",
      "Uploading:   0%|          | 0/72 [00:00<?, ?it/s]\n",
      "Downloading:  28%|██▊       | 20/72 [00:00<00:00, 199.61it/s]"
     ]
    },
    {
     "name": "stdout",
     "output_type": "stream",
     "text": [
      "Downloading 160\n"
     ]
    },
    {
     "name": "stderr",
     "output_type": "stream",
     "text": [
      "Downloading: 142it [00:04, 22.29it/s]                        \n"
     ]
    },
    {
     "name": "stdout",
     "output_type": "stream",
     "text": [
      "Processing 160\n"
     ]
    },
    {
     "name": "stderr",
     "output_type": "stream",
     "text": [
      "Rechunking image:   1%|▏         | 1/72 [00:00<00:07,  9.03it/s]"
     ]
    },
    {
     "name": "stdout",
     "output_type": "stream",
     "text": [
      "Uploading 160\n"
     ]
    },
    {
     "name": "stderr",
     "output_type": "stream",
     "text": [
      "Rechunking image: 100%|██████████| 72/72 [00:22<00:00,  3.25it/s]\n",
      "Uploading:   0%|          | 0/72 [00:00<?, ?it/s]\n",
      "Downloading:  29%|██▉       | 21/72 [00:00<00:00, 209.62it/s]"
     ]
    },
    {
     "name": "stdout",
     "output_type": "stream",
     "text": [
      "Downloading 161\n"
     ]
    },
    {
     "name": "stderr",
     "output_type": "stream",
     "text": [
      "Downloading: 138it [00:03, 23.33it/s]                        \n"
     ]
    },
    {
     "name": "stdout",
     "output_type": "stream",
     "text": [
      "Processing 161\n"
     ]
    },
    {
     "name": "stderr",
     "output_type": "stream",
     "text": [
      "Rechunking image:   1%|▏         | 1/72 [00:00<00:07,  9.79it/s]"
     ]
    },
    {
     "name": "stdout",
     "output_type": "stream",
     "text": [
      "Uploading 161\n"
     ]
    },
    {
     "name": "stderr",
     "output_type": "stream",
     "text": [
      "Rechunking image: 100%|██████████| 72/72 [00:22<00:00,  3.15it/s]\n",
      "Uploading:   0%|          | 0/72 [00:00<?, ?it/s]\n",
      "Downloading:   0%|          | 0/72 [00:00<?, ?it/s]"
     ]
    },
    {
     "name": "stdout",
     "output_type": "stream",
     "text": [
      "Downloading 162\n"
     ]
    },
    {
     "name": "stderr",
     "output_type": "stream",
     "text": [
      "Downloading: 142it [00:03, 22.77it/s]                        \n"
     ]
    },
    {
     "name": "stdout",
     "output_type": "stream",
     "text": [
      "Processing 162\n"
     ]
    },
    {
     "name": "stderr",
     "output_type": "stream",
     "text": [
      "\r",
      "Rechunking image:   0%|          | 0/72 [00:00<?, ?it/s]"
     ]
    },
    {
     "name": "stdout",
     "output_type": "stream",
     "text": [
      "Uploading 162\n"
     ]
    },
    {
     "name": "stderr",
     "output_type": "stream",
     "text": [
      "Rechunking image: 100%|██████████| 72/72 [00:22<00:00,  3.24it/s]\n",
      "Uploading:   0%|          | 0/72 [00:00<?, ?it/s]\n",
      "Downloading:   0%|          | 0/72 [00:00<?, ?it/s]"
     ]
    },
    {
     "name": "stdout",
     "output_type": "stream",
     "text": [
      "Downloading 163\n"
     ]
    },
    {
     "name": "stderr",
     "output_type": "stream",
     "text": [
      "Downloading: 138it [00:03, 21.06it/s]                        \n"
     ]
    },
    {
     "name": "stdout",
     "output_type": "stream",
     "text": [
      "Processing 163\n"
     ]
    },
    {
     "name": "stderr",
     "output_type": "stream",
     "text": [
      "\r",
      "Rechunking image:   0%|          | 0/72 [00:00<?, ?it/s]"
     ]
    },
    {
     "name": "stdout",
     "output_type": "stream",
     "text": [
      "Uploading 163\n"
     ]
    },
    {
     "name": "stderr",
     "output_type": "stream",
     "text": [
      "Rechunking image: 100%|██████████| 72/72 [00:22<00:00,  3.14it/s]\n",
      "Uploading:   0%|          | 0/72 [00:00<?, ?it/s]\n",
      "Downloading:   0%|          | 0/72 [00:00<?, ?it/s]"
     ]
    },
    {
     "name": "stdout",
     "output_type": "stream",
     "text": [
      "Downloading 164\n"
     ]
    },
    {
     "name": "stderr",
     "output_type": "stream",
     "text": [
      "Downloading: 134it [00:03, 18.85it/s]                        \n"
     ]
    },
    {
     "name": "stdout",
     "output_type": "stream",
     "text": [
      "Processing 164\n"
     ]
    },
    {
     "name": "stderr",
     "output_type": "stream",
     "text": [
      "\r",
      "Rechunking image:   0%|          | 0/72 [00:00<?, ?it/s]"
     ]
    },
    {
     "name": "stdout",
     "output_type": "stream",
     "text": [
      "Uploading 164\n"
     ]
    },
    {
     "name": "stderr",
     "output_type": "stream",
     "text": [
      "Rechunking image: 100%|██████████| 72/72 [00:23<00:00,  3.03it/s]\n",
      "Uploading:   0%|          | 0/72 [00:00<?, ?it/s]\n",
      "Downloading:  28%|██▊       | 20/72 [00:00<00:00, 199.62it/s]"
     ]
    },
    {
     "name": "stdout",
     "output_type": "stream",
     "text": [
      "Downloading 165\n"
     ]
    },
    {
     "name": "stderr",
     "output_type": "stream",
     "text": [
      "Downloading: 142it [00:03, 26.64it/s]                        \n"
     ]
    },
    {
     "name": "stdout",
     "output_type": "stream",
     "text": [
      "Processing 165\n"
     ]
    },
    {
     "name": "stderr",
     "output_type": "stream",
     "text": [
      "\r",
      "Rechunking image:   0%|          | 0/72 [00:00<?, ?it/s]"
     ]
    },
    {
     "name": "stdout",
     "output_type": "stream",
     "text": [
      "Uploading 165\n"
     ]
    },
    {
     "name": "stderr",
     "output_type": "stream",
     "text": [
      "Rechunking image: 100%|██████████| 72/72 [00:22<00:00,  3.22it/s]\n",
      "Uploading:   0%|          | 0/72 [00:00<?, ?it/s]\n",
      "Downloading:   0%|          | 0/72 [00:00<?, ?it/s]"
     ]
    },
    {
     "name": "stdout",
     "output_type": "stream",
     "text": [
      "Downloading 166\n"
     ]
    },
    {
     "name": "stderr",
     "output_type": "stream",
     "text": [
      "Downloading: 140it [00:03, 22.46it/s]                        \n"
     ]
    },
    {
     "name": "stdout",
     "output_type": "stream",
     "text": [
      "Processing 166\n"
     ]
    },
    {
     "name": "stderr",
     "output_type": "stream",
     "text": [
      "\r",
      "Rechunking image:   0%|          | 0/72 [00:00<?, ?it/s]"
     ]
    },
    {
     "name": "stdout",
     "output_type": "stream",
     "text": [
      "Uploading 166\n"
     ]
    },
    {
     "name": "stderr",
     "output_type": "stream",
     "text": [
      "Rechunking image: 100%|██████████| 72/72 [00:21<00:00,  3.32it/s]\n",
      "Uploading:   0%|          | 0/72 [00:00<?, ?it/s]\n",
      "Downloading:   0%|          | 0/72 [00:00<?, ?it/s]"
     ]
    },
    {
     "name": "stdout",
     "output_type": "stream",
     "text": [
      "Downloading 167\n"
     ]
    },
    {
     "name": "stderr",
     "output_type": "stream",
     "text": [
      "Downloading: 134it [00:03, 21.17it/s]                        \n"
     ]
    },
    {
     "name": "stdout",
     "output_type": "stream",
     "text": [
      "Processing 167\n"
     ]
    },
    {
     "name": "stderr",
     "output_type": "stream",
     "text": [
      "\r",
      "Rechunking image:   0%|          | 0/72 [00:00<?, ?it/s]"
     ]
    },
    {
     "name": "stdout",
     "output_type": "stream",
     "text": [
      "Uploading 167\n"
     ]
    },
    {
     "name": "stderr",
     "output_type": "stream",
     "text": [
      "Rechunking image: 100%|██████████| 72/72 [00:22<00:00,  3.26it/s]\n",
      "Uploading:   0%|          | 0/72 [00:00<?, ?it/s]\n",
      "Downloading:  29%|██▉       | 21/72 [00:00<00:00, 209.60it/s]"
     ]
    },
    {
     "name": "stdout",
     "output_type": "stream",
     "text": [
      "Downloading 168\n"
     ]
    },
    {
     "name": "stderr",
     "output_type": "stream",
     "text": [
      "Downloading: 142it [00:03, 26.09it/s]                        \n"
     ]
    },
    {
     "name": "stdout",
     "output_type": "stream",
     "text": [
      "Processing 168\n"
     ]
    },
    {
     "name": "stderr",
     "output_type": "stream",
     "text": [
      "Rechunking image:   1%|▏         | 1/72 [00:00<00:10,  6.80it/s]"
     ]
    },
    {
     "name": "stdout",
     "output_type": "stream",
     "text": [
      "Uploading 168\n"
     ]
    },
    {
     "name": "stderr",
     "output_type": "stream",
     "text": [
      "Rechunking image: 100%|██████████| 72/72 [00:23<00:00,  3.07it/s]\n",
      "Uploading:   0%|          | 0/72 [00:00<?, ?it/s]\n",
      "Downloading:   0%|          | 0/72 [00:00<?, ?it/s]"
     ]
    },
    {
     "name": "stdout",
     "output_type": "stream",
     "text": [
      "Downloading 169\n"
     ]
    },
    {
     "name": "stderr",
     "output_type": "stream",
     "text": [
      "Downloading: 138it [00:04, 23.70it/s]                        \n"
     ]
    },
    {
     "name": "stdout",
     "output_type": "stream",
     "text": [
      "Processing 169\n"
     ]
    },
    {
     "name": "stderr",
     "output_type": "stream",
     "text": [
      "Rechunking image:   1%|▏         | 1/72 [00:00<00:07,  9.19it/s]"
     ]
    },
    {
     "name": "stdout",
     "output_type": "stream",
     "text": [
      "Uploading 169\n"
     ]
    },
    {
     "name": "stderr",
     "output_type": "stream",
     "text": [
      "Rechunking image: 100%|██████████| 72/72 [00:23<00:00,  3.09it/s]\n",
      "Uploading:   0%|          | 0/72 [00:00<?, ?it/s]\n",
      "Downloading:   0%|          | 0/72 [00:00<?, ?it/s]"
     ]
    },
    {
     "name": "stdout",
     "output_type": "stream",
     "text": [
      "Downloading 170\n"
     ]
    },
    {
     "name": "stderr",
     "output_type": "stream",
     "text": [
      "Downloading: 140it [00:04, 21.09it/s]                        \n"
     ]
    },
    {
     "name": "stdout",
     "output_type": "stream",
     "text": [
      "Processing 170\n"
     ]
    },
    {
     "name": "stderr",
     "output_type": "stream",
     "text": [
      "\r",
      "Rechunking image:   0%|          | 0/72 [00:00<?, ?it/s]"
     ]
    },
    {
     "name": "stdout",
     "output_type": "stream",
     "text": [
      "Uploading 170\n"
     ]
    },
    {
     "name": "stderr",
     "output_type": "stream",
     "text": [
      "Rechunking image: 100%|██████████| 72/72 [00:21<00:00,  3.32it/s]\n",
      "Uploading:   0%|          | 0/72 [00:00<?, ?it/s]\n",
      "Downloading:   0%|          | 0/72 [00:00<?, ?it/s]"
     ]
    },
    {
     "name": "stdout",
     "output_type": "stream",
     "text": [
      "Downloading 171\n"
     ]
    },
    {
     "name": "stderr",
     "output_type": "stream",
     "text": [
      "Downloading: 134it [00:04, 17.83it/s]                        \n"
     ]
    },
    {
     "name": "stdout",
     "output_type": "stream",
     "text": [
      "Processing 171\n"
     ]
    },
    {
     "name": "stderr",
     "output_type": "stream",
     "text": [
      "Rechunking image:   1%|▏         | 1/72 [00:00<00:09,  7.55it/s]"
     ]
    },
    {
     "name": "stdout",
     "output_type": "stream",
     "text": [
      "Uploading 171\n"
     ]
    },
    {
     "name": "stderr",
     "output_type": "stream",
     "text": [
      "Rechunking image: 100%|██████████| 72/72 [00:22<00:00,  3.22it/s]\n",
      "Uploading:   0%|          | 0/72 [00:00<?, ?it/s]\n",
      "Downloading:   0%|          | 0/72 [00:00<?, ?it/s]"
     ]
    },
    {
     "name": "stdout",
     "output_type": "stream",
     "text": [
      "Downloading 172\n"
     ]
    },
    {
     "name": "stderr",
     "output_type": "stream",
     "text": [
      "Downloading: 138it [00:04, 24.11it/s]                        \n"
     ]
    },
    {
     "name": "stdout",
     "output_type": "stream",
     "text": [
      "Processing 172\n"
     ]
    },
    {
     "name": "stderr",
     "output_type": "stream",
     "text": [
      "Rechunking image:   1%|▏         | 1/72 [00:00<00:10,  6.77it/s]"
     ]
    },
    {
     "name": "stdout",
     "output_type": "stream",
     "text": [
      "Uploading 172\n"
     ]
    },
    {
     "name": "stderr",
     "output_type": "stream",
     "text": [
      "Rechunking image: 100%|██████████| 72/72 [00:23<00:00,  3.10it/s]\n",
      "Uploading:   0%|          | 0/72 [00:00<?, ?it/s]\n",
      "Downloading:   0%|          | 0/72 [00:00<?, ?it/s]"
     ]
    },
    {
     "name": "stdout",
     "output_type": "stream",
     "text": [
      "Downloading 173\n"
     ]
    },
    {
     "name": "stderr",
     "output_type": "stream",
     "text": [
      "Downloading: 142it [00:04, 23.32it/s]                        \n"
     ]
    },
    {
     "name": "stdout",
     "output_type": "stream",
     "text": [
      "Processing 173\n"
     ]
    },
    {
     "name": "stderr",
     "output_type": "stream",
     "text": [
      "Rechunking image:   1%|▏         | 1/72 [00:00<00:07,  8.94it/s]"
     ]
    },
    {
     "name": "stdout",
     "output_type": "stream",
     "text": [
      "Uploading 173\n"
     ]
    },
    {
     "name": "stderr",
     "output_type": "stream",
     "text": [
      "Rechunking image: 100%|██████████| 72/72 [00:22<00:00,  3.14it/s]\n",
      "Uploading:   0%|          | 0/72 [00:00<?, ?it/s]\n",
      "Downloading:   0%|          | 0/72 [00:00<?, ?it/s]"
     ]
    },
    {
     "name": "stdout",
     "output_type": "stream",
     "text": [
      "Downloading 174\n"
     ]
    },
    {
     "name": "stderr",
     "output_type": "stream",
     "text": [
      "Downloading: 142it [00:03, 24.55it/s]                        \n"
     ]
    },
    {
     "name": "stdout",
     "output_type": "stream",
     "text": [
      "Processing 174\n"
     ]
    },
    {
     "name": "stderr",
     "output_type": "stream",
     "text": [
      "\r",
      "Rechunking image:   0%|          | 0/72 [00:00<?, ?it/s]"
     ]
    },
    {
     "name": "stdout",
     "output_type": "stream",
     "text": [
      "Uploading 174\n"
     ]
    },
    {
     "name": "stderr",
     "output_type": "stream",
     "text": [
      "Rechunking image: 100%|██████████| 72/72 [00:22<00:00,  3.27it/s]\n",
      "Uploading:   0%|          | 0/72 [00:00<?, ?it/s]\n",
      "Downloading:   0%|          | 0/72 [00:00<?, ?it/s]"
     ]
    },
    {
     "name": "stdout",
     "output_type": "stream",
     "text": [
      "Downloading 175\n"
     ]
    },
    {
     "name": "stderr",
     "output_type": "stream",
     "text": [
      "Downloading: 134it [00:03, 17.54it/s]                        \n"
     ]
    },
    {
     "name": "stdout",
     "output_type": "stream",
     "text": [
      "Processing 175\n"
     ]
    },
    {
     "name": "stderr",
     "output_type": "stream",
     "text": [
      "Rechunking image:   1%|▏         | 1/72 [00:00<00:07,  9.35it/s]"
     ]
    },
    {
     "name": "stdout",
     "output_type": "stream",
     "text": [
      "Uploading 175\n"
     ]
    },
    {
     "name": "stderr",
     "output_type": "stream",
     "text": [
      "Rechunking image: 100%|██████████| 72/72 [00:22<00:00,  3.27it/s]\n",
      "Uploading:   0%|          | 0/72 [00:00<?, ?it/s]\n",
      "Downloading:   0%|          | 0/72 [00:00<?, ?it/s]"
     ]
    },
    {
     "name": "stdout",
     "output_type": "stream",
     "text": [
      "Downloading 176\n"
     ]
    },
    {
     "name": "stderr",
     "output_type": "stream",
     "text": [
      "Downloading: 142it [00:03, 22.72it/s]                        \n"
     ]
    },
    {
     "name": "stdout",
     "output_type": "stream",
     "text": [
      "Processing 176\n"
     ]
    },
    {
     "name": "stderr",
     "output_type": "stream",
     "text": [
      "Rechunking image:   1%|▏         | 1/72 [00:00<00:07,  8.98it/s]"
     ]
    },
    {
     "name": "stdout",
     "output_type": "stream",
     "text": [
      "Uploading 176\n"
     ]
    },
    {
     "name": "stderr",
     "output_type": "stream",
     "text": [
      "Rechunking image: 100%|██████████| 72/72 [00:22<00:00,  3.23it/s]\n",
      "Uploading:   0%|          | 0/72 [00:00<?, ?it/s]\n",
      "Downloading:   0%|          | 0/72 [00:00<?, ?it/s]"
     ]
    },
    {
     "name": "stdout",
     "output_type": "stream",
     "text": [
      "Downloading 177\n"
     ]
    },
    {
     "name": "stderr",
     "output_type": "stream",
     "text": [
      "Downloading: 136it [00:04, 24.75it/s]                        \n"
     ]
    },
    {
     "name": "stdout",
     "output_type": "stream",
     "text": [
      "Processing 177\n"
     ]
    },
    {
     "name": "stderr",
     "output_type": "stream",
     "text": [
      "Rechunking image:   1%|▏         | 1/72 [00:00<00:11,  6.11it/s]"
     ]
    },
    {
     "name": "stdout",
     "output_type": "stream",
     "text": [
      "Uploading 177\n"
     ]
    },
    {
     "name": "stderr",
     "output_type": "stream",
     "text": [
      "Rechunking image: 100%|██████████| 72/72 [00:23<00:00,  3.10it/s]\n",
      "Uploading:   0%|          | 0/72 [00:00<?, ?it/s]\n",
      "Downloading:   0%|          | 0/72 [00:00<?, ?it/s]"
     ]
    },
    {
     "name": "stdout",
     "output_type": "stream",
     "text": [
      "Downloading 178\n"
     ]
    },
    {
     "name": "stderr",
     "output_type": "stream",
     "text": [
      "Downloading: 134it [00:04, 19.59it/s]                        \n"
     ]
    },
    {
     "name": "stdout",
     "output_type": "stream",
     "text": [
      "Processing 178\n"
     ]
    },
    {
     "name": "stderr",
     "output_type": "stream",
     "text": [
      "Rechunking image:   1%|▏         | 1/72 [00:00<00:09,  7.11it/s]"
     ]
    },
    {
     "name": "stdout",
     "output_type": "stream",
     "text": [
      "Uploading 178\n"
     ]
    },
    {
     "name": "stderr",
     "output_type": "stream",
     "text": [
      "Rechunking image: 100%|██████████| 72/72 [00:23<00:00,  3.08it/s]\n",
      "Uploading:   0%|          | 0/72 [00:00<?, ?it/s]\n",
      "Downloading:  28%|██▊       | 20/72 [00:00<00:00, 199.56it/s]"
     ]
    },
    {
     "name": "stdout",
     "output_type": "stream",
     "text": [
      "Downloading 179\n"
     ]
    },
    {
     "name": "stderr",
     "output_type": "stream",
     "text": [
      "Downloading: 138it [00:04, 22.64it/s]                        \n"
     ]
    },
    {
     "name": "stdout",
     "output_type": "stream",
     "text": [
      "Processing 179\n"
     ]
    },
    {
     "name": "stderr",
     "output_type": "stream",
     "text": [
      "Rechunking image:   1%|▏         | 1/72 [00:00<00:08,  8.86it/s]"
     ]
    },
    {
     "name": "stdout",
     "output_type": "stream",
     "text": [
      "Uploading 179\n"
     ]
    },
    {
     "name": "stderr",
     "output_type": "stream",
     "text": [
      "Rechunking image: 100%|██████████| 72/72 [00:22<00:00,  3.26it/s]\n",
      "Uploading:   0%|          | 0/72 [00:00<?, ?it/s]\n",
      "Downloading:   0%|          | 0/72 [00:00<?, ?it/s]"
     ]
    },
    {
     "name": "stdout",
     "output_type": "stream",
     "text": [
      "Downloading 180\n"
     ]
    },
    {
     "name": "stderr",
     "output_type": "stream",
     "text": [
      "Downloading: 140it [00:04, 24.55it/s]                        \n"
     ]
    },
    {
     "name": "stdout",
     "output_type": "stream",
     "text": [
      "Processing 180\n"
     ]
    },
    {
     "name": "stderr",
     "output_type": "stream",
     "text": [
      "\r",
      "Rechunking image:   0%|          | 0/72 [00:00<?, ?it/s]"
     ]
    },
    {
     "name": "stdout",
     "output_type": "stream",
     "text": [
      "Uploading 180\n"
     ]
    },
    {
     "name": "stderr",
     "output_type": "stream",
     "text": [
      "Rechunking image: 100%|██████████| 72/72 [00:21<00:00,  3.39it/s]\n",
      "Uploading:   0%|          | 0/72 [00:00<?, ?it/s]\n",
      "Downloading:   0%|          | 0/72 [00:00<?, ?it/s]"
     ]
    },
    {
     "name": "stdout",
     "output_type": "stream",
     "text": [
      "Downloading 181\n"
     ]
    },
    {
     "name": "stderr",
     "output_type": "stream",
     "text": [
      "Downloading: 132it [00:03, 18.36it/s]                        \n"
     ]
    },
    {
     "name": "stdout",
     "output_type": "stream",
     "text": [
      "Processing 181\n"
     ]
    },
    {
     "name": "stderr",
     "output_type": "stream",
     "text": [
      "Rechunking image:   1%|▏         | 1/72 [00:00<00:08,  8.07it/s]"
     ]
    },
    {
     "name": "stdout",
     "output_type": "stream",
     "text": [
      "Uploading 181\n"
     ]
    },
    {
     "name": "stderr",
     "output_type": "stream",
     "text": [
      "Rechunking image: 100%|██████████| 72/72 [00:23<00:00,  3.11it/s]\n",
      "Uploading:   0%|          | 0/72 [00:00<?, ?it/s]\n",
      "Downloading:  31%|███       | 22/72 [00:00<00:00, 219.50it/s]"
     ]
    },
    {
     "name": "stdout",
     "output_type": "stream",
     "text": [
      "Downloading 182\n"
     ]
    },
    {
     "name": "stderr",
     "output_type": "stream",
     "text": [
      "Downloading: 140it [00:04, 25.11it/s]                        \n"
     ]
    },
    {
     "name": "stdout",
     "output_type": "stream",
     "text": [
      "Processing 182\n"
     ]
    },
    {
     "name": "stderr",
     "output_type": "stream",
     "text": [
      "Rechunking image:   1%|▏         | 1/72 [00:00<00:08,  7.93it/s]"
     ]
    },
    {
     "name": "stdout",
     "output_type": "stream",
     "text": [
      "Uploading 182\n"
     ]
    },
    {
     "name": "stderr",
     "output_type": "stream",
     "text": [
      "Rechunking image: 100%|██████████| 72/72 [00:24<00:00,  2.99it/s]\n",
      "Uploading:   0%|          | 0/72 [00:00<?, ?it/s]\n",
      "Downloading:   0%|          | 0/72 [00:00<?, ?it/s]"
     ]
    },
    {
     "name": "stdout",
     "output_type": "stream",
     "text": [
      "Downloading 183\n"
     ]
    },
    {
     "name": "stderr",
     "output_type": "stream",
     "text": [
      "Downloading: 140it [00:04, 23.84it/s]                        \n"
     ]
    },
    {
     "name": "stdout",
     "output_type": "stream",
     "text": [
      "Processing 183\n"
     ]
    },
    {
     "name": "stderr",
     "output_type": "stream",
     "text": [
      "Rechunking image:   1%|▏         | 1/72 [00:00<00:09,  7.60it/s]"
     ]
    },
    {
     "name": "stdout",
     "output_type": "stream",
     "text": [
      "Uploading 183\n"
     ]
    },
    {
     "name": "stderr",
     "output_type": "stream",
     "text": [
      "Rechunking image: 100%|██████████| 72/72 [00:23<00:00,  3.06it/s]\n",
      "Uploading:   0%|          | 0/72 [00:00<?, ?it/s]\n",
      "Downloading:  29%|██▉       | 21/72 [00:00<00:00, 209.58it/s]"
     ]
    },
    {
     "name": "stdout",
     "output_type": "stream",
     "text": [
      "Downloading 184\n"
     ]
    },
    {
     "name": "stderr",
     "output_type": "stream",
     "text": [
      "Downloading: 140it [00:03, 24.21it/s]                        \n"
     ]
    },
    {
     "name": "stdout",
     "output_type": "stream",
     "text": [
      "Processing 184\n"
     ]
    },
    {
     "name": "stderr",
     "output_type": "stream",
     "text": [
      "Rechunking image:   1%|▏         | 1/72 [00:00<00:10,  6.68it/s]"
     ]
    },
    {
     "name": "stdout",
     "output_type": "stream",
     "text": [
      "Uploading 184\n"
     ]
    },
    {
     "name": "stderr",
     "output_type": "stream",
     "text": [
      "Rechunking image: 100%|██████████| 72/72 [00:22<00:00,  3.27it/s]\n",
      "Uploading:   0%|          | 0/72 [00:00<?, ?it/s]\n",
      "Downloading:   0%|          | 0/72 [00:00<?, ?it/s]"
     ]
    },
    {
     "name": "stdout",
     "output_type": "stream",
     "text": [
      "Downloading 185\n"
     ]
    },
    {
     "name": "stderr",
     "output_type": "stream",
     "text": [
      "Downloading: 140it [00:03, 22.99it/s]                        \n"
     ]
    },
    {
     "name": "stdout",
     "output_type": "stream",
     "text": [
      "Processing 185\n"
     ]
    },
    {
     "name": "stderr",
     "output_type": "stream",
     "text": [
      "\r",
      "Rechunking image:   0%|          | 0/72 [00:00<?, ?it/s]"
     ]
    },
    {
     "name": "stdout",
     "output_type": "stream",
     "text": [
      "Uploading 185\n"
     ]
    },
    {
     "name": "stderr",
     "output_type": "stream",
     "text": [
      "Rechunking image: 100%|██████████| 72/72 [00:22<00:00,  3.19it/s]\n",
      "Uploading:   0%|          | 0/72 [00:00<?, ?it/s]\n",
      "Downloading:   0%|          | 0/72 [00:00<?, ?it/s]"
     ]
    },
    {
     "name": "stdout",
     "output_type": "stream",
     "text": [
      "Downloading 186\n"
     ]
    },
    {
     "name": "stderr",
     "output_type": "stream",
     "text": [
      "Downloading: 140it [00:04, 25.65it/s]                        \n"
     ]
    },
    {
     "name": "stdout",
     "output_type": "stream",
     "text": [
      "Processing 186\n"
     ]
    },
    {
     "name": "stderr",
     "output_type": "stream",
     "text": [
      "Rechunking image:   1%|▏         | 1/72 [00:00<00:07,  9.21it/s]"
     ]
    },
    {
     "name": "stdout",
     "output_type": "stream",
     "text": [
      "Uploading 186\n"
     ]
    },
    {
     "name": "stderr",
     "output_type": "stream",
     "text": [
      "Rechunking image: 100%|██████████| 72/72 [00:24<00:00,  2.99it/s]\n",
      "Uploading:   0%|          | 0/72 [00:00<?, ?it/s]\n",
      "Downloading:   0%|          | 0/72 [00:00<?, ?it/s]"
     ]
    },
    {
     "name": "stdout",
     "output_type": "stream",
     "text": [
      "Downloading 187\n"
     ]
    },
    {
     "name": "stderr",
     "output_type": "stream",
     "text": [
      "Downloading: 136it [00:04, 20.25it/s]                        \n"
     ]
    },
    {
     "name": "stdout",
     "output_type": "stream",
     "text": [
      "Processing 187\n"
     ]
    },
    {
     "name": "stderr",
     "output_type": "stream",
     "text": [
      "Rechunking image:   1%|▏         | 1/72 [00:00<00:09,  7.79it/s]"
     ]
    },
    {
     "name": "stdout",
     "output_type": "stream",
     "text": [
      "Uploading 187\n"
     ]
    },
    {
     "name": "stderr",
     "output_type": "stream",
     "text": [
      "Rechunking image: 100%|██████████| 72/72 [00:23<00:00,  3.02it/s]\n",
      "Uploading:   0%|          | 0/72 [00:00<?, ?it/s]\n",
      "Downloading:   0%|          | 0/72 [00:00<?, ?it/s]"
     ]
    },
    {
     "name": "stdout",
     "output_type": "stream",
     "text": [
      "Downloading 188\n"
     ]
    },
    {
     "name": "stderr",
     "output_type": "stream",
     "text": [
      "Downloading: 142it [00:03, 21.39it/s]                        \n"
     ]
    },
    {
     "name": "stdout",
     "output_type": "stream",
     "text": [
      "Processing 188\n"
     ]
    },
    {
     "name": "stderr",
     "output_type": "stream",
     "text": [
      "\r",
      "Rechunking image:   0%|          | 0/72 [00:00<?, ?it/s]"
     ]
    },
    {
     "name": "stdout",
     "output_type": "stream",
     "text": [
      "Uploading 188\n"
     ]
    },
    {
     "name": "stderr",
     "output_type": "stream",
     "text": [
      "Rechunking image: 100%|██████████| 72/72 [00:22<00:00,  3.25it/s]\n",
      "Uploading:   0%|          | 0/72 [00:00<?, ?it/s]\n",
      "Downloading:   0%|          | 0/72 [00:00<?, ?it/s]"
     ]
    },
    {
     "name": "stdout",
     "output_type": "stream",
     "text": [
      "Downloading 189\n"
     ]
    },
    {
     "name": "stderr",
     "output_type": "stream",
     "text": [
      "Downloading: 140it [00:03, 22.15it/s]                        \n"
     ]
    },
    {
     "name": "stdout",
     "output_type": "stream",
     "text": [
      "Processing 189\n"
     ]
    },
    {
     "name": "stderr",
     "output_type": "stream",
     "text": [
      "\r",
      "Rechunking image:   0%|          | 0/72 [00:00<?, ?it/s]"
     ]
    },
    {
     "name": "stdout",
     "output_type": "stream",
     "text": [
      "Uploading 189\n"
     ]
    },
    {
     "name": "stderr",
     "output_type": "stream",
     "text": [
      "Rechunking image: 100%|██████████| 72/72 [00:21<00:00,  3.27it/s]\n",
      "Uploading:   0%|          | 0/72 [00:00<?, ?it/s]\n",
      "Downloading:   0%|          | 0/72 [00:00<?, ?it/s]"
     ]
    },
    {
     "name": "stdout",
     "output_type": "stream",
     "text": [
      "Downloading 190\n"
     ]
    },
    {
     "name": "stderr",
     "output_type": "stream",
     "text": [
      "Downloading: 138it [00:03, 19.75it/s]                        \n"
     ]
    },
    {
     "name": "stdout",
     "output_type": "stream",
     "text": [
      "Processing 190\n"
     ]
    },
    {
     "name": "stderr",
     "output_type": "stream",
     "text": [
      "\r",
      "Rechunking image:   0%|          | 0/72 [00:00<?, ?it/s]"
     ]
    },
    {
     "name": "stdout",
     "output_type": "stream",
     "text": [
      "Uploading 190\n"
     ]
    },
    {
     "name": "stderr",
     "output_type": "stream",
     "text": [
      "Rechunking image: 100%|██████████| 72/72 [00:22<00:00,  3.14it/s]\n",
      "Uploading:   0%|          | 0/72 [00:00<?, ?it/s]\n",
      "Downloading:   0%|          | 0/72 [00:00<?, ?it/s]"
     ]
    },
    {
     "name": "stdout",
     "output_type": "stream",
     "text": [
      "Downloading 191\n"
     ]
    },
    {
     "name": "stderr",
     "output_type": "stream",
     "text": [
      "Downloading: 140it [00:03, 26.49it/s]                        \n"
     ]
    },
    {
     "name": "stdout",
     "output_type": "stream",
     "text": [
      "Processing 191\n"
     ]
    },
    {
     "name": "stderr",
     "output_type": "stream",
     "text": [
      "Rechunking image:   1%|▏         | 1/72 [00:00<00:08,  8.64it/s]"
     ]
    },
    {
     "name": "stdout",
     "output_type": "stream",
     "text": [
      "Uploading 191\n"
     ]
    },
    {
     "name": "stderr",
     "output_type": "stream",
     "text": [
      "Rechunking image: 100%|██████████| 72/72 [00:24<00:00,  2.98it/s]\n",
      "Uploading:   0%|          | 0/72 [00:00<?, ?it/s]\n",
      "Downloading:  29%|██▉       | 21/72 [00:00<00:00, 209.53it/s]"
     ]
    },
    {
     "name": "stdout",
     "output_type": "stream",
     "text": [
      "Downloading 192\n"
     ]
    },
    {
     "name": "stderr",
     "output_type": "stream",
     "text": [
      "Downloading: 138it [00:03, 24.57it/s]                        \n"
     ]
    },
    {
     "name": "stdout",
     "output_type": "stream",
     "text": [
      "Processing 192\n"
     ]
    },
    {
     "name": "stderr",
     "output_type": "stream",
     "text": [
      "Rechunking image:   1%|▏         | 1/72 [00:00<00:07,  9.37it/s]"
     ]
    },
    {
     "name": "stdout",
     "output_type": "stream",
     "text": [
      "Uploading 192\n"
     ]
    },
    {
     "name": "stderr",
     "output_type": "stream",
     "text": [
      "Rechunking image: 100%|██████████| 72/72 [00:23<00:00,  3.09it/s]\n",
      "Uploading:   0%|          | 0/72 [00:00<?, ?it/s]\n",
      "Downloading:  28%|██▊       | 20/72 [00:00<00:00, 199.65it/s]"
     ]
    },
    {
     "name": "stdout",
     "output_type": "stream",
     "text": [
      "Downloading 193\n"
     ]
    },
    {
     "name": "stderr",
     "output_type": "stream",
     "text": [
      "Downloading: 142it [00:03, 22.45it/s]                        \n"
     ]
    },
    {
     "name": "stdout",
     "output_type": "stream",
     "text": [
      "Processing 193\n"
     ]
    },
    {
     "name": "stderr",
     "output_type": "stream",
     "text": [
      "\r",
      "Rechunking image:   0%|          | 0/72 [00:00<?, ?it/s]"
     ]
    },
    {
     "name": "stdout",
     "output_type": "stream",
     "text": [
      "Uploading 193\n"
     ]
    },
    {
     "name": "stderr",
     "output_type": "stream",
     "text": [
      "Rechunking image: 100%|██████████| 72/72 [00:22<00:00,  3.24it/s]\n",
      "Uploading:   0%|          | 0/72 [00:00<?, ?it/s]\n",
      "Downloading:   0%|          | 0/72 [00:00<?, ?it/s]"
     ]
    },
    {
     "name": "stdout",
     "output_type": "stream",
     "text": [
      "Downloading 194\n"
     ]
    },
    {
     "name": "stderr",
     "output_type": "stream",
     "text": [
      "Downloading: 140it [00:04, 22.37it/s]                        \n"
     ]
    },
    {
     "name": "stdout",
     "output_type": "stream",
     "text": [
      "Processing 194\n"
     ]
    },
    {
     "name": "stderr",
     "output_type": "stream",
     "text": [
      "\r",
      "Rechunking image:   0%|          | 0/72 [00:00<?, ?it/s]"
     ]
    },
    {
     "name": "stdout",
     "output_type": "stream",
     "text": [
      "Uploading 194\n"
     ]
    },
    {
     "name": "stderr",
     "output_type": "stream",
     "text": [
      "Rechunking image: 100%|██████████| 72/72 [00:21<00:00,  3.30it/s]\n",
      "Uploading:   0%|          | 0/72 [00:00<?, ?it/s]\n",
      "Downloading:   0%|          | 0/72 [00:00<?, ?it/s]"
     ]
    },
    {
     "name": "stdout",
     "output_type": "stream",
     "text": [
      "Downloading 195\n"
     ]
    },
    {
     "name": "stderr",
     "output_type": "stream",
     "text": [
      "Downloading: 140it [00:03, 21.60it/s]                        \n"
     ]
    },
    {
     "name": "stdout",
     "output_type": "stream",
     "text": [
      "Processing 195\n"
     ]
    },
    {
     "name": "stderr",
     "output_type": "stream",
     "text": [
      "Rechunking image:   1%|▏         | 1/72 [00:00<00:07,  9.66it/s]"
     ]
    },
    {
     "name": "stdout",
     "output_type": "stream",
     "text": [
      "Uploading 195\n"
     ]
    },
    {
     "name": "stderr",
     "output_type": "stream",
     "text": [
      "Rechunking image: 100%|██████████| 72/72 [00:23<00:00,  3.04it/s]\n",
      "Uploading:   0%|          | 0/72 [00:00<?, ?it/s]\n",
      "Downloading:   0%|          | 0/72 [00:00<?, ?it/s]"
     ]
    },
    {
     "name": "stdout",
     "output_type": "stream",
     "text": [
      "Downloading 196\n"
     ]
    },
    {
     "name": "stderr",
     "output_type": "stream",
     "text": [
      "Downloading: 140it [00:03, 27.23it/s]                        \n"
     ]
    },
    {
     "name": "stdout",
     "output_type": "stream",
     "text": [
      "Processing 196\n"
     ]
    },
    {
     "name": "stderr",
     "output_type": "stream",
     "text": [
      "\r",
      "Rechunking image:   0%|          | 0/72 [00:00<?, ?it/s]"
     ]
    },
    {
     "name": "stdout",
     "output_type": "stream",
     "text": [
      "Uploading 196\n"
     ]
    },
    {
     "name": "stderr",
     "output_type": "stream",
     "text": [
      "Rechunking image: 100%|██████████| 72/72 [00:23<00:00,  3.07it/s]\n",
      "Uploading:   0%|          | 0/72 [00:00<?, ?it/s]\n",
      "Downloading:  29%|██▉       | 21/72 [00:00<00:00, 209.53it/s]"
     ]
    },
    {
     "name": "stdout",
     "output_type": "stream",
     "text": [
      "Downloading 197\n"
     ]
    },
    {
     "name": "stderr",
     "output_type": "stream",
     "text": [
      "Downloading: 132it [00:04, 21.40it/s]                        \n"
     ]
    },
    {
     "name": "stdout",
     "output_type": "stream",
     "text": [
      "Processing 197\n"
     ]
    },
    {
     "name": "stderr",
     "output_type": "stream",
     "text": [
      "Rechunking image:   1%|▏         | 1/72 [00:00<00:10,  7.01it/s]"
     ]
    },
    {
     "name": "stdout",
     "output_type": "stream",
     "text": [
      "Uploading 197\n"
     ]
    },
    {
     "name": "stderr",
     "output_type": "stream",
     "text": [
      "Rechunking image: 100%|██████████| 72/72 [00:22<00:00,  3.20it/s]\n",
      "Uploading:   0%|          | 0/72 [00:00<?, ?it/s]\n",
      "Downloading:   0%|          | 0/72 [00:00<?, ?it/s]"
     ]
    },
    {
     "name": "stdout",
     "output_type": "stream",
     "text": [
      "Downloading 198\n"
     ]
    },
    {
     "name": "stderr",
     "output_type": "stream",
     "text": [
      "Downloading: 142it [00:03, 23.30it/s]                        \n"
     ]
    },
    {
     "name": "stdout",
     "output_type": "stream",
     "text": [
      "Processing 198\n"
     ]
    },
    {
     "name": "stderr",
     "output_type": "stream",
     "text": [
      "Rechunking image:   1%|▏         | 1/72 [00:00<00:07,  9.52it/s]"
     ]
    },
    {
     "name": "stdout",
     "output_type": "stream",
     "text": [
      "Uploading 198\n"
     ]
    },
    {
     "name": "stderr",
     "output_type": "stream",
     "text": [
      "Rechunking image: 100%|██████████| 72/72 [00:22<00:00,  3.19it/s]\n",
      "Uploading:   0%|          | 0/72 [00:00<?, ?it/s]\n",
      "Downloading:  28%|██▊       | 20/72 [00:00<00:00, 199.57it/s]"
     ]
    },
    {
     "name": "stdout",
     "output_type": "stream",
     "text": [
      "Downloading 199\n"
     ]
    },
    {
     "name": "stderr",
     "output_type": "stream",
     "text": [
      "Downloading: 138it [00:03, 20.65it/s]                        \n"
     ]
    },
    {
     "name": "stdout",
     "output_type": "stream",
     "text": [
      "Processing 199\n"
     ]
    },
    {
     "name": "stderr",
     "output_type": "stream",
     "text": [
      "Rechunking image:   1%|▏         | 1/72 [00:00<00:09,  7.36it/s]"
     ]
    },
    {
     "name": "stdout",
     "output_type": "stream",
     "text": [
      "Uploading 199\n"
     ]
    },
    {
     "name": "stderr",
     "output_type": "stream",
     "text": [
      "Rechunking image: 100%|██████████| 72/72 [00:22<00:00,  3.25it/s]\n",
      "Uploading:   0%|          | 0/72 [00:00<?, ?it/s]\n",
      "Downloading:  28%|██▊       | 20/72 [00:00<00:00, 199.60it/s]"
     ]
    },
    {
     "name": "stdout",
     "output_type": "stream",
     "text": [
      "Downloading 200\n"
     ]
    },
    {
     "name": "stderr",
     "output_type": "stream",
     "text": [
      "Downloading: 142it [00:04, 27.38it/s]                        \n"
     ]
    },
    {
     "name": "stdout",
     "output_type": "stream",
     "text": [
      "Processing 200\n"
     ]
    },
    {
     "name": "stderr",
     "output_type": "stream",
     "text": [
      "Rechunking image:   1%|▏         | 1/72 [00:00<00:12,  5.73it/s]"
     ]
    },
    {
     "name": "stdout",
     "output_type": "stream",
     "text": [
      "Uploading 200\n"
     ]
    },
    {
     "name": "stderr",
     "output_type": "stream",
     "text": [
      "Rechunking image: 100%|██████████| 72/72 [00:23<00:00,  3.01it/s]\n",
      "Uploading:   0%|          | 0/72 [00:00<?, ?it/s]\n",
      "Downloading:  29%|██▉       | 21/72 [00:00<00:00, 199.33it/s]"
     ]
    },
    {
     "name": "stdout",
     "output_type": "stream",
     "text": [
      "Downloading 201\n"
     ]
    },
    {
     "name": "stderr",
     "output_type": "stream",
     "text": [
      "Downloading: 136it [00:04, 25.36it/s]                        \n"
     ]
    },
    {
     "name": "stdout",
     "output_type": "stream",
     "text": [
      "Processing 201\n"
     ]
    },
    {
     "name": "stderr",
     "output_type": "stream",
     "text": [
      "Rechunking image:   1%|▏         | 1/72 [00:00<00:11,  6.43it/s]"
     ]
    },
    {
     "name": "stdout",
     "output_type": "stream",
     "text": [
      "Uploading 201\n"
     ]
    },
    {
     "name": "stderr",
     "output_type": "stream",
     "text": [
      "Rechunking image: 100%|██████████| 72/72 [00:22<00:00,  3.19it/s]\n",
      "Uploading:   0%|          | 0/72 [00:00<?, ?it/s]\n",
      "Downloading:   0%|          | 0/72 [00:00<?, ?it/s]"
     ]
    },
    {
     "name": "stdout",
     "output_type": "stream",
     "text": [
      "Downloading 202\n"
     ]
    },
    {
     "name": "stderr",
     "output_type": "stream",
     "text": [
      "Downloading: 142it [00:04, 27.00it/s]                        \n"
     ]
    },
    {
     "name": "stdout",
     "output_type": "stream",
     "text": [
      "Processing 202\n"
     ]
    },
    {
     "name": "stderr",
     "output_type": "stream",
     "text": [
      "Rechunking image:   1%|▏         | 1/72 [00:00<00:08,  8.62it/s]"
     ]
    },
    {
     "name": "stdout",
     "output_type": "stream",
     "text": [
      "Uploading 202\n"
     ]
    },
    {
     "name": "stderr",
     "output_type": "stream",
     "text": [
      "Rechunking image: 100%|██████████| 72/72 [00:22<00:00,  3.24it/s]\n",
      "Uploading:   0%|          | 0/72 [00:00<?, ?it/s]\n",
      "Downloading:   0%|          | 0/72 [00:00<?, ?it/s]"
     ]
    },
    {
     "name": "stdout",
     "output_type": "stream",
     "text": [
      "Downloading 203\n"
     ]
    },
    {
     "name": "stderr",
     "output_type": "stream",
     "text": [
      "Downloading: 142it [00:04, 22.19it/s]                        \n"
     ]
    },
    {
     "name": "stdout",
     "output_type": "stream",
     "text": [
      "Processing 203\n"
     ]
    },
    {
     "name": "stderr",
     "output_type": "stream",
     "text": [
      "\r",
      "Rechunking image:   0%|          | 0/72 [00:00<?, ?it/s]"
     ]
    },
    {
     "name": "stdout",
     "output_type": "stream",
     "text": [
      "Uploading 203\n"
     ]
    },
    {
     "name": "stderr",
     "output_type": "stream",
     "text": [
      "Rechunking image: 100%|██████████| 72/72 [00:22<00:00,  3.26it/s]\n",
      "Uploading:   0%|          | 0/72 [00:00<?, ?it/s]\n",
      "Downloading:  28%|██▊       | 20/72 [00:00<00:00, 199.64it/s]"
     ]
    },
    {
     "name": "stdout",
     "output_type": "stream",
     "text": [
      "Downloading 204\n"
     ]
    },
    {
     "name": "stderr",
     "output_type": "stream",
     "text": [
      "Downloading: 140it [00:04, 23.29it/s]                        \n"
     ]
    },
    {
     "name": "stdout",
     "output_type": "stream",
     "text": [
      "Processing 204\n"
     ]
    },
    {
     "name": "stderr",
     "output_type": "stream",
     "text": [
      "Rechunking image:   1%|▏         | 1/72 [00:00<00:11,  6.21it/s]"
     ]
    },
    {
     "name": "stdout",
     "output_type": "stream",
     "text": [
      "Uploading 204\n"
     ]
    },
    {
     "name": "stderr",
     "output_type": "stream",
     "text": [
      "Rechunking image: 100%|██████████| 72/72 [00:23<00:00,  3.12it/s]\n",
      "Uploading:   0%|          | 0/72 [00:00<?, ?it/s]\n",
      "Downloading:  28%|██▊       | 20/72 [00:00<00:00, 199.56it/s]"
     ]
    },
    {
     "name": "stdout",
     "output_type": "stream",
     "text": [
      "Downloading 205\n"
     ]
    },
    {
     "name": "stderr",
     "output_type": "stream",
     "text": [
      "Downloading: 142it [00:03, 23.00it/s]                        \n"
     ]
    },
    {
     "name": "stdout",
     "output_type": "stream",
     "text": [
      "Processing 205\n"
     ]
    },
    {
     "name": "stderr",
     "output_type": "stream",
     "text": [
      "\r",
      "Rechunking image:   0%|          | 0/72 [00:00<?, ?it/s]"
     ]
    },
    {
     "name": "stdout",
     "output_type": "stream",
     "text": [
      "Uploading 205\n"
     ]
    },
    {
     "name": "stderr",
     "output_type": "stream",
     "text": [
      "Rechunking image: 100%|██████████| 72/72 [00:23<00:00,  3.07it/s]\n",
      "Uploading:   0%|          | 0/72 [00:00<?, ?it/s]\n",
      "Downloading:   0%|          | 0/72 [00:00<?, ?it/s]"
     ]
    },
    {
     "name": "stdout",
     "output_type": "stream",
     "text": [
      "Downloading 206\n"
     ]
    },
    {
     "name": "stderr",
     "output_type": "stream",
     "text": [
      "Downloading: 138it [00:03, 21.29it/s]                        \n"
     ]
    },
    {
     "name": "stdout",
     "output_type": "stream",
     "text": [
      "Processing 206\n"
     ]
    },
    {
     "name": "stderr",
     "output_type": "stream",
     "text": [
      "\r",
      "Rechunking image:   0%|          | 0/72 [00:00<?, ?it/s]"
     ]
    },
    {
     "name": "stdout",
     "output_type": "stream",
     "text": [
      "Uploading 206\n"
     ]
    },
    {
     "name": "stderr",
     "output_type": "stream",
     "text": [
      "Rechunking image: 100%|██████████| 72/72 [00:23<00:00,  3.13it/s]\n",
      "Uploading:   0%|          | 0/72 [00:00<?, ?it/s]\n",
      "Downloading:   0%|          | 0/72 [00:00<?, ?it/s]"
     ]
    },
    {
     "name": "stdout",
     "output_type": "stream",
     "text": [
      "Downloading 207\n"
     ]
    },
    {
     "name": "stderr",
     "output_type": "stream",
     "text": [
      "Downloading: 138it [00:04, 19.90it/s]                        \n"
     ]
    },
    {
     "name": "stdout",
     "output_type": "stream",
     "text": [
      "Processing 207\n"
     ]
    },
    {
     "name": "stderr",
     "output_type": "stream",
     "text": [
      "\r",
      "Rechunking image:   0%|          | 0/72 [00:00<?, ?it/s]"
     ]
    },
    {
     "name": "stdout",
     "output_type": "stream",
     "text": [
      "Uploading 207\n"
     ]
    },
    {
     "name": "stderr",
     "output_type": "stream",
     "text": [
      "Rechunking image: 100%|██████████| 72/72 [00:21<00:00,  3.33it/s]\n",
      "Uploading:   0%|          | 0/72 [00:00<?, ?it/s]\n",
      "Downloading:   0%|          | 0/72 [00:00<?, ?it/s]"
     ]
    },
    {
     "name": "stdout",
     "output_type": "stream",
     "text": [
      "Downloading 208\n"
     ]
    },
    {
     "name": "stderr",
     "output_type": "stream",
     "text": [
      "Downloading: 140it [00:04, 22.40it/s]                        \n"
     ]
    },
    {
     "name": "stdout",
     "output_type": "stream",
     "text": [
      "Processing 208\n"
     ]
    },
    {
     "name": "stderr",
     "output_type": "stream",
     "text": [
      "\r",
      "Rechunking image:   0%|          | 0/72 [00:00<?, ?it/s]"
     ]
    },
    {
     "name": "stdout",
     "output_type": "stream",
     "text": [
      "Uploading 208\n"
     ]
    },
    {
     "name": "stderr",
     "output_type": "stream",
     "text": [
      "Rechunking image: 100%|██████████| 72/72 [00:21<00:00,  3.30it/s]\n",
      "Uploading:   0%|          | 0/72 [00:00<?, ?it/s]\n",
      "Downloading:  29%|██▉       | 21/72 [00:00<00:00, 207.62it/s]"
     ]
    },
    {
     "name": "stdout",
     "output_type": "stream",
     "text": [
      "Downloading 209\n"
     ]
    },
    {
     "name": "stderr",
     "output_type": "stream",
     "text": [
      "Downloading: 142it [00:04, 21.99it/s]                        \n"
     ]
    },
    {
     "name": "stdout",
     "output_type": "stream",
     "text": [
      "Processing 209\n"
     ]
    },
    {
     "name": "stderr",
     "output_type": "stream",
     "text": [
      "Rechunking image:   1%|▏         | 1/72 [00:00<00:07,  9.61it/s]"
     ]
    },
    {
     "name": "stdout",
     "output_type": "stream",
     "text": [
      "Uploading 209\n"
     ]
    },
    {
     "name": "stderr",
     "output_type": "stream",
     "text": [
      "Rechunking image: 100%|██████████| 72/72 [00:23<00:00,  3.06it/s]\n",
      "Uploading:   0%|          | 0/72 [00:00<?, ?it/s]\n",
      "Downloading:   0%|          | 0/72 [00:00<?, ?it/s]"
     ]
    },
    {
     "name": "stdout",
     "output_type": "stream",
     "text": [
      "Downloading 210\n"
     ]
    },
    {
     "name": "stderr",
     "output_type": "stream",
     "text": [
      "Downloading: 142it [00:04, 25.94it/s]                        \n"
     ]
    },
    {
     "name": "stdout",
     "output_type": "stream",
     "text": [
      "Processing 210\n"
     ]
    },
    {
     "name": "stderr",
     "output_type": "stream",
     "text": [
      "Rechunking image:   1%|▏         | 1/72 [00:00<00:11,  6.15it/s]"
     ]
    },
    {
     "name": "stdout",
     "output_type": "stream",
     "text": [
      "Uploading 210\n"
     ]
    },
    {
     "name": "stderr",
     "output_type": "stream",
     "text": [
      "Rechunking image: 100%|██████████| 72/72 [00:23<00:00,  3.05it/s]\n",
      "Uploading:   0%|          | 0/72 [00:00<?, ?it/s]\n",
      "Downloading:   0%|          | 0/72 [00:00<?, ?it/s]"
     ]
    },
    {
     "name": "stdout",
     "output_type": "stream",
     "text": [
      "Downloading 211\n"
     ]
    },
    {
     "name": "stderr",
     "output_type": "stream",
     "text": [
      "Downloading: 140it [00:03, 21.54it/s]                        \n"
     ]
    },
    {
     "name": "stdout",
     "output_type": "stream",
     "text": [
      "Processing 211\n"
     ]
    },
    {
     "name": "stderr",
     "output_type": "stream",
     "text": [
      "Rechunking image:   1%|▏         | 1/72 [00:00<00:09,  7.78it/s]"
     ]
    },
    {
     "name": "stdout",
     "output_type": "stream",
     "text": [
      "Uploading 211\n"
     ]
    },
    {
     "name": "stderr",
     "output_type": "stream",
     "text": [
      "Rechunking image: 100%|██████████| 72/72 [00:23<00:00,  3.13it/s]\n",
      "Uploading:   0%|          | 0/72 [00:00<?, ?it/s]\n",
      "Downloading:  29%|██▉       | 21/72 [00:00<00:00, 209.57it/s]"
     ]
    },
    {
     "name": "stdout",
     "output_type": "stream",
     "text": [
      "Downloading 212\n"
     ]
    },
    {
     "name": "stderr",
     "output_type": "stream",
     "text": [
      "Downloading: 138it [00:04, 23.85it/s]                        \n"
     ]
    },
    {
     "name": "stdout",
     "output_type": "stream",
     "text": [
      "Processing 212\n"
     ]
    },
    {
     "name": "stderr",
     "output_type": "stream",
     "text": [
      "\r",
      "Rechunking image:   0%|          | 0/72 [00:00<?, ?it/s]"
     ]
    },
    {
     "name": "stdout",
     "output_type": "stream",
     "text": [
      "Uploading 212\n"
     ]
    },
    {
     "name": "stderr",
     "output_type": "stream",
     "text": [
      "Rechunking image: 100%|██████████| 72/72 [00:22<00:00,  3.25it/s]\n",
      "Uploading:   0%|          | 0/72 [00:00<?, ?it/s]\n",
      "Downloading:  28%|██▊       | 20/72 [00:00<00:00, 199.30it/s]"
     ]
    },
    {
     "name": "stdout",
     "output_type": "stream",
     "text": [
      "Downloading 213\n"
     ]
    },
    {
     "name": "stderr",
     "output_type": "stream",
     "text": [
      "Downloading: 138it [00:04, 22.01it/s]                        \n"
     ]
    },
    {
     "name": "stdout",
     "output_type": "stream",
     "text": [
      "Processing 213\n"
     ]
    },
    {
     "name": "stderr",
     "output_type": "stream",
     "text": [
      "\r",
      "Rechunking image:   0%|          | 0/72 [00:00<?, ?it/s]"
     ]
    },
    {
     "name": "stdout",
     "output_type": "stream",
     "text": [
      "Uploading 213\n"
     ]
    },
    {
     "name": "stderr",
     "output_type": "stream",
     "text": [
      "Rechunking image: 100%|██████████| 72/72 [00:22<00:00,  3.23it/s]\n",
      "Uploading:   0%|          | 0/72 [00:00<?, ?it/s]\n",
      "Downloading:  28%|██▊       | 20/72 [00:00<00:00, 199.57it/s]"
     ]
    },
    {
     "name": "stdout",
     "output_type": "stream",
     "text": [
      "Downloading 214\n"
     ]
    },
    {
     "name": "stderr",
     "output_type": "stream",
     "text": [
      "Downloading: 142it [00:04, 25.39it/s]                        \n"
     ]
    },
    {
     "name": "stdout",
     "output_type": "stream",
     "text": [
      "Processing 214\n"
     ]
    },
    {
     "name": "stderr",
     "output_type": "stream",
     "text": [
      "Rechunking image:   1%|▏         | 1/72 [00:00<00:08,  8.77it/s]"
     ]
    },
    {
     "name": "stdout",
     "output_type": "stream",
     "text": [
      "Uploading 214\n"
     ]
    },
    {
     "name": "stderr",
     "output_type": "stream",
     "text": [
      "Rechunking image: 100%|██████████| 72/72 [00:23<00:00,  3.07it/s]\n",
      "Uploading:   0%|          | 0/72 [00:00<?, ?it/s]\n",
      "Downloading:  29%|██▉       | 21/72 [00:00<00:00, 209.24it/s]"
     ]
    },
    {
     "name": "stdout",
     "output_type": "stream",
     "text": [
      "Downloading 215\n"
     ]
    },
    {
     "name": "stderr",
     "output_type": "stream",
     "text": [
      "Downloading: 136it [00:04, 20.73it/s]                        \n"
     ]
    },
    {
     "name": "stdout",
     "output_type": "stream",
     "text": [
      "Processing 215\n"
     ]
    },
    {
     "name": "stderr",
     "output_type": "stream",
     "text": [
      "Rechunking image:   1%|▏         | 1/72 [00:00<00:07,  9.54it/s]"
     ]
    },
    {
     "name": "stdout",
     "output_type": "stream",
     "text": [
      "Uploading 215\n"
     ]
    },
    {
     "name": "stderr",
     "output_type": "stream",
     "text": [
      "Rechunking image: 100%|██████████| 72/72 [00:23<00:00,  3.00it/s]\n",
      "Uploading:   0%|          | 0/72 [00:00<?, ?it/s]\n",
      "Downloading:   0%|          | 0/72 [00:00<?, ?it/s]"
     ]
    },
    {
     "name": "stdout",
     "output_type": "stream",
     "text": [
      "Downloading 216\n"
     ]
    },
    {
     "name": "stderr",
     "output_type": "stream",
     "text": [
      "Downloading: 140it [00:04, 22.04it/s]                        \n"
     ]
    },
    {
     "name": "stdout",
     "output_type": "stream",
     "text": [
      "Processing 216\n"
     ]
    },
    {
     "name": "stderr",
     "output_type": "stream",
     "text": [
      "Rechunking image:   1%|▏         | 1/72 [00:00<00:08,  8.63it/s]"
     ]
    },
    {
     "name": "stdout",
     "output_type": "stream",
     "text": [
      "Uploading 216\n"
     ]
    },
    {
     "name": "stderr",
     "output_type": "stream",
     "text": [
      "Rechunking image: 100%|██████████| 72/72 [00:22<00:00,  3.26it/s]\n",
      "Uploading:   0%|          | 0/72 [00:00<?, ?it/s]\n",
      "Downloading:   0%|          | 0/72 [00:00<?, ?it/s]"
     ]
    },
    {
     "name": "stdout",
     "output_type": "stream",
     "text": [
      "Downloading 217\n"
     ]
    },
    {
     "name": "stderr",
     "output_type": "stream",
     "text": [
      "Downloading: 136it [00:04, 23.12it/s]                        \n"
     ]
    },
    {
     "name": "stdout",
     "output_type": "stream",
     "text": [
      "Processing 217\n"
     ]
    },
    {
     "name": "stderr",
     "output_type": "stream",
     "text": [
      "Rechunking image:   1%|▏         | 1/72 [00:00<00:07,  9.76it/s]"
     ]
    },
    {
     "name": "stdout",
     "output_type": "stream",
     "text": [
      "Uploading 217\n"
     ]
    },
    {
     "name": "stderr",
     "output_type": "stream",
     "text": [
      "Rechunking image: 100%|██████████| 72/72 [00:21<00:00,  3.30it/s]\n",
      "Uploading:   0%|          | 0/72 [00:00<?, ?it/s]\n",
      "Downloading:   0%|          | 0/72 [00:00<?, ?it/s]"
     ]
    },
    {
     "name": "stdout",
     "output_type": "stream",
     "text": [
      "Downloading 218\n"
     ]
    },
    {
     "name": "stderr",
     "output_type": "stream",
     "text": [
      "Downloading: 140it [00:03, 25.33it/s]                        \n"
     ]
    },
    {
     "name": "stdout",
     "output_type": "stream",
     "text": [
      "Processing 218\n"
     ]
    },
    {
     "name": "stderr",
     "output_type": "stream",
     "text": [
      "Rechunking image:   1%|▏         | 1/72 [00:00<00:09,  7.15it/s]"
     ]
    },
    {
     "name": "stdout",
     "output_type": "stream",
     "text": [
      "Uploading 218\n"
     ]
    },
    {
     "name": "stderr",
     "output_type": "stream",
     "text": [
      "Rechunking image: 100%|██████████| 72/72 [00:23<00:00,  3.07it/s]\n",
      "Uploading:   0%|          | 0/72 [00:00<?, ?it/s]\n",
      "Downloading:   0%|          | 0/72 [00:00<?, ?it/s]"
     ]
    },
    {
     "name": "stdout",
     "output_type": "stream",
     "text": [
      "Downloading 219\n"
     ]
    },
    {
     "name": "stderr",
     "output_type": "stream",
     "text": [
      "Downloading: 136it [00:03, 20.88it/s]                        \n"
     ]
    },
    {
     "name": "stdout",
     "output_type": "stream",
     "text": [
      "Processing 219\n"
     ]
    },
    {
     "name": "stderr",
     "output_type": "stream",
     "text": [
      "Rechunking image:   1%|▏         | 1/72 [00:00<00:07,  9.55it/s]"
     ]
    },
    {
     "name": "stdout",
     "output_type": "stream",
     "text": [
      "Uploading 219\n"
     ]
    },
    {
     "name": "stderr",
     "output_type": "stream",
     "text": [
      "Rechunking image: 100%|██████████| 72/72 [00:22<00:00,  3.19it/s]\n",
      "Uploading:   0%|          | 0/72 [00:00<?, ?it/s]\n",
      "Downloading:   0%|          | 0/72 [00:00<?, ?it/s]"
     ]
    },
    {
     "name": "stdout",
     "output_type": "stream",
     "text": [
      "Downloading 220\n"
     ]
    },
    {
     "name": "stderr",
     "output_type": "stream",
     "text": [
      "Downloading: 140it [00:03, 22.93it/s]                        \n"
     ]
    },
    {
     "name": "stdout",
     "output_type": "stream",
     "text": [
      "Processing 220\n"
     ]
    },
    {
     "name": "stderr",
     "output_type": "stream",
     "text": [
      "\r",
      "Rechunking image:   0%|          | 0/72 [00:00<?, ?it/s]"
     ]
    },
    {
     "name": "stdout",
     "output_type": "stream",
     "text": [
      "Uploading 220\n"
     ]
    },
    {
     "name": "stderr",
     "output_type": "stream",
     "text": [
      "Rechunking image: 100%|██████████| 72/72 [00:23<00:00,  3.10it/s]\n",
      "Uploading:   0%|          | 0/72 [00:00<?, ?it/s]\n",
      "Downloading:   0%|          | 0/72 [00:00<?, ?it/s]"
     ]
    },
    {
     "name": "stdout",
     "output_type": "stream",
     "text": [
      "Downloading 221\n"
     ]
    },
    {
     "name": "stderr",
     "output_type": "stream",
     "text": [
      "Downloading: 140it [00:04, 21.19it/s]                        \n"
     ]
    },
    {
     "name": "stdout",
     "output_type": "stream",
     "text": [
      "Processing 221\n"
     ]
    },
    {
     "name": "stderr",
     "output_type": "stream",
     "text": [
      "\r",
      "Rechunking image:   0%|          | 0/72 [00:00<?, ?it/s]"
     ]
    },
    {
     "name": "stdout",
     "output_type": "stream",
     "text": [
      "Uploading 221\n"
     ]
    },
    {
     "name": "stderr",
     "output_type": "stream",
     "text": [
      "Rechunking image: 100%|██████████| 72/72 [00:21<00:00,  3.33it/s]\n",
      "Uploading:   0%|          | 0/72 [00:00<?, ?it/s]\n",
      "Downloading:  29%|██▉       | 21/72 [00:00<00:00, 209.57it/s]"
     ]
    },
    {
     "name": "stdout",
     "output_type": "stream",
     "text": [
      "Downloading 222\n"
     ]
    },
    {
     "name": "stderr",
     "output_type": "stream",
     "text": [
      "Downloading: 142it [00:03, 24.76it/s]                        \n"
     ]
    },
    {
     "name": "stdout",
     "output_type": "stream",
     "text": [
      "Processing 222\n"
     ]
    },
    {
     "name": "stderr",
     "output_type": "stream",
     "text": [
      "\r",
      "Rechunking image:   0%|          | 0/72 [00:00<?, ?it/s]"
     ]
    },
    {
     "name": "stdout",
     "output_type": "stream",
     "text": [
      "Uploading 222\n"
     ]
    },
    {
     "name": "stderr",
     "output_type": "stream",
     "text": [
      "Rechunking image: 100%|██████████| 72/72 [00:22<00:00,  3.19it/s]\n",
      "Uploading:   0%|          | 0/72 [00:00<?, ?it/s]\n",
      "Downloading:   0%|          | 0/72 [00:00<?, ?it/s]"
     ]
    },
    {
     "name": "stdout",
     "output_type": "stream",
     "text": [
      "Downloading 223\n"
     ]
    },
    {
     "name": "stderr",
     "output_type": "stream",
     "text": [
      "Downloading: 136it [00:04, 20.15it/s]                        \n"
     ]
    },
    {
     "name": "stdout",
     "output_type": "stream",
     "text": [
      "Processing 223\n"
     ]
    },
    {
     "name": "stderr",
     "output_type": "stream",
     "text": [
      "\r",
      "Rechunking image:   0%|          | 0/72 [00:00<?, ?it/s]"
     ]
    },
    {
     "name": "stdout",
     "output_type": "stream",
     "text": [
      "Uploading 223\n"
     ]
    },
    {
     "name": "stderr",
     "output_type": "stream",
     "text": [
      "Rechunking image: 100%|██████████| 72/72 [00:23<00:00,  3.02it/s]\n",
      "Uploading:   0%|          | 0/72 [00:00<?, ?it/s]\n",
      "Downloading:  29%|██▉       | 21/72 [00:00<00:00, 209.45it/s]"
     ]
    },
    {
     "name": "stdout",
     "output_type": "stream",
     "text": [
      "Downloading 224\n"
     ]
    },
    {
     "name": "stderr",
     "output_type": "stream",
     "text": [
      "Downloading: 142it [00:04, 24.90it/s]                        \n"
     ]
    },
    {
     "name": "stdout",
     "output_type": "stream",
     "text": [
      "Processing 224\n"
     ]
    },
    {
     "name": "stderr",
     "output_type": "stream",
     "text": [
      "Rechunking image:   1%|▏         | 1/72 [00:00<00:08,  8.17it/s]"
     ]
    },
    {
     "name": "stdout",
     "output_type": "stream",
     "text": [
      "Uploading 224\n"
     ]
    },
    {
     "name": "stderr",
     "output_type": "stream",
     "text": [
      "Rechunking image: 100%|██████████| 72/72 [00:23<00:00,  3.03it/s]\n",
      "Uploading:   0%|          | 0/72 [00:00<?, ?it/s]\n",
      "Downloading:  28%|██▊       | 20/72 [00:00<00:00, 199.58it/s]"
     ]
    },
    {
     "name": "stdout",
     "output_type": "stream",
     "text": [
      "Downloading 225\n"
     ]
    },
    {
     "name": "stderr",
     "output_type": "stream",
     "text": [
      "Downloading: 138it [00:04, 24.47it/s]                        \n"
     ]
    },
    {
     "name": "stdout",
     "output_type": "stream",
     "text": [
      "Processing 225\n"
     ]
    },
    {
     "name": "stderr",
     "output_type": "stream",
     "text": [
      "Rechunking image:   1%|▏         | 1/72 [00:00<00:07,  9.09it/s]"
     ]
    },
    {
     "name": "stdout",
     "output_type": "stream",
     "text": [
      "Uploading 225\n"
     ]
    },
    {
     "name": "stderr",
     "output_type": "stream",
     "text": [
      "Rechunking image: 100%|██████████| 72/72 [00:23<00:00,  3.12it/s]\n",
      "Uploading:   0%|          | 0/72 [00:00<?, ?it/s]\n",
      "Downloading:   0%|          | 0/72 [00:00<?, ?it/s]"
     ]
    },
    {
     "name": "stdout",
     "output_type": "stream",
     "text": [
      "Downloading 226\n"
     ]
    },
    {
     "name": "stderr",
     "output_type": "stream",
     "text": [
      "Downloading: 142it [00:03, 21.63it/s]                        \n"
     ]
    },
    {
     "name": "stdout",
     "output_type": "stream",
     "text": [
      "Processing 226\n"
     ]
    },
    {
     "name": "stderr",
     "output_type": "stream",
     "text": [
      "Rechunking image:   1%|▏         | 1/72 [00:00<00:07,  9.20it/s]"
     ]
    },
    {
     "name": "stdout",
     "output_type": "stream",
     "text": [
      "Uploading 226\n"
     ]
    },
    {
     "name": "stderr",
     "output_type": "stream",
     "text": [
      "Rechunking image: 100%|██████████| 72/72 [00:22<00:00,  3.19it/s]\n",
      "Uploading:   0%|          | 0/72 [00:00<?, ?it/s]\n",
      "Downloading:   0%|          | 0/72 [00:00<?, ?it/s]"
     ]
    },
    {
     "name": "stdout",
     "output_type": "stream",
     "text": [
      "Downloading 227\n"
     ]
    },
    {
     "name": "stderr",
     "output_type": "stream",
     "text": [
      "Downloading: 140it [00:04, 24.70it/s]                        \n"
     ]
    },
    {
     "name": "stdout",
     "output_type": "stream",
     "text": [
      "Processing 227\n"
     ]
    },
    {
     "name": "stderr",
     "output_type": "stream",
     "text": [
      "\r",
      "Rechunking image:   0%|          | 0/72 [00:00<?, ?it/s]"
     ]
    },
    {
     "name": "stdout",
     "output_type": "stream",
     "text": [
      "Uploading 227\n"
     ]
    },
    {
     "name": "stderr",
     "output_type": "stream",
     "text": [
      "Rechunking image: 100%|██████████| 72/72 [00:22<00:00,  3.22it/s]\n",
      "Uploading:   0%|          | 0/72 [00:00<?, ?it/s]\n",
      "Downloading:   0%|          | 0/72 [00:00<?, ?it/s]"
     ]
    },
    {
     "name": "stdout",
     "output_type": "stream",
     "text": [
      "Downloading 228\n"
     ]
    },
    {
     "name": "stderr",
     "output_type": "stream",
     "text": [
      "Downloading: 140it [00:04, 23.00it/s]                        \n"
     ]
    },
    {
     "name": "stdout",
     "output_type": "stream",
     "text": [
      "Processing 228\n"
     ]
    },
    {
     "name": "stderr",
     "output_type": "stream",
     "text": [
      "Rechunking image:   1%|▏         | 1/72 [00:00<00:07,  9.89it/s]"
     ]
    },
    {
     "name": "stdout",
     "output_type": "stream",
     "text": [
      "Uploading 228\n"
     ]
    },
    {
     "name": "stderr",
     "output_type": "stream",
     "text": [
      "Rechunking image: 100%|██████████| 72/72 [00:23<00:00,  3.03it/s]\n",
      "Uploading:   0%|          | 0/72 [00:00<?, ?it/s]\n",
      "Downloading:  28%|██▊       | 20/72 [00:00<00:00, 199.57it/s]"
     ]
    },
    {
     "name": "stdout",
     "output_type": "stream",
     "text": [
      "Downloading 229\n"
     ]
    },
    {
     "name": "stderr",
     "output_type": "stream",
     "text": [
      "Downloading: 140it [00:04, 24.09it/s]                        \n"
     ]
    },
    {
     "name": "stdout",
     "output_type": "stream",
     "text": [
      "Processing 229\n"
     ]
    },
    {
     "name": "stderr",
     "output_type": "stream",
     "text": [
      "Rechunking image:   1%|▏         | 1/72 [00:00<00:07,  9.44it/s]"
     ]
    },
    {
     "name": "stdout",
     "output_type": "stream",
     "text": [
      "Uploading 229\n"
     ]
    },
    {
     "name": "stderr",
     "output_type": "stream",
     "text": [
      "Rechunking image: 100%|██████████| 72/72 [00:23<00:00,  3.05it/s]\n",
      "Uploading:   0%|          | 0/72 [00:00<?, ?it/s]\n",
      "Downloading:   0%|          | 0/72 [00:00<?, ?it/s]"
     ]
    },
    {
     "name": "stdout",
     "output_type": "stream",
     "text": [
      "Downloading 230\n"
     ]
    },
    {
     "name": "stderr",
     "output_type": "stream",
     "text": [
      "Downloading: 140it [00:04, 23.73it/s]                        \n"
     ]
    },
    {
     "name": "stdout",
     "output_type": "stream",
     "text": [
      "Processing 230\n"
     ]
    },
    {
     "name": "stderr",
     "output_type": "stream",
     "text": [
      "\r",
      "Rechunking image:   0%|          | 0/72 [00:00<?, ?it/s]"
     ]
    },
    {
     "name": "stdout",
     "output_type": "stream",
     "text": [
      "Uploading 230\n"
     ]
    },
    {
     "name": "stderr",
     "output_type": "stream",
     "text": [
      "Rechunking image: 100%|██████████| 72/72 [00:22<00:00,  3.21it/s]\n",
      "Uploading:   0%|          | 0/72 [00:00<?, ?it/s]\n",
      "Downloading:   0%|          | 0/72 [00:00<?, ?it/s]"
     ]
    },
    {
     "name": "stdout",
     "output_type": "stream",
     "text": [
      "Downloading 231\n"
     ]
    },
    {
     "name": "stderr",
     "output_type": "stream",
     "text": [
      "Downloading: 142it [00:04, 28.35it/s]                        \n"
     ]
    },
    {
     "name": "stdout",
     "output_type": "stream",
     "text": [
      "Processing 231\n"
     ]
    },
    {
     "name": "stderr",
     "output_type": "stream",
     "text": [
      "Rechunking image:   1%|▏         | 1/72 [00:00<00:07,  9.71it/s]"
     ]
    },
    {
     "name": "stdout",
     "output_type": "stream",
     "text": [
      "Uploading 231\n"
     ]
    },
    {
     "name": "stderr",
     "output_type": "stream",
     "text": [
      "Rechunking image: 100%|██████████| 72/72 [00:22<00:00,  3.25it/s]\n",
      "Uploading:   0%|          | 0/72 [00:00<?, ?it/s]\n",
      "Downloading:   0%|          | 0/72 [00:00<?, ?it/s]"
     ]
    },
    {
     "name": "stdout",
     "output_type": "stream",
     "text": [
      "Downloading 232\n"
     ]
    },
    {
     "name": "stderr",
     "output_type": "stream",
     "text": [
      "Downloading: 142it [00:04, 20.30it/s]                        \n"
     ]
    },
    {
     "name": "stdout",
     "output_type": "stream",
     "text": [
      "Processing 232\n"
     ]
    },
    {
     "name": "stderr",
     "output_type": "stream",
     "text": [
      "\r",
      "Rechunking image:   0%|          | 0/72 [00:00<?, ?it/s]"
     ]
    },
    {
     "name": "stdout",
     "output_type": "stream",
     "text": [
      "Uploading 232\n"
     ]
    },
    {
     "name": "stderr",
     "output_type": "stream",
     "text": [
      "Rechunking image: 100%|██████████| 72/72 [00:22<00:00,  3.19it/s]\n",
      "Uploading:   0%|          | 0/72 [00:00<?, ?it/s]\n",
      "Downloading:   0%|          | 0/72 [00:00<?, ?it/s]"
     ]
    },
    {
     "name": "stdout",
     "output_type": "stream",
     "text": [
      "Downloading 233\n"
     ]
    },
    {
     "name": "stderr",
     "output_type": "stream",
     "text": [
      "Downloading: 140it [00:04, 25.01it/s]                        \n"
     ]
    },
    {
     "name": "stdout",
     "output_type": "stream",
     "text": [
      "Processing 233\n"
     ]
    },
    {
     "name": "stderr",
     "output_type": "stream",
     "text": [
      "\r",
      "Rechunking image:   0%|          | 0/72 [00:00<?, ?it/s]"
     ]
    },
    {
     "name": "stdout",
     "output_type": "stream",
     "text": [
      "Uploading 233\n"
     ]
    },
    {
     "name": "stderr",
     "output_type": "stream",
     "text": [
      "Rechunking image: 100%|██████████| 72/72 [00:22<00:00,  3.19it/s]\n",
      "Uploading:   0%|          | 0/72 [00:00<?, ?it/s]\n",
      "Downloading:   0%|          | 0/72 [00:00<?, ?it/s]"
     ]
    },
    {
     "name": "stdout",
     "output_type": "stream",
     "text": [
      "Downloading 234\n"
     ]
    },
    {
     "name": "stderr",
     "output_type": "stream",
     "text": [
      "Downloading: 140it [00:03, 21.01it/s]                        \n"
     ]
    },
    {
     "name": "stdout",
     "output_type": "stream",
     "text": [
      "Processing 234\n"
     ]
    },
    {
     "name": "stderr",
     "output_type": "stream",
     "text": [
      "\r",
      "Rechunking image:   0%|          | 0/72 [00:00<?, ?it/s]"
     ]
    },
    {
     "name": "stdout",
     "output_type": "stream",
     "text": [
      "Uploading 234\n"
     ]
    },
    {
     "name": "stderr",
     "output_type": "stream",
     "text": [
      "Rechunking image: 100%|██████████| 72/72 [00:24<00:00,  2.99it/s]\n",
      "Uploading:   0%|          | 0/72 [00:00<?, ?it/s]\n",
      "Downloading:   0%|          | 0/72 [00:00<?, ?it/s]"
     ]
    },
    {
     "name": "stdout",
     "output_type": "stream",
     "text": [
      "Downloading 235\n"
     ]
    },
    {
     "name": "stderr",
     "output_type": "stream",
     "text": [
      "Downloading: 142it [00:04, 21.37it/s]                        \n"
     ]
    },
    {
     "name": "stdout",
     "output_type": "stream",
     "text": [
      "Processing 235\n"
     ]
    },
    {
     "name": "stderr",
     "output_type": "stream",
     "text": [
      "\r",
      "Rechunking image:   0%|          | 0/72 [00:00<?, ?it/s]"
     ]
    },
    {
     "name": "stdout",
     "output_type": "stream",
     "text": [
      "Uploading 235\n"
     ]
    },
    {
     "name": "stderr",
     "output_type": "stream",
     "text": [
      "Rechunking image: 100%|██████████| 72/72 [00:21<00:00,  3.28it/s]\n",
      "Uploading:   0%|          | 0/72 [00:00<?, ?it/s]\n",
      "Downloading:   0%|          | 0/72 [00:00<?, ?it/s]"
     ]
    },
    {
     "name": "stdout",
     "output_type": "stream",
     "text": [
      "Downloading 236\n"
     ]
    },
    {
     "name": "stderr",
     "output_type": "stream",
     "text": [
      "Downloading: 142it [00:03, 23.59it/s]                        \n"
     ]
    },
    {
     "name": "stdout",
     "output_type": "stream",
     "text": [
      "Processing 236\n"
     ]
    },
    {
     "name": "stderr",
     "output_type": "stream",
     "text": [
      "\r",
      "Rechunking image:   0%|          | 0/72 [00:00<?, ?it/s]"
     ]
    },
    {
     "name": "stdout",
     "output_type": "stream",
     "text": [
      "Uploading 236\n"
     ]
    },
    {
     "name": "stderr",
     "output_type": "stream",
     "text": [
      "Rechunking image: 100%|██████████| 72/72 [00:21<00:00,  3.41it/s]\n",
      "Uploading:   0%|          | 0/72 [00:00<?, ?it/s]\n",
      "Downloading:   0%|          | 0/72 [00:00<?, ?it/s]"
     ]
    },
    {
     "name": "stdout",
     "output_type": "stream",
     "text": [
      "Downloading 237\n"
     ]
    },
    {
     "name": "stderr",
     "output_type": "stream",
     "text": [
      "Downloading: 140it [00:04, 20.90it/s]                        \n"
     ]
    },
    {
     "name": "stdout",
     "output_type": "stream",
     "text": [
      "Processing 237\n"
     ]
    },
    {
     "name": "stderr",
     "output_type": "stream",
     "text": [
      "\r",
      "Rechunking image:   0%|          | 0/72 [00:00<?, ?it/s]"
     ]
    },
    {
     "name": "stdout",
     "output_type": "stream",
     "text": [
      "Uploading 237\n"
     ]
    },
    {
     "name": "stderr",
     "output_type": "stream",
     "text": [
      "Rechunking image: 100%|██████████| 72/72 [00:22<00:00,  3.14it/s]\n",
      "Uploading:   0%|          | 0/72 [00:00<?, ?it/s]\n",
      "Downloading:  28%|██▊       | 20/72 [00:00<00:00, 199.65it/s]"
     ]
    },
    {
     "name": "stdout",
     "output_type": "stream",
     "text": [
      "Downloading 238\n"
     ]
    },
    {
     "name": "stderr",
     "output_type": "stream",
     "text": [
      "Downloading: 142it [00:03, 25.61it/s]                        \n"
     ]
    },
    {
     "name": "stdout",
     "output_type": "stream",
     "text": [
      "Processing 238\n"
     ]
    },
    {
     "name": "stderr",
     "output_type": "stream",
     "text": [
      "Rechunking image:   1%|▏         | 1/72 [00:00<00:08,  8.62it/s]"
     ]
    },
    {
     "name": "stdout",
     "output_type": "stream",
     "text": [
      "Uploading 238\n"
     ]
    },
    {
     "name": "stderr",
     "output_type": "stream",
     "text": [
      "Rechunking image: 100%|██████████| 72/72 [00:23<00:00,  3.01it/s]\n",
      "Uploading:   0%|          | 0/72 [00:00<?, ?it/s]\n",
      "Downloading:   0%|          | 0/72 [00:00<?, ?it/s]"
     ]
    },
    {
     "name": "stdout",
     "output_type": "stream",
     "text": [
      "Downloading 239\n"
     ]
    },
    {
     "name": "stderr",
     "output_type": "stream",
     "text": [
      "Downloading: 140it [00:04, 22.26it/s]                        \n"
     ]
    },
    {
     "name": "stdout",
     "output_type": "stream",
     "text": [
      "Processing 239\n"
     ]
    },
    {
     "name": "stderr",
     "output_type": "stream",
     "text": [
      "Rechunking image:   1%|▏         | 1/72 [00:00<00:07,  9.96it/s]"
     ]
    },
    {
     "name": "stdout",
     "output_type": "stream",
     "text": [
      "Uploading 239\n"
     ]
    },
    {
     "name": "stderr",
     "output_type": "stream",
     "text": [
      "Rechunking image: 100%|██████████| 72/72 [00:21<00:00,  3.28it/s]\n",
      "Uploading:   0%|          | 0/72 [00:00<?, ?it/s]\n",
      "Downloading:   0%|          | 0/72 [00:00<?, ?it/s]"
     ]
    },
    {
     "name": "stdout",
     "output_type": "stream",
     "text": [
      "Downloading 240\n"
     ]
    },
    {
     "name": "stderr",
     "output_type": "stream",
     "text": [
      "Downloading: 142it [00:04, 22.59it/s]                        \n"
     ]
    },
    {
     "name": "stdout",
     "output_type": "stream",
     "text": [
      "Processing 240\n"
     ]
    },
    {
     "name": "stderr",
     "output_type": "stream",
     "text": [
      "\r",
      "Rechunking image:   0%|          | 0/72 [00:00<?, ?it/s]"
     ]
    },
    {
     "name": "stdout",
     "output_type": "stream",
     "text": [
      "Uploading 240\n"
     ]
    },
    {
     "name": "stderr",
     "output_type": "stream",
     "text": [
      "Rechunking image: 100%|██████████| 72/72 [00:22<00:00,  3.20it/s]\n",
      "Uploading:   0%|          | 0/72 [00:00<?, ?it/s]\n",
      "Downloading:   0%|          | 0/72 [00:00<?, ?it/s]"
     ]
    },
    {
     "name": "stdout",
     "output_type": "stream",
     "text": [
      "Downloading 241\n"
     ]
    },
    {
     "name": "stderr",
     "output_type": "stream",
     "text": [
      "Downloading: 142it [00:03, 25.12it/s]                        \n"
     ]
    },
    {
     "name": "stdout",
     "output_type": "stream",
     "text": [
      "Processing 241\n"
     ]
    },
    {
     "name": "stderr",
     "output_type": "stream",
     "text": [
      "\r",
      "Rechunking image:   0%|          | 0/72 [00:00<?, ?it/s]"
     ]
    },
    {
     "name": "stdout",
     "output_type": "stream",
     "text": [
      "Uploading 241\n"
     ]
    },
    {
     "name": "stderr",
     "output_type": "stream",
     "text": [
      "Rechunking image: 100%|██████████| 72/72 [00:23<00:00,  3.12it/s]\n",
      "Uploading:   0%|          | 0/72 [00:00<?, ?it/s]\n",
      "Downloading:   0%|          | 0/72 [00:00<?, ?it/s]"
     ]
    },
    {
     "name": "stdout",
     "output_type": "stream",
     "text": [
      "Downloading 242\n"
     ]
    },
    {
     "name": "stderr",
     "output_type": "stream",
     "text": [
      "Downloading: 142it [00:04, 20.71it/s]                        \n"
     ]
    },
    {
     "name": "stdout",
     "output_type": "stream",
     "text": [
      "Processing 242\n"
     ]
    },
    {
     "name": "stderr",
     "output_type": "stream",
     "text": [
      "\r",
      "Rechunking image:   0%|          | 0/72 [00:00<?, ?it/s]"
     ]
    },
    {
     "name": "stdout",
     "output_type": "stream",
     "text": [
      "Uploading 242\n"
     ]
    },
    {
     "name": "stderr",
     "output_type": "stream",
     "text": [
      "Rechunking image: 100%|██████████| 72/72 [00:22<00:00,  3.15it/s]\n",
      "Uploading:   0%|          | 0/72 [00:00<?, ?it/s]\n",
      "Downloading:  28%|██▊       | 20/72 [00:00<00:00, 199.52it/s]"
     ]
    },
    {
     "name": "stdout",
     "output_type": "stream",
     "text": [
      "Downloading 243\n"
     ]
    },
    {
     "name": "stderr",
     "output_type": "stream",
     "text": [
      "Downloading: 142it [00:03, 22.37it/s]                        \n"
     ]
    },
    {
     "name": "stdout",
     "output_type": "stream",
     "text": [
      "Processing 243\n"
     ]
    },
    {
     "name": "stderr",
     "output_type": "stream",
     "text": [
      "\r",
      "Rechunking image:   0%|          | 0/72 [00:00<?, ?it/s]"
     ]
    },
    {
     "name": "stdout",
     "output_type": "stream",
     "text": [
      "Uploading 243\n"
     ]
    },
    {
     "name": "stderr",
     "output_type": "stream",
     "text": [
      "Rechunking image: 100%|██████████| 72/72 [00:23<00:00,  3.04it/s]\n",
      "Uploading:   0%|          | 0/72 [00:00<?, ?it/s]\n",
      "Downloading:   0%|          | 0/72 [00:00<?, ?it/s]"
     ]
    },
    {
     "name": "stdout",
     "output_type": "stream",
     "text": [
      "Downloading 244\n"
     ]
    },
    {
     "name": "stderr",
     "output_type": "stream",
     "text": [
      "Downloading: 142it [00:04, 22.70it/s]                        \n"
     ]
    },
    {
     "name": "stdout",
     "output_type": "stream",
     "text": [
      "Processing 244\n"
     ]
    },
    {
     "name": "stderr",
     "output_type": "stream",
     "text": [
      "\r",
      "Rechunking image:   0%|          | 0/72 [00:00<?, ?it/s]"
     ]
    },
    {
     "name": "stdout",
     "output_type": "stream",
     "text": [
      "Uploading 244\n"
     ]
    },
    {
     "name": "stderr",
     "output_type": "stream",
     "text": [
      "Rechunking image: 100%|██████████| 72/72 [00:21<00:00,  3.29it/s]\n",
      "Uploading:   0%|          | 0/72 [00:00<?, ?it/s]\n",
      "Downloading:   0%|          | 0/72 [00:00<?, ?it/s]"
     ]
    },
    {
     "name": "stdout",
     "output_type": "stream",
     "text": [
      "Downloading 245\n"
     ]
    },
    {
     "name": "stderr",
     "output_type": "stream",
     "text": [
      "Downloading: 140it [00:04, 21.69it/s]                       \n"
     ]
    },
    {
     "name": "stdout",
     "output_type": "stream",
     "text": [
      "Processing 245\n"
     ]
    },
    {
     "name": "stderr",
     "output_type": "stream",
     "text": [
      "\r",
      "Rechunking image:   0%|          | 0/72 [00:00<?, ?it/s]"
     ]
    },
    {
     "name": "stdout",
     "output_type": "stream",
     "text": [
      "Uploading 245\n"
     ]
    },
    {
     "name": "stderr",
     "output_type": "stream",
     "text": [
      "Rechunking image: 100%|██████████| 72/72 [00:22<00:00,  3.26it/s]\n",
      "Uploading:   0%|          | 0/72 [00:00<?, ?it/s]\n",
      "Downloading:  29%|██▉       | 21/72 [00:00<00:00, 209.47it/s]"
     ]
    },
    {
     "name": "stdout",
     "output_type": "stream",
     "text": [
      "Downloading 246\n"
     ]
    },
    {
     "name": "stderr",
     "output_type": "stream",
     "text": [
      "Downloading: 136it [00:03, 20.26it/s]                        \n"
     ]
    },
    {
     "name": "stdout",
     "output_type": "stream",
     "text": [
      "Processing 246\n"
     ]
    },
    {
     "name": "stderr",
     "output_type": "stream",
     "text": [
      "\r",
      "Rechunking image:   0%|          | 0/72 [00:00<?, ?it/s]"
     ]
    },
    {
     "name": "stdout",
     "output_type": "stream",
     "text": [
      "Uploading 246\n"
     ]
    },
    {
     "name": "stderr",
     "output_type": "stream",
     "text": [
      "Rechunking image: 100%|██████████| 72/72 [00:22<00:00,  3.16it/s]\n",
      "Uploading:   0%|          | 0/72 [00:00<?, ?it/s]\n",
      "Downloading:  28%|██▊       | 20/72 [00:00<00:00, 199.58it/s]"
     ]
    },
    {
     "name": "stdout",
     "output_type": "stream",
     "text": [
      "Downloading 247\n"
     ]
    },
    {
     "name": "stderr",
     "output_type": "stream",
     "text": [
      "Downloading: 140it [00:03, 20.50it/s]                        \n"
     ]
    },
    {
     "name": "stdout",
     "output_type": "stream",
     "text": [
      "Processing 247\n"
     ]
    },
    {
     "name": "stderr",
     "output_type": "stream",
     "text": [
      "\r",
      "Rechunking image:   0%|          | 0/72 [00:00<?, ?it/s]"
     ]
    },
    {
     "name": "stdout",
     "output_type": "stream",
     "text": [
      "Uploading 247\n"
     ]
    },
    {
     "name": "stderr",
     "output_type": "stream",
     "text": [
      "Rechunking image: 100%|██████████| 72/72 [00:22<00:00,  3.20it/s]\n",
      "Uploading:   0%|          | 0/72 [00:00<?, ?it/s]\n",
      "Downloading:  29%|██▉       | 21/72 [00:00<00:00, 209.47it/s]"
     ]
    },
    {
     "name": "stdout",
     "output_type": "stream",
     "text": [
      "Downloading 248\n"
     ]
    },
    {
     "name": "stderr",
     "output_type": "stream",
     "text": [
      "Downloading: 138it [00:03, 19.74it/s]                        \n"
     ]
    },
    {
     "name": "stdout",
     "output_type": "stream",
     "text": [
      "Processing 248\n"
     ]
    },
    {
     "name": "stderr",
     "output_type": "stream",
     "text": [
      "\r",
      "Rechunking image:   0%|          | 0/72 [00:00<?, ?it/s]"
     ]
    },
    {
     "name": "stdout",
     "output_type": "stream",
     "text": [
      "Uploading 248\n"
     ]
    },
    {
     "name": "stderr",
     "output_type": "stream",
     "text": [
      "Rechunking image: 100%|██████████| 72/72 [00:23<00:00,  3.03it/s]\n",
      "Uploading:   0%|          | 0/72 [00:00<?, ?it/s]\n",
      "Downloading:  28%|██▊       | 20/72 [00:00<00:00, 199.58it/s]"
     ]
    },
    {
     "name": "stdout",
     "output_type": "stream",
     "text": [
      "Downloading 249\n"
     ]
    },
    {
     "name": "stderr",
     "output_type": "stream",
     "text": [
      "Downloading: 140it [00:04, 21.59it/s]                        \n"
     ]
    },
    {
     "name": "stdout",
     "output_type": "stream",
     "text": [
      "Processing 249\n"
     ]
    },
    {
     "name": "stderr",
     "output_type": "stream",
     "text": [
      "\r",
      "Rechunking image:   0%|          | 0/72 [00:00<?, ?it/s]"
     ]
    },
    {
     "name": "stdout",
     "output_type": "stream",
     "text": [
      "Uploading 249\n"
     ]
    },
    {
     "name": "stderr",
     "output_type": "stream",
     "text": [
      "Rechunking image: 100%|██████████| 72/72 [00:22<00:00,  3.23it/s]\n",
      "Uploading:   0%|          | 0/72 [00:00<?, ?it/s]\n",
      "Downloading:  29%|██▉       | 21/72 [00:00<00:00, 199.82it/s]"
     ]
    },
    {
     "name": "stdout",
     "output_type": "stream",
     "text": [
      "Downloading 250\n"
     ]
    },
    {
     "name": "stderr",
     "output_type": "stream",
     "text": [
      "Downloading: 142it [00:03, 24.83it/s]                        \n"
     ]
    },
    {
     "name": "stdout",
     "output_type": "stream",
     "text": [
      "Processing 250\n"
     ]
    },
    {
     "name": "stderr",
     "output_type": "stream",
     "text": [
      "\r",
      "Rechunking image:   0%|          | 0/72 [00:00<?, ?it/s]"
     ]
    },
    {
     "name": "stdout",
     "output_type": "stream",
     "text": [
      "Uploading 250\n"
     ]
    },
    {
     "name": "stderr",
     "output_type": "stream",
     "text": [
      "Rechunking image: 100%|██████████| 72/72 [00:25<00:00,  2.80it/s]\n",
      "Uploading:   0%|          | 0/72 [00:00<?, ?it/s]\n",
      "Downloading:   0%|          | 0/72 [00:00<?, ?it/s]"
     ]
    },
    {
     "name": "stdout",
     "output_type": "stream",
     "text": [
      "Downloading 251\n"
     ]
    },
    {
     "name": "stderr",
     "output_type": "stream",
     "text": [
      "Downloading: 138it [00:05, 18.05it/s]                        \n"
     ]
    },
    {
     "name": "stdout",
     "output_type": "stream",
     "text": [
      "Processing 251\n"
     ]
    },
    {
     "name": "stderr",
     "output_type": "stream",
     "text": [
      "Rechunking image:   1%|▏         | 1/72 [00:00<00:09,  7.47it/s]"
     ]
    },
    {
     "name": "stdout",
     "output_type": "stream",
     "text": [
      "Uploading 251\n"
     ]
    },
    {
     "name": "stderr",
     "output_type": "stream",
     "text": [
      "Rechunking image: 100%|██████████| 72/72 [00:22<00:00,  3.27it/s]\n",
      "Uploading:   0%|          | 0/72 [00:00<?, ?it/s]\n",
      "Downloading:   0%|          | 0/72 [00:00<?, ?it/s]"
     ]
    },
    {
     "name": "stdout",
     "output_type": "stream",
     "text": [
      "Downloading 252\n"
     ]
    },
    {
     "name": "stderr",
     "output_type": "stream",
     "text": [
      "Downloading: 138it [00:04, 24.13it/s]                        \n"
     ]
    },
    {
     "name": "stdout",
     "output_type": "stream",
     "text": [
      "Processing 252\n"
     ]
    },
    {
     "name": "stderr",
     "output_type": "stream",
     "text": [
      "Rechunking image:   1%|▏         | 1/72 [00:00<00:12,  5.61it/s]"
     ]
    },
    {
     "name": "stdout",
     "output_type": "stream",
     "text": [
      "Uploading 252\n"
     ]
    },
    {
     "name": "stderr",
     "output_type": "stream",
     "text": [
      "Rechunking image: 100%|██████████| 72/72 [00:23<00:00,  3.10it/s]\n",
      "Uploading:   0%|          | 0/72 [00:00<?, ?it/s]\n",
      "Downloading:   0%|          | 0/72 [00:00<?, ?it/s]"
     ]
    },
    {
     "name": "stdout",
     "output_type": "stream",
     "text": [
      "Downloading 253\n"
     ]
    },
    {
     "name": "stderr",
     "output_type": "stream",
     "text": [
      "Downloading: 140it [00:04, 25.04it/s]                        \n"
     ]
    },
    {
     "name": "stdout",
     "output_type": "stream",
     "text": [
      "Processing 253\n"
     ]
    },
    {
     "name": "stderr",
     "output_type": "stream",
     "text": [
      "Rechunking image:   1%|▏         | 1/72 [00:00<00:12,  5.60it/s]"
     ]
    },
    {
     "name": "stdout",
     "output_type": "stream",
     "text": [
      "Uploading 253\n"
     ]
    },
    {
     "name": "stderr",
     "output_type": "stream",
     "text": [
      "Rechunking image: 100%|██████████| 72/72 [00:23<00:00,  3.09it/s]\n",
      "Uploading:   0%|          | 0/72 [00:00<?, ?it/s]\n",
      "Downloading:   0%|          | 0/72 [00:00<?, ?it/s]"
     ]
    },
    {
     "name": "stdout",
     "output_type": "stream",
     "text": [
      "Downloading 254\n"
     ]
    },
    {
     "name": "stderr",
     "output_type": "stream",
     "text": [
      "Downloading: 134it [00:04, 23.32it/s]                        \n"
     ]
    },
    {
     "name": "stdout",
     "output_type": "stream",
     "text": [
      "Processing 254\n"
     ]
    },
    {
     "name": "stderr",
     "output_type": "stream",
     "text": [
      "Rechunking image:   1%|▏         | 1/72 [00:00<00:13,  5.44it/s]"
     ]
    },
    {
     "name": "stdout",
     "output_type": "stream",
     "text": [
      "Uploading 254\n"
     ]
    },
    {
     "name": "stderr",
     "output_type": "stream",
     "text": [
      "Rechunking image: 100%|██████████| 72/72 [00:23<00:00,  3.05it/s]\n",
      "Uploading:   0%|          | 0/72 [00:00<?, ?it/s]\n",
      "Downloading:   0%|          | 0/72 [00:00<?, ?it/s]"
     ]
    },
    {
     "name": "stdout",
     "output_type": "stream",
     "text": [
      "Downloading 255\n"
     ]
    },
    {
     "name": "stderr",
     "output_type": "stream",
     "text": [
      "Downloading: 140it [00:04, 24.36it/s]                        \n"
     ]
    },
    {
     "name": "stdout",
     "output_type": "stream",
     "text": [
      "Processing 255\n"
     ]
    },
    {
     "name": "stderr",
     "output_type": "stream",
     "text": [
      "\r",
      "Rechunking image:   0%|          | 0/72 [00:00<?, ?it/s]"
     ]
    },
    {
     "name": "stdout",
     "output_type": "stream",
     "text": [
      "Uploading 255\n"
     ]
    },
    {
     "name": "stderr",
     "output_type": "stream",
     "text": [
      "Rechunking image: 100%|██████████| 72/72 [00:22<00:00,  3.25it/s]\n",
      "Uploading:   0%|          | 0/72 [00:00<?, ?it/s]\n",
      "Downloading:  28%|██▊       | 20/72 [00:00<00:00, 199.60it/s]"
     ]
    },
    {
     "name": "stdout",
     "output_type": "stream",
     "text": [
      "Downloading 256\n"
     ]
    },
    {
     "name": "stderr",
     "output_type": "stream",
     "text": [
      "Downloading: 140it [00:04, 20.67it/s]                        \n"
     ]
    },
    {
     "name": "stdout",
     "output_type": "stream",
     "text": [
      "Processing 256\n"
     ]
    },
    {
     "name": "stderr",
     "output_type": "stream",
     "text": [
      "\r",
      "Rechunking image:   0%|          | 0/72 [00:00<?, ?it/s]"
     ]
    },
    {
     "name": "stdout",
     "output_type": "stream",
     "text": [
      "Uploading 256\n"
     ]
    },
    {
     "name": "stderr",
     "output_type": "stream",
     "text": [
      "Rechunking image: 100%|██████████| 72/72 [00:21<00:00,  3.36it/s]\n",
      "Uploading:   0%|          | 0/72 [00:00<?, ?it/s]\n",
      "Downloading:   0%|          | 0/72 [00:00<?, ?it/s]"
     ]
    },
    {
     "name": "stdout",
     "output_type": "stream",
     "text": [
      "Downloading 257\n"
     ]
    },
    {
     "name": "stderr",
     "output_type": "stream",
     "text": [
      "Downloading: 138it [00:04, 23.61it/s]                        \n"
     ]
    },
    {
     "name": "stdout",
     "output_type": "stream",
     "text": [
      "Processing 257\n"
     ]
    },
    {
     "name": "stderr",
     "output_type": "stream",
     "text": [
      "Rechunking image:   1%|▏         | 1/72 [00:00<00:12,  5.51it/s]"
     ]
    },
    {
     "name": "stdout",
     "output_type": "stream",
     "text": [
      "Uploading 257\n"
     ]
    },
    {
     "name": "stderr",
     "output_type": "stream",
     "text": [
      "Rechunking image: 100%|██████████| 72/72 [00:23<00:00,  3.03it/s]\n",
      "Uploading:   0%|          | 0/72 [00:00<?, ?it/s]\n",
      "Downloading:   0%|          | 0/72 [00:00<?, ?it/s]"
     ]
    },
    {
     "name": "stdout",
     "output_type": "stream",
     "text": [
      "Downloading 258\n"
     ]
    },
    {
     "name": "stderr",
     "output_type": "stream",
     "text": [
      "Downloading: 140it [00:04, 24.26it/s]                        \n"
     ]
    },
    {
     "name": "stdout",
     "output_type": "stream",
     "text": [
      "Processing 258\n"
     ]
    },
    {
     "name": "stderr",
     "output_type": "stream",
     "text": [
      "Rechunking image:   1%|▏         | 1/72 [00:00<00:12,  5.86it/s]"
     ]
    },
    {
     "name": "stdout",
     "output_type": "stream",
     "text": [
      "Uploading 258\n"
     ]
    },
    {
     "name": "stderr",
     "output_type": "stream",
     "text": [
      "Rechunking image: 100%|██████████| 72/72 [00:23<00:00,  3.03it/s]\n",
      "Uploading:   0%|          | 0/72 [00:00<?, ?it/s]\n",
      "Downloading:   0%|          | 0/72 [00:00<?, ?it/s]"
     ]
    },
    {
     "name": "stdout",
     "output_type": "stream",
     "text": [
      "Downloading 259\n"
     ]
    },
    {
     "name": "stderr",
     "output_type": "stream",
     "text": [
      "Downloading: 132it [00:04, 20.67it/s]                        \n"
     ]
    },
    {
     "name": "stdout",
     "output_type": "stream",
     "text": [
      "Processing 259\n"
     ]
    },
    {
     "name": "stderr",
     "output_type": "stream",
     "text": [
      "Rechunking image:   1%|▏         | 1/72 [00:00<00:09,  7.33it/s]"
     ]
    },
    {
     "name": "stdout",
     "output_type": "stream",
     "text": [
      "Uploading 259\n"
     ]
    },
    {
     "name": "stderr",
     "output_type": "stream",
     "text": [
      "Rechunking image: 100%|██████████| 72/72 [00:22<00:00,  3.21it/s]\n",
      "Uploading:   0%|          | 0/72 [00:00<?, ?it/s]\n",
      "Downloading:   0%|          | 0/72 [00:00<?, ?it/s]"
     ]
    },
    {
     "name": "stdout",
     "output_type": "stream",
     "text": [
      "Downloading 260\n"
     ]
    },
    {
     "name": "stderr",
     "output_type": "stream",
     "text": [
      "Downloading: 136it [00:05, 17.07it/s]                        \n"
     ]
    },
    {
     "name": "stdout",
     "output_type": "stream",
     "text": [
      "Processing 260\n"
     ]
    },
    {
     "name": "stderr",
     "output_type": "stream",
     "text": [
      "Rechunking image:   1%|▏         | 1/72 [00:00<00:09,  7.47it/s]"
     ]
    },
    {
     "name": "stdout",
     "output_type": "stream",
     "text": [
      "Uploading 260\n"
     ]
    },
    {
     "name": "stderr",
     "output_type": "stream",
     "text": [
      "Rechunking image: 100%|██████████| 72/72 [00:23<00:00,  3.09it/s]\n",
      "Uploading:   0%|          | 0/72 [00:00<?, ?it/s]\n",
      "Downloading:   0%|          | 0/72 [00:00<?, ?it/s]"
     ]
    },
    {
     "name": "stdout",
     "output_type": "stream",
     "text": [
      "Downloading 261\n"
     ]
    },
    {
     "name": "stderr",
     "output_type": "stream",
     "text": [
      "Downloading: 136it [00:04, 20.44it/s]                        \n"
     ]
    },
    {
     "name": "stdout",
     "output_type": "stream",
     "text": [
      "Processing 261\n"
     ]
    },
    {
     "name": "stderr",
     "output_type": "stream",
     "text": [
      "Rechunking image:   1%|▏         | 1/72 [00:00<00:11,  6.16it/s]"
     ]
    },
    {
     "name": "stdout",
     "output_type": "stream",
     "text": [
      "Uploading 261\n"
     ]
    },
    {
     "name": "stderr",
     "output_type": "stream",
     "text": [
      "Rechunking image: 100%|██████████| 72/72 [00:24<00:00,  2.96it/s]\n",
      "Uploading:   0%|          | 0/72 [00:00<?, ?it/s]\n",
      "Downloading:   0%|          | 0/72 [00:00<?, ?it/s]"
     ]
    },
    {
     "name": "stdout",
     "output_type": "stream",
     "text": [
      "Downloading 262\n"
     ]
    },
    {
     "name": "stderr",
     "output_type": "stream",
     "text": [
      "Downloading: 138it [00:03, 21.57it/s]                        \n"
     ]
    },
    {
     "name": "stdout",
     "output_type": "stream",
     "text": [
      "Processing 262\n"
     ]
    },
    {
     "name": "stderr",
     "output_type": "stream",
     "text": [
      "\r",
      "Rechunking image:   0%|          | 0/72 [00:00<?, ?it/s]"
     ]
    },
    {
     "name": "stdout",
     "output_type": "stream",
     "text": [
      "Uploading 262\n"
     ]
    },
    {
     "name": "stderr",
     "output_type": "stream",
     "text": [
      "Rechunking image: 100%|██████████| 72/72 [00:23<00:00,  3.06it/s]\n",
      "Uploading:   0%|          | 0/72 [00:00<?, ?it/s]\n",
      "Downloading:   0%|          | 0/72 [00:00<?, ?it/s]"
     ]
    },
    {
     "name": "stdout",
     "output_type": "stream",
     "text": [
      "Downloading 263\n"
     ]
    },
    {
     "name": "stderr",
     "output_type": "stream",
     "text": [
      "Downloading: 138it [00:04, 20.15it/s]                        \n"
     ]
    },
    {
     "name": "stdout",
     "output_type": "stream",
     "text": [
      "Processing 263\n"
     ]
    },
    {
     "name": "stderr",
     "output_type": "stream",
     "text": [
      "Rechunking image:   1%|▏         | 1/72 [00:00<00:12,  5.84it/s]"
     ]
    },
    {
     "name": "stdout",
     "output_type": "stream",
     "text": [
      "Uploading 263\n"
     ]
    },
    {
     "name": "stderr",
     "output_type": "stream",
     "text": [
      "Rechunking image: 100%|██████████| 72/72 [00:24<00:00,  2.94it/s]\n",
      "Uploading:   0%|          | 0/72 [00:00<?, ?it/s]\n",
      "Downloading:  28%|██▊       | 20/72 [00:00<00:00, 199.42it/s]"
     ]
    },
    {
     "name": "stdout",
     "output_type": "stream",
     "text": [
      "Downloading 264\n"
     ]
    },
    {
     "name": "stderr",
     "output_type": "stream",
     "text": [
      "Downloading: 138it [00:04, 22.10it/s]                        \n"
     ]
    },
    {
     "name": "stdout",
     "output_type": "stream",
     "text": [
      "Processing 264\n"
     ]
    },
    {
     "name": "stderr",
     "output_type": "stream",
     "text": [
      "Rechunking image:   1%|▏         | 1/72 [00:00<00:09,  7.38it/s]"
     ]
    },
    {
     "name": "stdout",
     "output_type": "stream",
     "text": [
      "Uploading 264\n"
     ]
    },
    {
     "name": "stderr",
     "output_type": "stream",
     "text": [
      "Rechunking image: 100%|██████████| 72/72 [00:23<00:00,  3.02it/s]\n",
      "Uploading:   0%|          | 0/72 [00:00<?, ?it/s]\n",
      "Downloading:   0%|          | 0/72 [00:00<?, ?it/s]"
     ]
    },
    {
     "name": "stdout",
     "output_type": "stream",
     "text": [
      "Downloading 265\n"
     ]
    },
    {
     "name": "stderr",
     "output_type": "stream",
     "text": [
      "Downloading: 128it [00:03, 23.35it/s]                        \n"
     ]
    },
    {
     "name": "stdout",
     "output_type": "stream",
     "text": [
      "Processing 265\n"
     ]
    },
    {
     "name": "stderr",
     "output_type": "stream",
     "text": [
      "Rechunking image:   1%|▏         | 1/72 [00:00<00:07,  9.04it/s]"
     ]
    },
    {
     "name": "stdout",
     "output_type": "stream",
     "text": [
      "Uploading 265\n"
     ]
    },
    {
     "name": "stderr",
     "output_type": "stream",
     "text": [
      "Rechunking image: 100%|██████████| 72/72 [00:20<00:00,  3.59it/s]\n",
      "Uploading:   0%|          | 0/72 [00:00<?, ?it/s]\n",
      "Downloading:   0%|          | 0/72 [00:00<?, ?it/s]"
     ]
    },
    {
     "name": "stdout",
     "output_type": "stream",
     "text": [
      "Downloading 266\n"
     ]
    },
    {
     "name": "stderr",
     "output_type": "stream",
     "text": [
      "Downloading: 138it [00:04, 23.08it/s]                        \n"
     ]
    },
    {
     "name": "stdout",
     "output_type": "stream",
     "text": [
      "Processing 266\n"
     ]
    },
    {
     "name": "stderr",
     "output_type": "stream",
     "text": [
      "Rechunking image:   1%|▏         | 1/72 [00:00<00:12,  5.54it/s]"
     ]
    },
    {
     "name": "stdout",
     "output_type": "stream",
     "text": [
      "Uploading 266\n"
     ]
    },
    {
     "name": "stderr",
     "output_type": "stream",
     "text": [
      "Rechunking image: 100%|██████████| 72/72 [00:23<00:00,  3.04it/s]\n",
      "Uploading:   0%|          | 0/72 [00:00<?, ?it/s]\n",
      "Downloading:   0%|          | 0/72 [00:00<?, ?it/s]"
     ]
    },
    {
     "name": "stdout",
     "output_type": "stream",
     "text": [
      "Downloading 267\n"
     ]
    },
    {
     "name": "stderr",
     "output_type": "stream",
     "text": [
      "Downloading: 142it [00:04, 23.91it/s]                        \n"
     ]
    },
    {
     "name": "stdout",
     "output_type": "stream",
     "text": [
      "Processing 267\n"
     ]
    },
    {
     "name": "stderr",
     "output_type": "stream",
     "text": [
      "\r",
      "Rechunking image:   0%|          | 0/72 [00:00<?, ?it/s]"
     ]
    },
    {
     "name": "stdout",
     "output_type": "stream",
     "text": [
      "Uploading 267\n"
     ]
    },
    {
     "name": "stderr",
     "output_type": "stream",
     "text": [
      "Rechunking image: 100%|██████████| 72/72 [00:25<00:00,  2.87it/s]\n",
      "Uploading:   0%|          | 0/72 [00:00<?, ?it/s]\n",
      "Downloading:  29%|██▉       | 21/72 [00:00<00:00, 206.01it/s]"
     ]
    },
    {
     "name": "stdout",
     "output_type": "stream",
     "text": [
      "Downloading 268\n"
     ]
    },
    {
     "name": "stderr",
     "output_type": "stream",
     "text": [
      "Downloading: 140it [00:04, 23.62it/s]                        \n"
     ]
    },
    {
     "name": "stdout",
     "output_type": "stream",
     "text": [
      "Processing 268\n"
     ]
    },
    {
     "name": "stderr",
     "output_type": "stream",
     "text": [
      "Rechunking image:   1%|▏         | 1/72 [00:00<00:09,  7.17it/s]"
     ]
    },
    {
     "name": "stdout",
     "output_type": "stream",
     "text": [
      "Uploading 268\n"
     ]
    },
    {
     "name": "stderr",
     "output_type": "stream",
     "text": [
      "Rechunking image: 100%|██████████| 72/72 [00:24<00:00,  2.92it/s]\n",
      "Uploading:   0%|          | 0/72 [00:00<?, ?it/s]\n",
      "Downloading:   0%|          | 0/72 [00:00<?, ?it/s]"
     ]
    },
    {
     "name": "stdout",
     "output_type": "stream",
     "text": [
      "Downloading 269\n"
     ]
    },
    {
     "name": "stderr",
     "output_type": "stream",
     "text": [
      "Downloading: 142it [00:04, 20.09it/s]                        \n"
     ]
    },
    {
     "name": "stdout",
     "output_type": "stream",
     "text": [
      "Processing 269\n"
     ]
    },
    {
     "name": "stderr",
     "output_type": "stream",
     "text": [
      "Rechunking image:   1%|▏         | 1/72 [00:00<00:11,  6.36it/s]"
     ]
    },
    {
     "name": "stdout",
     "output_type": "stream",
     "text": [
      "Uploading 269\n"
     ]
    },
    {
     "name": "stderr",
     "output_type": "stream",
     "text": [
      "Rechunking image: 100%|██████████| 72/72 [00:24<00:00,  2.96it/s]\n",
      "Uploading:   0%|          | 0/72 [00:00<?, ?it/s]\n",
      "Downloading:   0%|          | 0/72 [00:00<?, ?it/s]"
     ]
    },
    {
     "name": "stdout",
     "output_type": "stream",
     "text": [
      "Downloading 270\n"
     ]
    },
    {
     "name": "stderr",
     "output_type": "stream",
     "text": [
      "Downloading: 140it [00:03, 25.70it/s]                        \n"
     ]
    },
    {
     "name": "stdout",
     "output_type": "stream",
     "text": [
      "Processing 270\n"
     ]
    },
    {
     "name": "stderr",
     "output_type": "stream",
     "text": [
      "Rechunking image:   1%|▏         | 1/72 [00:00<00:12,  5.48it/s]"
     ]
    },
    {
     "name": "stdout",
     "output_type": "stream",
     "text": [
      "Uploading 270\n"
     ]
    },
    {
     "name": "stderr",
     "output_type": "stream",
     "text": [
      "Rechunking image: 100%|██████████| 72/72 [00:23<00:00,  3.08it/s]\n",
      "Uploading:   0%|          | 0/72 [00:00<?, ?it/s]\n",
      "Downloading:  29%|██▉       | 21/72 [00:00<00:00, 208.31it/s]"
     ]
    },
    {
     "name": "stdout",
     "output_type": "stream",
     "text": [
      "Downloading 271\n"
     ]
    },
    {
     "name": "stderr",
     "output_type": "stream",
     "text": [
      "Downloading: 140it [00:04, 17.67it/s]                        \n"
     ]
    },
    {
     "name": "stdout",
     "output_type": "stream",
     "text": [
      "Processing 271\n"
     ]
    },
    {
     "name": "stderr",
     "output_type": "stream",
     "text": [
      "\r",
      "Rechunking image:   0%|          | 0/72 [00:00<?, ?it/s]"
     ]
    },
    {
     "name": "stdout",
     "output_type": "stream",
     "text": [
      "Uploading 271\n"
     ]
    },
    {
     "name": "stderr",
     "output_type": "stream",
     "text": [
      "Rechunking image: 100%|██████████| 72/72 [00:25<00:00,  2.86it/s]\n",
      "Uploading:   0%|          | 0/72 [00:00<?, ?it/s]\n",
      "Downloading:   0%|          | 0/72 [00:00<?, ?it/s]"
     ]
    },
    {
     "name": "stdout",
     "output_type": "stream",
     "text": [
      "Downloading 272\n"
     ]
    },
    {
     "name": "stderr",
     "output_type": "stream",
     "text": [
      "Downloading: 134it [00:04, 20.79it/s]                        \n"
     ]
    },
    {
     "name": "stdout",
     "output_type": "stream",
     "text": [
      "Processing 272\n"
     ]
    },
    {
     "name": "stderr",
     "output_type": "stream",
     "text": [
      "Rechunking image:   1%|▏         | 1/72 [00:00<00:12,  5.91it/s]"
     ]
    },
    {
     "name": "stdout",
     "output_type": "stream",
     "text": [
      "Uploading 272\n"
     ]
    },
    {
     "name": "stderr",
     "output_type": "stream",
     "text": [
      "Rechunking image: 100%|██████████| 72/72 [00:24<00:00,  2.98it/s]\n",
      "Uploading:   0%|          | 0/72 [00:00<?, ?it/s]\n",
      "Downloading:  31%|███       | 22/72 [00:00<00:00, 219.55it/s]"
     ]
    },
    {
     "name": "stdout",
     "output_type": "stream",
     "text": [
      "Downloading 273\n"
     ]
    },
    {
     "name": "stderr",
     "output_type": "stream",
     "text": [
      "Downloading: 134it [00:03, 20.48it/s]                        \n"
     ]
    },
    {
     "name": "stdout",
     "output_type": "stream",
     "text": [
      "Processing 273\n"
     ]
    },
    {
     "ename": "KeyboardInterrupt",
     "evalue": "",
     "output_type": "error",
     "traceback": [
      "\u001b[0;31m\u001b[0m",
      "\u001b[0;31mKeyboardInterrupt\u001b[0mTraceback (most recent call last)",
      "\u001b[0;32m<ipython-input-12-6b3e09858912>\u001b[0m in \u001b[0;36m<module>\u001b[0;34m()\u001b[0m\n\u001b[1;32m      1\u001b[0m \u001b[0;32mfor\u001b[0m \u001b[0mz\u001b[0m \u001b[0;32min\u001b[0m \u001b[0mrange\u001b[0m\u001b[0;34m(\u001b[0m\u001b[0;36m137\u001b[0m\u001b[0;34m,\u001b[0m\u001b[0;36m301\u001b[0m\u001b[0;34m)\u001b[0m\u001b[0;34m:\u001b[0m\u001b[0;34m\u001b[0m\u001b[0m\n\u001b[0;32m----> 2\u001b[0;31m     \u001b[0mdetect_cracks\u001b[0m\u001b[0;34m(\u001b[0m\u001b[0mz\u001b[0m\u001b[0;34m,\u001b[0m \u001b[0msrc_cv\u001b[0m\u001b[0;34m,\u001b[0m \u001b[0mdst_cv\u001b[0m\u001b[0;34m,\u001b[0m \u001b[0msrc_chunk_dim\u001b[0m\u001b[0;34m,\u001b[0m \u001b[0mdst_chunk_dim\u001b[0m\u001b[0;34m)\u001b[0m\u001b[0;34m\u001b[0m\u001b[0m\n\u001b[0m",
      "\u001b[0;32m<ipython-input-4-ef167752756a>\u001b[0m in \u001b[0;36mdetect_cracks\u001b[0;34m(z, src_cv, dst_cv, src_chunk_dim, dst_chunk_dim)\u001b[0m\n\u001b[1;32m     42\u001b[0m             \u001b[0mimg\u001b[0m \u001b[0;34m=\u001b[0m \u001b[0mnp2var\u001b[0m\u001b[0;34m(\u001b[0m\u001b[0mimg\u001b[0m\u001b[0;34m,\u001b[0m \u001b[0mcuda\u001b[0m\u001b[0;34m=\u001b[0m\u001b[0mUSECUDA\u001b[0m\u001b[0;34m)\u001b[0m\u001b[0;34m\u001b[0m\u001b[0m\n\u001b[1;32m     43\u001b[0m             \u001b[0mo\u001b[0m \u001b[0;34m=\u001b[0m \u001b[0mnet\u001b[0m\u001b[0;34m(\u001b[0m\u001b[0mimg\u001b[0m\u001b[0;34m)\u001b[0m\u001b[0;34m\u001b[0m\u001b[0m\n\u001b[0;32m---> 44\u001b[0;31m             \u001b[0mdst_image\u001b[0m\u001b[0;34m[\u001b[0m\u001b[0mdst_slice\u001b[0m\u001b[0;34m]\u001b[0m \u001b[0;34m=\u001b[0m \u001b[0mvar2np\u001b[0m\u001b[0;34m(\u001b[0m\u001b[0mo\u001b[0m\u001b[0;34m)\u001b[0m\u001b[0;34m[\u001b[0m\u001b[0mchunk_slice\u001b[0m\u001b[0;34m]\u001b[0m\u001b[0;34m.\u001b[0m\u001b[0mastype\u001b[0m\u001b[0;34m(\u001b[0m\u001b[0mnp\u001b[0m\u001b[0;34m.\u001b[0m\u001b[0muint8\u001b[0m\u001b[0;34m)\u001b[0m\u001b[0;34m\u001b[0m\u001b[0m\n\u001b[0m\u001b[1;32m     45\u001b[0m \u001b[0;34m\u001b[0m\u001b[0m\n\u001b[1;32m     46\u001b[0m     \u001b[0mdst_image\u001b[0m \u001b[0;34m=\u001b[0m \u001b[0mdst_image\u001b[0m\u001b[0;34m.\u001b[0m\u001b[0mastype\u001b[0m\u001b[0;34m(\u001b[0m\u001b[0mnp\u001b[0m\u001b[0;34m.\u001b[0m\u001b[0muint8\u001b[0m\u001b[0;34m)\u001b[0m\u001b[0;34m\u001b[0m\u001b[0m\n",
      "\u001b[0;32m<ipython-input-2-d7487f921892>\u001b[0m in \u001b[0;36mvar2np\u001b[0;34m(arr)\u001b[0m\n\u001b[1;32m    136\u001b[0m \u001b[0;34m\u001b[0m\u001b[0m\n\u001b[1;32m    137\u001b[0m \u001b[0;32mdef\u001b[0m \u001b[0mvar2np\u001b[0m\u001b[0;34m(\u001b[0m\u001b[0marr\u001b[0m\u001b[0;34m)\u001b[0m\u001b[0;34m:\u001b[0m\u001b[0;34m\u001b[0m\u001b[0m\n\u001b[0;32m--> 138\u001b[0;31m     \u001b[0marr\u001b[0m \u001b[0;34m=\u001b[0m \u001b[0marr\u001b[0m\u001b[0;34m.\u001b[0m\u001b[0mdata\u001b[0m\u001b[0;34m.\u001b[0m\u001b[0mcpu\u001b[0m\u001b[0;34m(\u001b[0m\u001b[0;34m)\u001b[0m\u001b[0;34m.\u001b[0m\u001b[0mnumpy\u001b[0m\u001b[0;34m(\u001b[0m\u001b[0;34m)\u001b[0m\u001b[0;34m[\u001b[0m\u001b[0;36m0\u001b[0m\u001b[0;34m,\u001b[0m\u001b[0;36m0\u001b[0m\u001b[0;34m]\u001b[0m\u001b[0;34m\u001b[0m\u001b[0m\n\u001b[0m\u001b[1;32m    139\u001b[0m     \u001b[0;32mreturn\u001b[0m \u001b[0marr\u001b[0m\u001b[0;34m\u001b[0m\u001b[0m\n",
      "\u001b[0;32m/usr/local/lib/python3.5/dist-packages/torch/tensor.py\u001b[0m in \u001b[0;36mcpu\u001b[0;34m(self)\u001b[0m\n\u001b[1;32m     33\u001b[0m     \u001b[0;32mdef\u001b[0m \u001b[0mcpu\u001b[0m\u001b[0;34m(\u001b[0m\u001b[0mself\u001b[0m\u001b[0;34m)\u001b[0m\u001b[0;34m:\u001b[0m\u001b[0;34m\u001b[0m\u001b[0m\n\u001b[1;32m     34\u001b[0m         \u001b[0;34m\"\"\"Returns a CPU copy of this tensor if it's not already on the CPU\"\"\"\u001b[0m\u001b[0;34m\u001b[0m\u001b[0m\n\u001b[0;32m---> 35\u001b[0;31m         \u001b[0;32mreturn\u001b[0m \u001b[0mself\u001b[0m\u001b[0;34m.\u001b[0m\u001b[0mtype\u001b[0m\u001b[0;34m(\u001b[0m\u001b[0mgetattr\u001b[0m\u001b[0;34m(\u001b[0m\u001b[0mtorch\u001b[0m\u001b[0;34m,\u001b[0m \u001b[0mself\u001b[0m\u001b[0;34m.\u001b[0m\u001b[0m__class__\u001b[0m\u001b[0;34m.\u001b[0m\u001b[0m__name__\u001b[0m\u001b[0;34m)\u001b[0m\u001b[0;34m)\u001b[0m\u001b[0;34m\u001b[0m\u001b[0m\n\u001b[0m\u001b[1;32m     36\u001b[0m \u001b[0;34m\u001b[0m\u001b[0m\n\u001b[1;32m     37\u001b[0m     \u001b[0;32mdef\u001b[0m \u001b[0mdouble\u001b[0m\u001b[0;34m(\u001b[0m\u001b[0mself\u001b[0m\u001b[0;34m)\u001b[0m\u001b[0;34m:\u001b[0m\u001b[0;34m\u001b[0m\u001b[0m\n",
      "\u001b[0;32m/usr/local/lib/python3.5/dist-packages/torch/cuda/__init__.py\u001b[0m in \u001b[0;36mtype\u001b[0;34m(self, *args, **kwargs)\u001b[0m\n\u001b[1;32m    368\u001b[0m     \u001b[0;32mdef\u001b[0m \u001b[0mtype\u001b[0m\u001b[0;34m(\u001b[0m\u001b[0mself\u001b[0m\u001b[0;34m,\u001b[0m \u001b[0;34m*\u001b[0m\u001b[0margs\u001b[0m\u001b[0;34m,\u001b[0m \u001b[0;34m**\u001b[0m\u001b[0mkwargs\u001b[0m\u001b[0;34m)\u001b[0m\u001b[0;34m:\u001b[0m\u001b[0;34m\u001b[0m\u001b[0m\n\u001b[1;32m    369\u001b[0m         \u001b[0;32mwith\u001b[0m \u001b[0mdevice\u001b[0m\u001b[0;34m(\u001b[0m\u001b[0mself\u001b[0m\u001b[0;34m.\u001b[0m\u001b[0mget_device\u001b[0m\u001b[0;34m(\u001b[0m\u001b[0;34m)\u001b[0m\u001b[0;34m)\u001b[0m\u001b[0;34m:\u001b[0m\u001b[0;34m\u001b[0m\u001b[0m\n\u001b[0;32m--> 370\u001b[0;31m             \u001b[0;32mreturn\u001b[0m \u001b[0msuper\u001b[0m\u001b[0;34m(\u001b[0m\u001b[0m_CudaBase\u001b[0m\u001b[0;34m,\u001b[0m \u001b[0mself\u001b[0m\u001b[0;34m)\u001b[0m\u001b[0;34m.\u001b[0m\u001b[0mtype\u001b[0m\u001b[0;34m(\u001b[0m\u001b[0;34m*\u001b[0m\u001b[0margs\u001b[0m\u001b[0;34m,\u001b[0m \u001b[0;34m**\u001b[0m\u001b[0mkwargs\u001b[0m\u001b[0;34m)\u001b[0m\u001b[0;34m\u001b[0m\u001b[0m\n\u001b[0m\u001b[1;32m    371\u001b[0m \u001b[0;34m\u001b[0m\u001b[0m\n\u001b[1;32m    372\u001b[0m     \u001b[0m__new__\u001b[0m \u001b[0;34m=\u001b[0m \u001b[0m_lazy_new\u001b[0m\u001b[0;34m\u001b[0m\u001b[0m\n",
      "\u001b[0;32m/usr/local/lib/python3.5/dist-packages/torch/_utils.py\u001b[0m in \u001b[0;36m_type\u001b[0;34m(self, new_type, async)\u001b[0m\n\u001b[1;32m     36\u001b[0m     \u001b[0;32mif\u001b[0m \u001b[0mnew_type\u001b[0m\u001b[0;34m.\u001b[0m\u001b[0mis_sparse\u001b[0m\u001b[0;34m:\u001b[0m\u001b[0;34m\u001b[0m\u001b[0m\n\u001b[1;32m     37\u001b[0m         \u001b[0;32mraise\u001b[0m \u001b[0mRuntimeError\u001b[0m\u001b[0;34m(\u001b[0m\u001b[0;34m\"Cannot cast dense tensor to sparse tensor\"\u001b[0m\u001b[0;34m)\u001b[0m\u001b[0;34m\u001b[0m\u001b[0m\n\u001b[0;32m---> 38\u001b[0;31m     \u001b[0;32mreturn\u001b[0m \u001b[0mnew_type\u001b[0m\u001b[0;34m(\u001b[0m\u001b[0mself\u001b[0m\u001b[0;34m.\u001b[0m\u001b[0msize\u001b[0m\u001b[0;34m(\u001b[0m\u001b[0;34m)\u001b[0m\u001b[0;34m)\u001b[0m\u001b[0;34m.\u001b[0m\u001b[0mcopy_\u001b[0m\u001b[0;34m(\u001b[0m\u001b[0mself\u001b[0m\u001b[0;34m,\u001b[0m \u001b[0masync\u001b[0m\u001b[0;34m)\u001b[0m\u001b[0;34m\u001b[0m\u001b[0m\n\u001b[0m\u001b[1;32m     39\u001b[0m \u001b[0;34m\u001b[0m\u001b[0m\n\u001b[1;32m     40\u001b[0m \u001b[0;34m\u001b[0m\u001b[0m\n",
      "\u001b[0;31mKeyboardInterrupt\u001b[0m: "
     ]
    }
   ],
   "source": [
    "for z in range(137,301):\n",
    "    detect_cracks(z, src_cv, dst_cv, src_chunk_dim, dst_chunk_dim)"
   ]
  },
  {
   "cell_type": "code",
   "execution_count": null,
   "metadata": {},
   "outputs": [],
   "source": []
  }
 ],
 "metadata": {
  "kernelspec": {
   "display_name": "Python 3",
   "language": "python",
   "name": "python3"
  },
  "language_info": {
   "codemirror_mode": {
    "name": "ipython",
    "version": 3
   },
   "file_extension": ".py",
   "mimetype": "text/x-python",
   "name": "python",
   "nbconvert_exporter": "python",
   "pygments_lexer": "ipython3",
   "version": "3.5.2"
  }
 },
 "nbformat": 4,
 "nbformat_minor": 2
}
